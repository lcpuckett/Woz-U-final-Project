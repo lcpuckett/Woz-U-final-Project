{
 "cells": [
  {
   "cell_type": "code",
   "execution_count": 1,
   "id": "f7568549",
   "metadata": {},
   "outputs": [],
   "source": [
    "import pandas as pd\n",
    "import numpy as np\n",
    "import scipy\n",
    "from scipy import stats\n",
    "from statsmodels.stats.multicomp import pairwise_tukeyhsd\n",
    "from statsmodels.stats.multicomp import MultiComparison\n",
    "import seaborn as sns"
   ]
  },
  {
   "cell_type": "code",
   "execution_count": 2,
   "id": "767b9ec2",
   "metadata": {},
   "outputs": [],
   "source": [
    "uac = pd.read_csv(\"Unemployment and Crime.csv\")"
   ]
  },
  {
   "cell_type": "code",
   "execution_count": 3,
   "id": "55cb4f4c",
   "metadata": {},
   "outputs": [],
   "source": [
    "uac1 = uac[['Assault', 'Unemploy_Georgia']]"
   ]
  },
  {
   "cell_type": "code",
   "execution_count": 4,
   "id": "ad6b2210",
   "metadata": {},
   "outputs": [
    {
     "data": {
      "text/html": [
       "<div>\n",
       "<style scoped>\n",
       "    .dataframe tbody tr th:only-of-type {\n",
       "        vertical-align: middle;\n",
       "    }\n",
       "\n",
       "    .dataframe tbody tr th {\n",
       "        vertical-align: top;\n",
       "    }\n",
       "\n",
       "    .dataframe thead th {\n",
       "        text-align: right;\n",
       "    }\n",
       "</style>\n",
       "<table border=\"1\" class=\"dataframe\">\n",
       "  <thead>\n",
       "    <tr style=\"text-align: right;\">\n",
       "      <th></th>\n",
       "      <th>Assault</th>\n",
       "      <th>Unemploy_Georgia</th>\n",
       "    </tr>\n",
       "  </thead>\n",
       "  <tbody>\n",
       "    <tr>\n",
       "      <th>0</th>\n",
       "      <td>1736</td>\n",
       "      <td>0.091</td>\n",
       "    </tr>\n",
       "    <tr>\n",
       "      <th>1</th>\n",
       "      <td>1328</td>\n",
       "      <td>0.086</td>\n",
       "    </tr>\n",
       "    <tr>\n",
       "      <th>2</th>\n",
       "      <td>1685</td>\n",
       "      <td>0.082</td>\n",
       "    </tr>\n",
       "    <tr>\n",
       "      <th>3</th>\n",
       "      <td>1709</td>\n",
       "      <td>0.079</td>\n",
       "    </tr>\n",
       "    <tr>\n",
       "      <th>4</th>\n",
       "      <td>1867</td>\n",
       "      <td>0.082</td>\n",
       "    </tr>\n",
       "  </tbody>\n",
       "</table>\n",
       "</div>"
      ],
      "text/plain": [
       "   Assault  Unemploy_Georgia\n",
       "0     1736             0.091\n",
       "1     1328             0.086\n",
       "2     1685             0.082\n",
       "3     1709             0.079\n",
       "4     1867             0.082"
      ]
     },
     "execution_count": 4,
     "metadata": {},
     "output_type": "execute_result"
    }
   ],
   "source": [
    "uac1.head()"
   ]
  },
  {
   "cell_type": "markdown",
   "id": "bfaae97b",
   "metadata": {},
   "source": [
    "## Test Assumptions"
   ]
  },
  {
   "cell_type": "code",
   "execution_count": 5,
   "id": "788df350",
   "metadata": {},
   "outputs": [
    {
     "name": "stderr",
     "output_type": "stream",
     "text": [
      "<ipython-input-5-1494953dd90a>:1: SettingWithCopyWarning: \n",
      "A value is trying to be set on a copy of a slice from a DataFrame\n",
      "\n",
      "See the caveats in the documentation: https://pandas.pydata.org/pandas-docs/stable/user_guide/indexing.html#returning-a-view-versus-a-copy\n",
      "  uac1.dropna(inplace = True)\n"
     ]
    }
   ],
   "source": [
    "uac1.dropna(inplace = True)"
   ]
  },
  {
   "cell_type": "code",
   "execution_count": 6,
   "id": "a93a8775",
   "metadata": {},
   "outputs": [
    {
     "name": "stderr",
     "output_type": "stream",
     "text": [
      "/Users/lescrone/opt/anaconda3/lib/python3.8/site-packages/seaborn/distributions.py:2557: FutureWarning: `distplot` is a deprecated function and will be removed in a future version. Please adapt your code to use either `displot` (a figure-level function with similar flexibility) or `histplot` (an axes-level function for histograms).\n",
      "  warnings.warn(msg, FutureWarning)\n"
     ]
    },
    {
     "data": {
      "text/plain": [
       "<AxesSubplot:xlabel='Assault', ylabel='Density'>"
      ]
     },
     "execution_count": 6,
     "metadata": {},
     "output_type": "execute_result"
    },
    {
     "data": {
      "image/png": "[encoded data removed]",
      "text/plain": [
       "<Figure size 432x288 with 1 Axes>"
      ]
     },
     "metadata": {
      "needs_background": "light"
     },
     "output_type": "display_data"
    }
   ],
   "source": [
    "sns.distplot(uac1['Assault'])"
   ]
  },
  {
   "cell_type": "code",
   "execution_count": 7,
   "id": "a9ce99b3",
   "metadata": {},
   "outputs": [
    {
     "name": "stderr",
     "output_type": "stream",
     "text": [
      "<ipython-input-7-94a43a0cd903>:1: SettingWithCopyWarning: \n",
      "A value is trying to be set on a copy of a slice from a DataFrame.\n",
      "Try using .loc[row_indexer,col_indexer] = value instead\n",
      "\n",
      "See the caveats in the documentation: https://pandas.pydata.org/pandas-docs/stable/user_guide/indexing.html#returning-a-view-versus-a-copy\n",
      "  uac1['AssaultSQRT'] = np.sqrt(uac1['Assault'])\n"
     ]
    }
   ],
   "source": [
    "uac1['AssaultSQRT'] = np.sqrt(uac1['Assault'])"
   ]
  },
  {
   "cell_type": "code",
   "execution_count": 8,
   "id": "e462ac1e",
   "metadata": {},
   "outputs": [
    {
     "data": {
      "text/html": [
       "<div>\n",
       "<style scoped>\n",
       "    .dataframe tbody tr th:only-of-type {\n",
       "        vertical-align: middle;\n",
       "    }\n",
       "\n",
       "    .dataframe tbody tr th {\n",
       "        vertical-align: top;\n",
       "    }\n",
       "\n",
       "    .dataframe thead th {\n",
       "        text-align: right;\n",
       "    }\n",
       "</style>\n",
       "<table border=\"1\" class=\"dataframe\">\n",
       "  <thead>\n",
       "    <tr style=\"text-align: right;\">\n",
       "      <th></th>\n",
       "      <th>Assault</th>\n",
       "      <th>Unemploy_Georgia</th>\n",
       "      <th>AssaultSQRT</th>\n",
       "    </tr>\n",
       "  </thead>\n",
       "  <tbody>\n",
       "    <tr>\n",
       "      <th>0</th>\n",
       "      <td>1736</td>\n",
       "      <td>0.091</td>\n",
       "      <td>41.665333</td>\n",
       "    </tr>\n",
       "    <tr>\n",
       "      <th>1</th>\n",
       "      <td>1328</td>\n",
       "      <td>0.086</td>\n",
       "      <td>36.441734</td>\n",
       "    </tr>\n",
       "    <tr>\n",
       "      <th>2</th>\n",
       "      <td>1685</td>\n",
       "      <td>0.082</td>\n",
       "      <td>41.048752</td>\n",
       "    </tr>\n",
       "    <tr>\n",
       "      <th>3</th>\n",
       "      <td>1709</td>\n",
       "      <td>0.079</td>\n",
       "      <td>41.340053</td>\n",
       "    </tr>\n",
       "    <tr>\n",
       "      <th>4</th>\n",
       "      <td>1867</td>\n",
       "      <td>0.082</td>\n",
       "      <td>43.208795</td>\n",
       "    </tr>\n",
       "  </tbody>\n",
       "</table>\n",
       "</div>"
      ],
      "text/plain": [
       "   Assault  Unemploy_Georgia  AssaultSQRT\n",
       "0     1736             0.091    41.665333\n",
       "1     1328             0.086    36.441734\n",
       "2     1685             0.082    41.048752\n",
       "3     1709             0.079    41.340053\n",
       "4     1867             0.082    43.208795"
      ]
     },
     "execution_count": 8,
     "metadata": {},
     "output_type": "execute_result"
    }
   ],
   "source": [
    "uac1.head()"
   ]
  },
  {
   "cell_type": "code",
   "execution_count": 9,
   "id": "de754845",
   "metadata": {},
   "outputs": [
    {
     "name": "stderr",
     "output_type": "stream",
     "text": [
      "/Users/lescrone/opt/anaconda3/lib/python3.8/site-packages/seaborn/distributions.py:2557: FutureWarning: `distplot` is a deprecated function and will be removed in a future version. Please adapt your code to use either `displot` (a figure-level function with similar flexibility) or `histplot` (an axes-level function for histograms).\n",
      "  warnings.warn(msg, FutureWarning)\n"
     ]
    },
    {
     "data": {
      "text/plain": [
       "<AxesSubplot:xlabel='AssaultSQRT', ylabel='Density'>"
      ]
     },
     "execution_count": 9,
     "metadata": {},
     "output_type": "execute_result"
    },
    {
     "data": {
      "image/png": "[encoded data removed]",
      "text/plain": [
       "<Figure size 432x288 with 1 Axes>"
      ]
     },
     "metadata": {
      "needs_background": "light"
     },
     "output_type": "display_data"
    }
   ],
   "source": [
    "sns.distplot(uac1['AssaultSQRT'])"
   ]
  },
  {
   "cell_type": "code",
   "execution_count": 10,
   "id": "4aed0497",
   "metadata": {},
   "outputs": [
    {
     "data": {
      "text/plain": [
       "BartlettResult(statistic=329.5290868308278, pvalue=1.2171751940153792e-73)"
      ]
     },
     "execution_count": 10,
     "metadata": {},
     "output_type": "execute_result"
    }
   ],
   "source": [
    "scipy.stats.bartlett(uac1['AssaultSQRT'], uac1['Unemploy_Georgia'])"
   ]
  },
  {
   "cell_type": "code",
   "execution_count": 11,
   "id": "0a49f2b5",
   "metadata": {},
   "outputs": [
    {
     "data": {
      "text/plain": [
       "FlignerResult(statistic=44.81047107632404, pvalue=2.1705882542656418e-11)"
      ]
     },
     "execution_count": 11,
     "metadata": {},
     "output_type": "execute_result"
    }
   ],
   "source": [
    "scipy.stats.fligner(uac1['AssaultSQRT'], uac1['Unemploy_Georgia'])"
   ]
  },
  {
   "cell_type": "markdown",
   "id": "6f1b432c",
   "metadata": {},
   "source": [
    "## Sample Size"
   ]
  },
  {
   "cell_type": "code",
   "execution_count": 12,
   "id": "fdb6c2dc",
   "metadata": {},
   "outputs": [
    {
     "name": "stdout",
     "output_type": "stream",
     "text": [
      "<class 'pandas.core.frame.DataFrame'>\n",
      "Int64Index: 36 entries, 0 to 35\n",
      "Data columns (total 3 columns):\n",
      " #   Column            Non-Null Count  Dtype  \n",
      "---  ------            --------------  -----  \n",
      " 0   Assault           36 non-null     int64  \n",
      " 1   Unemploy_Georgia  36 non-null     float64\n",
      " 2   AssaultSQRT       36 non-null     float64\n",
      "dtypes: float64(2), int64(1)\n",
      "memory usage: 1.1 KB\n"
     ]
    }
   ],
   "source": [
    "uac1.info()"
   ]
  },
  {
   "cell_type": "markdown",
   "id": "19b150bc",
   "metadata": {},
   "source": [
    "## Independence"
   ]
  },
  {
   "cell_type": "markdown",
   "id": "ea3c9f6b",
   "metadata": {},
   "source": [
    "## Analysis"
   ]
  },
  {
   "cell_type": "code",
   "execution_count": 13,
   "id": "9c7e5f69",
   "metadata": {},
   "outputs": [
    {
     "data": {
      "text/plain": [
       "0.082    3\n",
       "0.057    3\n",
       "0.073    3\n",
       "0.060    2\n",
       "0.080    2\n",
       "0.054    2\n",
       "0.079    2\n",
       "0.066    2\n",
       "0.076    2\n",
       "0.064    2\n",
       "0.063    2\n",
       "0.091    1\n",
       "0.061    1\n",
       "0.062    1\n",
       "0.072    1\n",
       "0.069    1\n",
       "0.074    1\n",
       "0.067    1\n",
       "0.086    1\n",
       "0.075    1\n",
       "0.089    1\n",
       "0.088    1\n",
       "Name: Unemploy_Georgia, dtype: int64"
      ]
     },
     "execution_count": 13,
     "metadata": {},
     "output_type": "execute_result"
    }
   ],
   "source": [
    "uac1.Unemploy_Georgia.value_counts()"
   ]
  },
  {
   "cell_type": "code",
   "execution_count": 14,
   "id": "c552e905",
   "metadata": {},
   "outputs": [
    {
     "name": "stdout",
     "output_type": "stream",
     "text": [
      " Multiple Comparison of Means - Tukey HSD, FWER=0.05 \n",
      "=====================================================\n",
      "group1 group2 meandiff p-adj   lower    upper  reject\n",
      "-----------------------------------------------------\n",
      " 0.054  0.057   1.3584    0.9  -5.9319  8.6488  False\n",
      " 0.054   0.06   1.8236    0.9  -6.1626  9.8098  False\n",
      " 0.054  0.061  -0.8011    0.9 -10.5821  8.9799  False\n",
      " 0.054  0.062   3.7131    0.9  -6.0679 13.4941  False\n",
      " 0.054  0.063  -2.8123    0.9 -10.7984  5.1739  False\n",
      " 0.054  0.064   2.4524    0.9  -5.5337 10.4386  False\n",
      " 0.054  0.066   0.7224    0.9  -7.2638  8.7086  False\n",
      " 0.054  0.067   1.6438    0.9  -8.1372 11.4249  False\n",
      " 0.054  0.069   2.2451    0.9  -7.5359 12.0261  False\n",
      " 0.054  0.072   5.4674 0.6601  -4.3136 15.2484  False\n",
      " 0.054  0.073  -0.9518    0.9  -8.2422  6.3385  False\n",
      " 0.054  0.074  -1.9279    0.9  -11.709  7.8531  False\n",
      " 0.054  0.075   -4.542 0.8665 -14.3231   5.239  False\n",
      " 0.054  0.076   3.2604    0.9  -4.7257 11.2466  False\n",
      " 0.054  0.079   0.3303    0.9  -7.6558  8.3165  False\n",
      " 0.054   0.08   1.7429    0.9  -6.2432  9.7291  False\n",
      " 0.054  0.082   0.8828    0.9  -6.4076  8.1731  False\n",
      " 0.054  0.086  -4.8563 0.7964 -14.6373  4.9248  False\n",
      " 0.054  0.088   0.8446    0.9  -8.9364 10.6256  False\n",
      " 0.054  0.089    3.401    0.9    -6.38  13.182  False\n",
      " 0.054  0.091   0.3673    0.9  -9.4137 10.1484  False\n",
      " 0.057   0.06   0.4652    0.9  -6.8252  7.7555  False\n",
      " 0.057  0.061  -2.1595    0.9 -11.3811  7.0621  False\n",
      " 0.057  0.062   2.3547    0.9  -6.8669 11.5763  False\n",
      " 0.057  0.063  -4.1707 0.6315  -11.461  3.1197  False\n",
      " 0.057  0.064    1.094    0.9  -6.1963  8.3844  False\n",
      " 0.057  0.066   -0.636    0.9  -7.9264  6.6543  False\n",
      " 0.057  0.067   0.2854    0.9  -8.9362  9.5071  False\n",
      " 0.057  0.069   0.8867    0.9   -8.335 10.1083  False\n",
      " 0.057  0.072    4.109    0.9  -5.1127 13.3306  False\n",
      " 0.057  0.073  -2.3102    0.9  -8.8309  4.2104  False\n",
      " 0.057  0.074  -3.2864    0.9  -12.508  5.9353  False\n",
      " 0.057  0.075  -5.9004 0.4844 -15.1221  3.3212  False\n",
      " 0.057  0.076    1.902    0.9  -5.3883  9.1924  False\n",
      " 0.057  0.079  -1.0281    0.9  -8.3184  6.2623  False\n",
      " 0.057   0.08   0.3845    0.9  -6.9058  7.6749  False\n",
      " 0.057  0.082  -0.4756    0.9  -6.9963   6.045  False\n",
      " 0.057  0.086  -6.2147 0.4105 -15.4363   3.007  False\n",
      " 0.057  0.088  -0.5138    0.9  -9.7354  8.7078  False\n",
      " 0.057  0.089   2.0426    0.9   -7.179 11.2642  False\n",
      " 0.057  0.091  -0.9911    0.9 -10.2127  8.2306  False\n",
      "  0.06  0.061  -2.6247    0.9 -12.4057  7.1564  False\n",
      "  0.06  0.062   1.8895    0.9  -7.8915 11.6705  False\n",
      "  0.06  0.063  -4.6358 0.6132  -12.622  3.3503  False\n",
      "  0.06  0.064   0.6289    0.9  -7.3573   8.615  False\n",
      "  0.06  0.066  -1.1012    0.9  -9.0874   6.885  False\n",
      "  0.06  0.067  -0.1798    0.9  -9.9608  9.6013  False\n",
      "  0.06  0.069   0.4215    0.9  -9.3595 10.2025  False\n",
      "  0.06  0.072   3.6438    0.9  -6.1372 13.4248  False\n",
      "  0.06  0.073  -2.7754    0.9 -10.0658  4.5149  False\n",
      "  0.06  0.074  -3.7515    0.9 -13.5326  6.0295  False\n",
      "  0.06  0.075  -6.3656 0.4609 -16.1466  3.4154  False\n",
      "  0.06  0.076   1.4368    0.9  -6.5493   9.423  False\n",
      "  0.06  0.079  -1.4933    0.9  -9.4794  6.4929  False\n",
      "  0.06   0.08  -0.0807    0.9  -8.0668  7.9055  False\n",
      "  0.06  0.082  -0.9408    0.9  -8.2312  6.3495  False\n",
      "  0.06  0.086  -6.6798  0.391 -16.4609  3.1012  False\n",
      "  0.06  0.088   -0.979    0.9   -10.76  8.8021  False\n",
      "  0.06  0.089   1.5774    0.9  -8.2036 11.3584  False\n",
      "  0.06  0.091  -1.4562    0.9 -11.2373  8.3248  False\n",
      " 0.061  0.062   4.5142    0.9    -6.78 15.8083  False\n",
      " 0.061  0.063  -2.0112    0.9 -11.7922  7.7698  False\n",
      " 0.061  0.064   3.2535    0.9  -6.5275 13.0345  False\n",
      " 0.061  0.066   1.5235    0.9  -8.2575 11.3045  False\n",
      " 0.061  0.067   2.4449    0.9  -8.8492 13.7391  False\n",
      " 0.061  0.069   3.0462    0.9   -8.248 14.3403  False\n",
      " 0.061  0.072   6.2685 0.6688  -5.0257 17.5626  False\n",
      " 0.061  0.073  -0.1507    0.9  -9.3724  9.0709  False\n",
      " 0.061  0.074  -1.1269    0.9  -12.421 10.1673  False\n",
      " 0.061  0.075   -3.741    0.9 -15.0351  7.5532  False\n",
      " 0.061  0.076   4.0615    0.9  -5.7195 13.8425  False\n",
      " 0.061  0.079   1.1314    0.9  -8.6496 10.9124  False\n",
      " 0.061   0.08    2.544    0.9   -7.237  12.325  False\n",
      " 0.061  0.082   1.6839    0.9  -7.5378 10.9055  False\n",
      " 0.061  0.086  -4.0552    0.9 -15.3493   7.239  False\n",
      " 0.061  0.088   1.6457    0.9  -9.6484 12.9398  False\n",
      " 0.061  0.089   4.2021    0.9  -7.0921 15.4962  False\n",
      " 0.061  0.091   1.1684    0.9 -10.1257 12.4626  False\n",
      " 0.062  0.063  -6.5254 0.4253 -16.3064  3.2556  False\n",
      " 0.062  0.064  -1.2607    0.9 -11.0417  8.5203  False\n",
      " 0.062  0.066  -2.9907    0.9 -12.7717  6.7903  False\n",
      " 0.062  0.067  -2.0693    0.9 -13.3634  9.2249  False\n",
      " 0.062  0.069   -1.468    0.9 -12.7622  9.8261  False\n",
      " 0.062  0.072   1.7543    0.9  -9.5399 13.0484  False\n",
      " 0.062  0.073  -4.6649  0.776 -13.8866  4.5567  False\n",
      " 0.062  0.074  -5.6411   0.79 -16.9352  5.6531  False\n",
      " 0.062  0.075  -8.2552 0.2974 -19.5493   3.039  False\n",
      " 0.062  0.076  -0.4527    0.9 -10.2337  9.3283  False\n",
      " 0.062  0.079  -3.3828    0.9 -13.1638  6.3982  False\n",
      " 0.062   0.08  -1.9702    0.9 -11.7512  7.8108  False\n",
      " 0.062  0.082  -2.8303    0.9  -12.052  6.3913  False\n",
      " 0.062  0.086  -8.5694  0.252 -19.8635  2.7248  False\n",
      " 0.062  0.088  -2.8685    0.9 -14.1626  8.4257  False\n",
      " 0.062  0.089  -0.3121    0.9 -11.6063  10.982  False\n",
      " 0.062  0.091  -3.3458    0.9 -14.6399  7.9484  False\n",
      " 0.063  0.064   5.2647 0.4426  -2.7215 13.2509  False\n",
      " 0.063  0.066   3.5347    0.9  -4.4515 11.5208  False\n",
      " 0.063  0.067   4.4561 0.8857  -5.3249 14.2371  False\n",
      " 0.063  0.069   5.0574 0.7516  -4.7237 14.8384  False\n",
      " 0.063  0.072   8.2796 0.1442  -1.5014 18.0607  False\n",
      " 0.063  0.073   1.8604    0.9  -5.4299  9.1508  False\n",
      " 0.063  0.074   0.8843    0.9  -8.8967 10.6653  False\n",
      " 0.063  0.075  -1.7298    0.9 -11.5108  8.0512  False\n",
      " 0.063  0.076   6.0727 0.2494  -1.9135 14.0589  False\n",
      " 0.063  0.079   3.1426    0.9  -4.8436 11.1288  False\n",
      " 0.063   0.08   4.5552 0.6352   -3.431 12.5414  False\n",
      " 0.063  0.082    3.695 0.7739  -3.5953 10.9854  False\n",
      " 0.063  0.086   -2.044    0.9  -11.825   7.737  False\n",
      " 0.063  0.088   3.6569    0.9  -6.1241 13.4379  False\n",
      " 0.063  0.089   6.2133  0.494  -3.5678 15.9943  False\n",
      " 0.063  0.091   3.1796    0.9  -6.6014 12.9606  False\n",
      " 0.064  0.066    -1.73    0.9  -9.7162  6.2561  False\n",
      " 0.064  0.067  -0.8086    0.9 -10.5896  8.9724  False\n",
      " 0.064  0.069  -0.2073    0.9  -9.9884  9.5737  False\n",
      " 0.064  0.072   3.0149    0.9  -6.7661  12.796  False\n",
      " 0.064  0.073  -3.4043 0.8609 -10.6946  3.8861  False\n",
      " 0.064  0.074  -4.3804    0.9 -14.1614  5.4006  False\n",
      " 0.064  0.075  -6.9945 0.3253 -16.7755  2.7865  False\n",
      " 0.064  0.076    0.808    0.9  -7.1782  8.7942  False\n",
      " 0.064  0.079  -2.1221    0.9 -10.1083  5.8641  False\n",
      " 0.064   0.08  -0.7095    0.9  -8.6957  7.2767  False\n",
      " 0.064  0.082  -1.5697    0.9    -8.86  5.7207  False\n",
      " 0.064  0.086  -7.3087 0.2702 -17.0897  2.4723  False\n",
      " 0.064  0.088  -1.6078    0.9 -11.3888  8.1732  False\n",
      " 0.064  0.089   0.9486    0.9  -8.8325 10.7296  False\n",
      " 0.064  0.091  -2.0851    0.9 -11.8661  7.6959  False\n",
      " 0.066  0.067   0.9214    0.9  -8.8596 10.7024  False\n",
      " 0.066  0.069   1.5227    0.9  -8.2583 11.3037  False\n",
      " 0.066  0.072    4.745 0.8213   -5.036  14.526  False\n",
      " 0.066  0.073  -1.6742    0.9  -8.9646  5.6161  False\n",
      " 0.066  0.074  -2.6504    0.9 -12.4314  7.1307  False\n",
      " 0.066  0.075  -5.2644 0.7054 -15.0455  4.5166  False\n",
      " 0.066  0.076    2.538    0.9  -5.4481 10.5242  False\n",
      " 0.066  0.079  -0.3921    0.9  -8.3782  7.5941  False\n",
      " 0.066   0.08   1.0205    0.9  -6.9656  9.0067  False\n",
      " 0.066  0.082   0.1604    0.9    -7.13  7.4507  False\n",
      " 0.066  0.086  -5.5787 0.6353 -15.3597  4.2024  False\n",
      " 0.066  0.088   0.1222    0.9  -9.6588  9.9032  False\n",
      " 0.066  0.089   2.6786    0.9  -7.1024 12.4596  False\n",
      " 0.066  0.091  -0.3551    0.9 -10.1361   9.426  False\n",
      " 0.067  0.069   0.6013    0.9 -10.6929 11.8954  False\n",
      " 0.067  0.072   3.8236    0.9  -7.4706 15.1177  False\n",
      " 0.067  0.073  -2.5957    0.9 -11.8173   6.626  False\n",
      " 0.067  0.074  -3.5718    0.9 -14.8659  7.7224  False\n",
      " 0.067  0.075  -6.1859 0.6847   -17.48  5.1083  False\n",
      " 0.067  0.076   1.6166    0.9  -8.1644 11.3976  False\n",
      " 0.067  0.079  -1.3135    0.9 -11.0945  8.4675  False\n",
      " 0.067   0.08   0.0991    0.9  -9.6819  9.8801  False\n",
      " 0.067  0.082  -0.7611    0.9  -9.9827  8.4606  False\n",
      " 0.067  0.086  -6.5001  0.624 -17.7942  4.7941  False\n",
      " 0.067  0.088  -0.7992    0.9 -12.0934 10.4949  False\n",
      " 0.067  0.089   1.7572    0.9   -9.537 13.0513  False\n",
      " 0.067  0.091  -1.2765    0.9 -12.5706 10.0177  False\n",
      " 0.069  0.072   3.2223    0.9  -8.0719 14.5164  False\n",
      " 0.069  0.073  -3.1969    0.9 -12.4185  6.0247  False\n",
      " 0.069  0.074   -4.173    0.9 -15.4672  7.1211  False\n",
      " 0.069  0.075  -6.7871 0.5686 -18.0813   4.507  False\n",
      " 0.069  0.076   1.0153    0.9  -8.7657 10.7964  False\n",
      " 0.069  0.079  -1.9148    0.9 -11.6958  7.8663  False\n",
      " 0.069   0.08  -0.5022    0.9 -10.2832  9.2789  False\n",
      " 0.069  0.082  -1.3623    0.9 -10.5839  7.8593  False\n",
      " 0.069  0.086  -7.1013 0.5079 -18.3955  4.1928  False\n",
      " 0.069  0.088  -1.4005    0.9 -12.6946  9.8937  False\n",
      " 0.069  0.089   1.1559    0.9 -10.1382 12.4501  False\n",
      " 0.069  0.091  -1.8777    0.9 -13.1719  9.4164  False\n",
      " 0.072  0.073  -6.4192 0.3632 -15.6408  2.8024  False\n",
      " 0.072  0.074  -7.3953 0.4523 -18.6895  3.8988  False\n",
      " 0.072  0.075 -10.0094 0.1107 -21.3036  1.2847  False\n",
      " 0.072  0.076  -2.2069    0.9  -11.988  7.5741  False\n",
      " 0.072  0.079  -5.1371 0.7338 -14.9181   4.644  False\n",
      " 0.072   0.08  -3.7245    0.9 -13.5055  6.0566  False\n",
      " 0.072  0.082  -4.5846  0.795 -13.8062   4.637  False\n",
      " 0.072  0.086 -10.3236 0.0912 -21.6178  0.9705  False\n",
      " 0.072  0.088  -4.6228    0.9 -15.9169  6.6714  False\n",
      " 0.072  0.089  -2.0664    0.9 -13.3605  9.2278  False\n",
      " 0.072  0.091     -5.1 0.8945 -16.3942  6.1941  False\n",
      " 0.073  0.074  -0.9761    0.9 -10.1978  8.2455  False\n",
      " 0.073  0.075  -3.5902    0.9 -12.8118  5.6314  False\n",
      " 0.073  0.076   4.2123 0.6191  -3.0781 11.5026  False\n",
      " 0.073  0.079   1.2822    0.9  -6.0082  8.5725  False\n",
      " 0.073   0.08   2.6947    0.9  -4.5956  9.9851  False\n",
      " 0.073  0.082   1.8346    0.9  -4.6861  8.3553  False\n",
      " 0.073  0.086  -3.9044    0.9 -13.1261  5.3172  False\n",
      " 0.073  0.088   1.7964    0.9  -7.4252 11.0181  False\n",
      " 0.073  0.089   4.3528 0.8498  -4.8688 13.5745  False\n",
      " 0.073  0.091   1.3192    0.9  -7.9025 10.5408  False\n",
      " 0.074  0.075  -2.6141    0.9 -13.9082  8.6801  False\n",
      " 0.074  0.076   5.1884 0.7224  -4.5926 14.9694  False\n",
      " 0.074  0.079   2.2583    0.9  -7.5227 12.0393  False\n",
      " 0.074   0.08   3.6709    0.9  -6.1101 13.4519  False\n",
      " 0.074  0.082   2.8107    0.9  -6.4109 12.0324  False\n",
      " 0.074  0.086  -2.9283    0.9 -14.2225  8.3658  False\n",
      " 0.074  0.088   2.7726    0.9  -8.5216 14.0667  False\n",
      " 0.074  0.089    5.329 0.8503  -5.9652 16.6231  False\n",
      " 0.074  0.091   2.2953    0.9  -8.9989 13.5894  False\n",
      " 0.075  0.076   7.8025 0.1979  -1.9785 17.5835  False\n",
      " 0.075  0.079   4.8724 0.7929  -4.9087 14.6534  False\n",
      " 0.075   0.08    6.285 0.4786  -3.4961  16.066  False\n",
      " 0.075  0.082   5.4248 0.5962  -3.7968 14.6464  False\n",
      " 0.075  0.086  -0.3142    0.9 -11.6084 10.9799  False\n",
      " 0.075  0.088   5.3867 0.8391  -5.9075 16.6808  False\n",
      " 0.075  0.089    7.943 0.3485  -3.3511 19.2372  False\n",
      " 0.075  0.091   4.9094    0.9  -6.3848 16.2035  False\n",
      " 0.076  0.079  -2.9301    0.9 -10.9163  5.0561  False\n",
      " 0.076   0.08  -1.5175    0.9  -9.5037  6.4687  False\n",
      " 0.076  0.082  -2.3777    0.9   -9.668  4.9127  False\n",
      " 0.076  0.086  -8.1167 0.1611 -17.8977  1.6643  False\n",
      " 0.076  0.088  -2.4158    0.9 -12.1968  7.3652  False\n",
      " 0.076  0.089   0.1406    0.9  -9.6404  9.9216  False\n",
      " 0.076  0.091  -2.8931    0.9 -12.6741  6.8879  False\n",
      " 0.079   0.08   1.4126    0.9  -6.5736  9.3988  False\n",
      " 0.079  0.082   0.5524    0.9  -6.7379  7.8428  False\n",
      " 0.079  0.086  -5.1866 0.7228 -14.9676  4.5944  False\n",
      " 0.079  0.088   0.5143    0.9  -9.2667 10.2953  False\n",
      " 0.079  0.089   3.0707    0.9  -6.7103 12.8517  False\n",
      " 0.079  0.091    0.037    0.9   -9.744   9.818  False\n",
      "  0.08  0.082  -0.8601    0.9  -8.1505  6.4302  False\n",
      "  0.08  0.086  -6.5992 0.4088 -16.3802  3.1818  False\n",
      "  0.08  0.088  -0.8983    0.9 -10.6793  8.8827  False\n",
      "  0.08  0.089   1.6581    0.9  -8.1229 11.4391  False\n",
      "  0.08  0.091  -1.3756    0.9 -11.1566  8.4054  False\n",
      " 0.082  0.086   -5.739 0.5219 -14.9607  3.4826  False\n",
      " 0.082  0.088  -0.0382    0.9  -9.2598  9.1835  False\n",
      " 0.082  0.089   2.5182    0.9  -6.7034 11.7399  False\n",
      " 0.082  0.091  -0.5154    0.9  -9.7371  8.7062  False\n",
      " 0.086  0.088   5.7009 0.7784  -5.5933  16.995  False\n",
      " 0.086  0.089   8.2573 0.2971  -3.0369 19.5514  False\n",
      " 0.086  0.091   5.2236 0.8706  -6.0705 16.5177  False\n",
      " 0.088  0.089   2.5564    0.9  -8.7378 13.8505  False\n",
      " 0.088  0.091  -0.4773    0.9 -11.7714 10.8169  False\n",
      " 0.089  0.091  -3.0337    0.9 -14.3278  8.2605  False\n",
      "-----------------------------------------------------\n"
     ]
    }
   ],
   "source": [
    "postHoc = MultiComparison(uac1['AssaultSQRT'], uac1['Unemploy_Georgia'])\n",
    "postHocResults = postHoc.tukeyhsd()\n",
    "print(postHocResults)"
   ]
  },
  {
   "cell_type": "code",
   "execution_count": 15,
   "id": "b4b693d2",
   "metadata": {},
   "outputs": [
    {
     "data": {
      "text/html": [
       "<div>\n",
       "<style scoped>\n",
       "    .dataframe tbody tr th:only-of-type {\n",
       "        vertical-align: middle;\n",
       "    }\n",
       "\n",
       "    .dataframe tbody tr th {\n",
       "        vertical-align: top;\n",
       "    }\n",
       "\n",
       "    .dataframe thead th {\n",
       "        text-align: right;\n",
       "    }\n",
       "</style>\n",
       "<table border=\"1\" class=\"dataframe\">\n",
       "  <thead>\n",
       "    <tr style=\"text-align: right;\">\n",
       "      <th></th>\n",
       "      <th>Assault</th>\n",
       "      <th>AssaultSQRT</th>\n",
       "    </tr>\n",
       "    <tr>\n",
       "      <th>Unemploy_Georgia</th>\n",
       "      <th></th>\n",
       "      <th></th>\n",
       "    </tr>\n",
       "  </thead>\n",
       "  <tbody>\n",
       "    <tr>\n",
       "      <th>0.054</th>\n",
       "      <td>1706.000000</td>\n",
       "      <td>41.297987</td>\n",
       "    </tr>\n",
       "    <tr>\n",
       "      <th>0.057</th>\n",
       "      <td>1820.666667</td>\n",
       "      <td>42.656401</td>\n",
       "    </tr>\n",
       "    <tr>\n",
       "      <th>0.060</th>\n",
       "      <td>1860.500000</td>\n",
       "      <td>43.121580</td>\n",
       "    </tr>\n",
       "    <tr>\n",
       "      <th>0.061</th>\n",
       "      <td>1640.000000</td>\n",
       "      <td>40.496913</td>\n",
       "    </tr>\n",
       "    <tr>\n",
       "      <th>0.062</th>\n",
       "      <td>2026.000000</td>\n",
       "      <td>45.011110</td>\n",
       "    </tr>\n",
       "    <tr>\n",
       "      <th>0.063</th>\n",
       "      <td>1485.000000</td>\n",
       "      <td>38.485731</td>\n",
       "    </tr>\n",
       "    <tr>\n",
       "      <th>0.064</th>\n",
       "      <td>1915.000000</td>\n",
       "      <td>43.750431</td>\n",
       "    </tr>\n",
       "    <tr>\n",
       "      <th>0.066</th>\n",
       "      <td>1766.000000</td>\n",
       "      <td>42.020391</td>\n",
       "    </tr>\n",
       "    <tr>\n",
       "      <th>0.067</th>\n",
       "      <td>1844.000000</td>\n",
       "      <td>42.941821</td>\n",
       "    </tr>\n",
       "    <tr>\n",
       "      <th>0.069</th>\n",
       "      <td>1896.000000</td>\n",
       "      <td>43.543082</td>\n",
       "    </tr>\n",
       "    <tr>\n",
       "      <th>0.072</th>\n",
       "      <td>2187.000000</td>\n",
       "      <td>46.765372</td>\n",
       "    </tr>\n",
       "    <tr>\n",
       "      <th>0.073</th>\n",
       "      <td>1632.000000</td>\n",
       "      <td>40.346168</td>\n",
       "    </tr>\n",
       "    <tr>\n",
       "      <th>0.074</th>\n",
       "      <td>1550.000000</td>\n",
       "      <td>39.370039</td>\n",
       "    </tr>\n",
       "    <tr>\n",
       "      <th>0.075</th>\n",
       "      <td>1351.000000</td>\n",
       "      <td>36.755952</td>\n",
       "    </tr>\n",
       "    <tr>\n",
       "      <th>0.076</th>\n",
       "      <td>1987.500000</td>\n",
       "      <td>44.558423</td>\n",
       "    </tr>\n",
       "    <tr>\n",
       "      <th>0.079</th>\n",
       "      <td>1733.000000</td>\n",
       "      <td>41.628319</td>\n",
       "    </tr>\n",
       "    <tr>\n",
       "      <th>0.080</th>\n",
       "      <td>1858.500000</td>\n",
       "      <td>43.040914</td>\n",
       "    </tr>\n",
       "    <tr>\n",
       "      <th>0.082</th>\n",
       "      <td>1780.000000</td>\n",
       "      <td>42.180765</td>\n",
       "    </tr>\n",
       "    <tr>\n",
       "      <th>0.086</th>\n",
       "      <td>1328.000000</td>\n",
       "      <td>36.441734</td>\n",
       "    </tr>\n",
       "    <tr>\n",
       "      <th>0.088</th>\n",
       "      <td>1776.000000</td>\n",
       "      <td>42.142615</td>\n",
       "    </tr>\n",
       "    <tr>\n",
       "      <th>0.089</th>\n",
       "      <td>1998.000000</td>\n",
       "      <td>44.698993</td>\n",
       "    </tr>\n",
       "    <tr>\n",
       "      <th>0.091</th>\n",
       "      <td>1736.000000</td>\n",
       "      <td>41.665333</td>\n",
       "    </tr>\n",
       "  </tbody>\n",
       "</table>\n",
       "</div>"
      ],
      "text/plain": [
       "                      Assault  AssaultSQRT\n",
       "Unemploy_Georgia                          \n",
       "0.054             1706.000000    41.297987\n",
       "0.057             1820.666667    42.656401\n",
       "0.060             1860.500000    43.121580\n",
       "0.061             1640.000000    40.496913\n",
       "0.062             2026.000000    45.011110\n",
       "0.063             1485.000000    38.485731\n",
       "0.064             1915.000000    43.750431\n",
       "0.066             1766.000000    42.020391\n",
       "0.067             1844.000000    42.941821\n",
       "0.069             1896.000000    43.543082\n",
       "0.072             2187.000000    46.765372\n",
       "0.073             1632.000000    40.346168\n",
       "0.074             1550.000000    39.370039\n",
       "0.075             1351.000000    36.755952\n",
       "0.076             1987.500000    44.558423\n",
       "0.079             1733.000000    41.628319\n",
       "0.080             1858.500000    43.040914\n",
       "0.082             1780.000000    42.180765\n",
       "0.086             1328.000000    36.441734\n",
       "0.088             1776.000000    42.142615\n",
       "0.089             1998.000000    44.698993\n",
       "0.091             1736.000000    41.665333"
      ]
     },
     "execution_count": 15,
     "metadata": {},
     "output_type": "execute_result"
    }
   ],
   "source": [
    "uac1.groupby('Unemploy_Georgia').mean()"
   ]
  },
  {
   "cell_type": "code",
   "execution_count": null,
   "id": "6bc797f5",
   "metadata": {},
   "outputs": [],
   "source": []
  }
 ],
 "metadata": {
  "kernelspec": {
   "display_name": "Python 3",
   "language": "python",
   "name": "python3"
  },
  "language_info": {
   "codemirror_mode": {
    "name": "ipython",
    "version": 3
   },
   "file_extension": ".py",
   "mimetype": "text/x-python",
   "name": "python",
   "nbconvert_exporter": "python",
   "pygments_lexer": "ipython3",
   "version": "3.8.8"
  }
 },
 "nbformat": 4,
 "nbformat_minor": 5
}
