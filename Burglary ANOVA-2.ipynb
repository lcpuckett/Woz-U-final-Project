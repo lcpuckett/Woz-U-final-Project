{
 "cells": [
  {
   "cell_type": "code",
   "execution_count": 1,
   "id": "786b3f4f",
   "metadata": {},
   "outputs": [],
   "source": [
    "import pandas as pd\n",
    "import numpy as np\n",
    "import scipy\n",
    "from scipy import stats\n",
    "from statsmodels.stats.multicomp import pairwise_tukeyhsd\n",
    "from statsmodels.stats.multicomp import MultiComparison\n",
    "import seaborn as sns"
   ]
  },
  {
   "cell_type": "code",
   "execution_count": 1,
   "id": "24826bea",
   "metadata": {},
   "outputs": [
    {
     "data": {
      "application/javascript": [
       "(function(on) {\n",
       "const e=$( \"<a>Setup failed</a>\" );\n",
       "const ns=\"js_jupyter_suppress_warnings\";\n",
       "var cssrules=$(\"#\"+ns);\n",
       "if(!cssrules.length) cssrules = $(\"<style id='\"+ns+\"' type='text/css'>div.output_stderr { } </style>\").appendTo(\"head\");\n",
       "e.click(function() {\n",
       "    var s='Showing';  \n",
       "    cssrules.empty()\n",
       "    if(on) {\n",
       "        s='Hiding';\n",
       "        cssrules.append(\"div.output_stderr, div[data-mime-type*='.stderr'] { display:none; }\");\n",
       "    }\n",
       "    e.text(s+' warnings (click to toggle)');\n",
       "    on=!on;\n",
       "}).click();\n",
       "$(element).append(e);\n",
       "})(true);\n"
      ],
      "text/plain": [
       "<IPython.core.display.Javascript object>"
      ]
     },
     "metadata": {},
     "output_type": "display_data"
    }
   ],
   "source": [
    "%%javascript\n",
    "(function(on) {\n",
    "const e=$( \"<a>Setup failed</a>\" );\n",
    "const ns=\"js_jupyter_suppress_warnings\";\n",
    "var cssrules=$(\"#\"+ns);\n",
    "if(!cssrules.length) cssrules = $(\"<style id='\"+ns+\"' type='text/css'>div.output_stderr { } </style>\").appendTo(\"head\");\n",
    "e.click(function() {\n",
    "    var s='Showing';  \n",
    "    cssrules.empty()\n",
    "    if(on) {\n",
    "        s='Hiding';\n",
    "        cssrules.append(\"div.output_stderr, div[data-mime-type*='.stderr'] { display:none; }\");\n",
    "    }\n",
    "    e.text(s+' warnings (click to toggle)');\n",
    "    on=!on;\n",
    "}).click();\n",
    "$(element).append(e);\n",
    "})(true);"
   ]
  },
  {
   "cell_type": "code",
   "execution_count": 2,
   "id": "9ed8359e",
   "metadata": {},
   "outputs": [],
   "source": [
    "uac5 = pd.read_csv(\"Unemployment and Crime.csv\")"
   ]
  },
  {
   "cell_type": "code",
   "execution_count": 3,
   "id": "931400d7",
   "metadata": {},
   "outputs": [],
   "source": [
    "uac6 = uac[['Burglary', 'Unemploy_Georgia']]"
   ]
  },
  {
   "cell_type": "code",
   "execution_count": 4,
   "id": "78c65ca8",
   "metadata": {},
   "outputs": [
    {
     "data": {
      "text/html": [
       "<div>\n",
       "<style scoped>\n",
       "    .dataframe tbody tr th:only-of-type {\n",
       "        vertical-align: middle;\n",
       "    }\n",
       "\n",
       "    .dataframe tbody tr th {\n",
       "        vertical-align: top;\n",
       "    }\n",
       "\n",
       "    .dataframe thead th {\n",
       "        text-align: right;\n",
       "    }\n",
       "</style>\n",
       "<table border=\"1\" class=\"dataframe\">\n",
       "  <thead>\n",
       "    <tr style=\"text-align: right;\">\n",
       "      <th></th>\n",
       "      <th>Burglary</th>\n",
       "      <th>Unemploy_Georgia</th>\n",
       "    </tr>\n",
       "  </thead>\n",
       "  <tbody>\n",
       "    <tr>\n",
       "      <th>0</th>\n",
       "      <td>7269</td>\n",
       "      <td>0.091</td>\n",
       "    </tr>\n",
       "    <tr>\n",
       "      <th>1</th>\n",
       "      <td>5345</td>\n",
       "      <td>0.086</td>\n",
       "    </tr>\n",
       "    <tr>\n",
       "      <th>2</th>\n",
       "      <td>5630</td>\n",
       "      <td>0.082</td>\n",
       "    </tr>\n",
       "    <tr>\n",
       "      <th>3</th>\n",
       "      <td>6248</td>\n",
       "      <td>0.079</td>\n",
       "    </tr>\n",
       "    <tr>\n",
       "      <th>4</th>\n",
       "      <td>7103</td>\n",
       "      <td>0.082</td>\n",
       "    </tr>\n",
       "  </tbody>\n",
       "</table>\n",
       "</div>"
      ],
      "text/plain": [
       "   Burglary  Unemploy_Georgia\n",
       "0      7269             0.091\n",
       "1      5345             0.086\n",
       "2      5630             0.082\n",
       "3      6248             0.079\n",
       "4      7103             0.082"
      ]
     },
     "execution_count": 4,
     "metadata": {},
     "output_type": "execute_result"
    }
   ],
   "source": [
    "uac6.head()"
   ]
  },
  {
   "cell_type": "markdown",
   "id": "fac39537",
   "metadata": {},
   "source": [
    "## Test Assumptions"
   ]
  },
  {
   "cell_type": "code",
   "execution_count": 6,
   "id": "428e09fe",
   "metadata": {},
   "outputs": [
    {
     "name": "stderr",
     "output_type": "stream",
     "text": [
      "<ipython-input-6-6719468c7f4c>:1: SettingWithCopyWarning: \n",
      "A value is trying to be set on a copy of a slice from a DataFrame\n",
      "\n",
      "See the caveats in the documentation: https://pandas.pydata.org/pandas-docs/stable/user_guide/indexing.html#returning-a-view-versus-a-copy\n",
      "  uac6.dropna(inplace = True)\n"
     ]
    }
   ],
   "source": [
    "uac6.dropna(inplace = True)"
   ]
  },
  {
   "cell_type": "code",
   "execution_count": 8,
   "id": "35db1830",
   "metadata": {},
   "outputs": [
    {
     "name": "stderr",
     "output_type": "stream",
     "text": [
      "/Users/lescrone/opt/anaconda3/lib/python3.8/site-packages/seaborn/distributions.py:2557: FutureWarning: `distplot` is a deprecated function and will be removed in a future version. Please adapt your code to use either `displot` (a figure-level function with similar flexibility) or `histplot` (an axes-level function for histograms).\n",
      "  warnings.warn(msg, FutureWarning)\n"
     ]
    },
    {
     "data": {
      "text/plain": [
       "<AxesSubplot:xlabel='Burglary', ylabel='Density'>"
      ]
     },
     "execution_count": 8,
     "metadata": {},
     "output_type": "execute_result"
    },
    {
     "data": {
      "image/png": "[encoded data removed]",
      "text/plain": [
       "<Figure size 432x288 with 1 Axes>"
      ]
     },
     "metadata": {
      "needs_background": "light"
     },
     "output_type": "display_data"
    }
   ],
   "source": [
    "sns.distplot(uac6['Burglary'])"
   ]
  },
  {
   "cell_type": "code",
   "execution_count": 9,
   "id": "74a951d6",
   "metadata": {},
   "outputs": [
    {
     "name": "stderr",
     "output_type": "stream",
     "text": [
      "<ipython-input-9-0e7b13fb2555>:1: SettingWithCopyWarning: \n",
      "A value is trying to be set on a copy of a slice from a DataFrame.\n",
      "Try using .loc[row_indexer,col_indexer] = value instead\n",
      "\n",
      "See the caveats in the documentation: https://pandas.pydata.org/pandas-docs/stable/user_guide/indexing.html#returning-a-view-versus-a-copy\n",
      "  uac6['BurglarySQRT'] = np.sqrt(uac6['Burglary'])\n"
     ]
    }
   ],
   "source": [
    "uac6['BurglarySQRT'] = np.sqrt(uac6['Burglary'])"
   ]
  },
  {
   "cell_type": "code",
   "execution_count": 10,
   "id": "0a954174",
   "metadata": {},
   "outputs": [
    {
     "data": {
      "text/html": [
       "<div>\n",
       "<style scoped>\n",
       "    .dataframe tbody tr th:only-of-type {\n",
       "        vertical-align: middle;\n",
       "    }\n",
       "\n",
       "    .dataframe tbody tr th {\n",
       "        vertical-align: top;\n",
       "    }\n",
       "\n",
       "    .dataframe thead th {\n",
       "        text-align: right;\n",
       "    }\n",
       "</style>\n",
       "<table border=\"1\" class=\"dataframe\">\n",
       "  <thead>\n",
       "    <tr style=\"text-align: right;\">\n",
       "      <th></th>\n",
       "      <th>Burglary</th>\n",
       "      <th>Unemploy_Georgia</th>\n",
       "      <th>BurglarySQRT</th>\n",
       "    </tr>\n",
       "  </thead>\n",
       "  <tbody>\n",
       "    <tr>\n",
       "      <th>0</th>\n",
       "      <td>7269</td>\n",
       "      <td>0.091</td>\n",
       "      <td>85.258431</td>\n",
       "    </tr>\n",
       "    <tr>\n",
       "      <th>1</th>\n",
       "      <td>5345</td>\n",
       "      <td>0.086</td>\n",
       "      <td>73.109507</td>\n",
       "    </tr>\n",
       "    <tr>\n",
       "      <th>2</th>\n",
       "      <td>5630</td>\n",
       "      <td>0.082</td>\n",
       "      <td>75.033326</td>\n",
       "    </tr>\n",
       "    <tr>\n",
       "      <th>3</th>\n",
       "      <td>6248</td>\n",
       "      <td>0.079</td>\n",
       "      <td>79.044291</td>\n",
       "    </tr>\n",
       "    <tr>\n",
       "      <th>4</th>\n",
       "      <td>7103</td>\n",
       "      <td>0.082</td>\n",
       "      <td>84.279298</td>\n",
       "    </tr>\n",
       "  </tbody>\n",
       "</table>\n",
       "</div>"
      ],
      "text/plain": [
       "   Burglary  Unemploy_Georgia  BurglarySQRT\n",
       "0      7269             0.091     85.258431\n",
       "1      5345             0.086     73.109507\n",
       "2      5630             0.082     75.033326\n",
       "3      6248             0.079     79.044291\n",
       "4      7103             0.082     84.279298"
      ]
     },
     "execution_count": 10,
     "metadata": {},
     "output_type": "execute_result"
    }
   ],
   "source": [
    "uac6.head()"
   ]
  },
  {
   "cell_type": "code",
   "execution_count": 12,
   "id": "b268e498",
   "metadata": {},
   "outputs": [
    {
     "name": "stderr",
     "output_type": "stream",
     "text": [
      "/Users/lescrone/opt/anaconda3/lib/python3.8/site-packages/seaborn/distributions.py:2557: FutureWarning: `distplot` is a deprecated function and will be removed in a future version. Please adapt your code to use either `displot` (a figure-level function with similar flexibility) or `histplot` (an axes-level function for histograms).\n",
      "  warnings.warn(msg, FutureWarning)\n"
     ]
    },
    {
     "data": {
      "text/plain": [
       "<AxesSubplot:xlabel='BurglarySQRT', ylabel='Density'>"
      ]
     },
     "execution_count": 12,
     "metadata": {},
     "output_type": "execute_result"
    },
    {
     "data": {
      "image/png": "[encoded data removed]",
      "text/plain": [
       "<Figure size 432x288 with 1 Axes>"
      ]
     },
     "metadata": {
      "needs_background": "light"
     },
     "output_type": "display_data"
    }
   ],
   "source": [
    "sns.distplot(uac6['BurglarySQRT'])"
   ]
  },
  {
   "cell_type": "code",
   "execution_count": 13,
   "id": "9f69c679",
   "metadata": {},
   "outputs": [
    {
     "data": {
      "text/plain": [
       "BartlettResult(statistic=381.3271476596841, pvalue=6.39766733633381e-85)"
      ]
     },
     "execution_count": 13,
     "metadata": {},
     "output_type": "execute_result"
    }
   ],
   "source": [
    "scipy.stats.bartlett(uac6['BurglarySQRT'], uac6['Unemploy_Georgia'])"
   ]
  },
  {
   "cell_type": "code",
   "execution_count": 14,
   "id": "869053d1",
   "metadata": {},
   "outputs": [
    {
     "data": {
      "text/plain": [
       "FlignerResult(statistic=45.51382094232035, pvalue=1.5156555687264974e-11)"
      ]
     },
     "execution_count": 14,
     "metadata": {},
     "output_type": "execute_result"
    }
   ],
   "source": [
    "scipy.stats.fligner(uac6['BurglarySQRT'], uac6['Unemploy_Georgia'])"
   ]
  },
  {
   "cell_type": "markdown",
   "id": "05b7044f",
   "metadata": {},
   "source": [
    "## Sample Size"
   ]
  },
  {
   "cell_type": "code",
   "execution_count": 15,
   "id": "cf06e984",
   "metadata": {},
   "outputs": [
    {
     "name": "stdout",
     "output_type": "stream",
     "text": [
      "<class 'pandas.core.frame.DataFrame'>\n",
      "Int64Index: 36 entries, 0 to 35\n",
      "Data columns (total 3 columns):\n",
      " #   Column            Non-Null Count  Dtype  \n",
      "---  ------            --------------  -----  \n",
      " 0   Burglary          36 non-null     int64  \n",
      " 1   Unemploy_Georgia  36 non-null     float64\n",
      " 2   BurglarySQRT      36 non-null     float64\n",
      "dtypes: float64(2), int64(1)\n",
      "memory usage: 1.1 KB\n"
     ]
    }
   ],
   "source": [
    "uac6.info()"
   ]
  },
  {
   "cell_type": "markdown",
   "id": "c351dcb4",
   "metadata": {},
   "source": [
    "## Indpendence"
   ]
  },
  {
   "cell_type": "code",
   "execution_count": 16,
   "id": "9d7c020c",
   "metadata": {},
   "outputs": [
    {
     "data": {
      "text/plain": [
       "0.082    3\n",
       "0.057    3\n",
       "0.073    3\n",
       "0.060    2\n",
       "0.080    2\n",
       "0.054    2\n",
       "0.079    2\n",
       "0.066    2\n",
       "0.076    2\n",
       "0.064    2\n",
       "0.063    2\n",
       "0.091    1\n",
       "0.061    1\n",
       "0.062    1\n",
       "0.072    1\n",
       "0.069    1\n",
       "0.074    1\n",
       "0.067    1\n",
       "0.086    1\n",
       "0.075    1\n",
       "0.089    1\n",
       "0.088    1\n",
       "Name: Unemploy_Georgia, dtype: int64"
      ]
     },
     "execution_count": 16,
     "metadata": {},
     "output_type": "execute_result"
    }
   ],
   "source": [
    "uac6.Unemploy_Georgia.value_counts()"
   ]
  },
  {
   "cell_type": "code",
   "execution_count": 17,
   "id": "77b3207f",
   "metadata": {},
   "outputs": [
    {
     "name": "stdout",
     "output_type": "stream",
     "text": [
      " Multiple Comparison of Means - Tukey HSD, FWER=0.05 \n",
      "=====================================================\n",
      "group1 group2 meandiff p-adj   lower    upper  reject\n",
      "-----------------------------------------------------\n",
      " 0.054  0.057  -1.6863    0.9 -17.6442 14.2717  False\n",
      " 0.054   0.06  -3.4846    0.9 -20.9657 13.9964  False\n",
      " 0.054  0.061   3.1125    0.9 -18.2973 24.5224  False\n",
      " 0.054  0.062  -0.8024    0.9 -22.2122 20.6075  False\n",
      " 0.054  0.063  -5.0745    0.9 -22.5556 12.4065  False\n",
      " 0.054  0.064  -1.2573    0.9 -18.7383 16.2238  False\n",
      " 0.054  0.066   2.2917    0.9 -15.1893 19.7728  False\n",
      " 0.054  0.067   2.3144    0.9 -19.0955 23.7242  False\n",
      " 0.054  0.069   8.1801    0.9 -13.2297 29.5899  False\n",
      " 0.054  0.072   5.9615    0.9 -15.4483 27.3714  False\n",
      " 0.054  0.073   4.7506    0.9 -11.2074 20.7085  False\n",
      " 0.054  0.074   8.8509    0.9 -12.5589 30.2607  False\n",
      " 0.054  0.075  -3.0269    0.9 -24.4367 18.3829  False\n",
      " 0.054  0.076    6.121    0.9 -11.3601  23.602  False\n",
      " 0.054  0.079   6.0638    0.9 -11.4172 23.5449  False\n",
      " 0.054   0.08   9.2748 0.7221  -8.2062 26.7559  False\n",
      " 0.054  0.082   5.9966    0.9  -9.9613 21.9546  False\n",
      " 0.054  0.086  -1.8548    0.9 -23.2647  19.555  False\n",
      " 0.054  0.088   9.2912    0.9 -12.1186  30.701  False\n",
      " 0.054  0.089   7.4674    0.9 -13.9424 28.8773  False\n",
      " 0.054  0.091  10.2941 0.8307 -11.1158 31.7039  False\n",
      " 0.057   0.06  -1.7983    0.9 -17.7563 14.1596  False\n",
      " 0.057  0.061   4.7988    0.9 -15.3866 24.9842  False\n",
      " 0.057  0.062   0.8839    0.9 -19.3015 21.0693  False\n",
      " 0.057  0.063  -3.3883    0.9 -19.3462 12.5697  False\n",
      " 0.057  0.064    0.429    0.9 -15.5289  16.387  False\n",
      " 0.057  0.066    3.978    0.9 -11.9799 19.9359  False\n",
      " 0.057  0.067   4.0007    0.9 -16.1847  24.186  False\n",
      " 0.057  0.069   9.8664 0.8133  -10.319 30.0518  False\n",
      " 0.057  0.072   7.6478    0.9 -12.5376 27.8332  False\n",
      " 0.057  0.073   6.4369 0.8958  -7.8363 20.7101  False\n",
      " 0.057  0.074  10.5372 0.7408  -9.6482 30.7226  False\n",
      " 0.057  0.075  -1.3406    0.9  -21.526 18.8448  False\n",
      " 0.057  0.076   7.8073 0.8123  -8.1507 23.7652  False\n",
      " 0.057  0.079   7.7501 0.8201  -8.2078 23.7081  False\n",
      " 0.057   0.08  10.9611 0.3825  -4.9968  26.919  False\n",
      " 0.057  0.082   7.6829 0.7053  -6.5903 21.9561  False\n",
      " 0.057  0.086  -0.1686    0.9 -20.3539 20.0168  False\n",
      " 0.057  0.088  10.9775 0.6932  -9.2079 31.1629  False\n",
      " 0.057  0.089   9.1537 0.8903 -11.0317 29.3391  False\n",
      " 0.057  0.091  11.9804 0.5848   -8.205 32.1657  False\n",
      "  0.06  0.061   6.5972    0.9 -14.8127  28.007  False\n",
      "  0.06  0.062   2.6823    0.9 -18.7276 24.0921  False\n",
      "  0.06  0.063  -1.5899    0.9  -19.071 15.8911  False\n",
      "  0.06  0.064   2.2274    0.9 -15.2537 19.7084  False\n",
      "  0.06  0.066   5.7763    0.9 -11.7047 23.2574  False\n",
      "  0.06  0.067    5.799    0.9 -15.6108 27.2088  False\n",
      "  0.06  0.069  11.6647  0.691  -9.7451 33.0746  False\n",
      "  0.06  0.072   9.4462    0.9 -11.9637  30.856  False\n",
      "  0.06  0.073   8.2352 0.7538  -7.7227 24.1932  False\n",
      "  0.06  0.074  12.3355 0.6226  -9.0743 33.7454  False\n",
      "  0.06  0.075   0.4577    0.9 -20.9521 21.8676  False\n",
      "  0.06  0.076   9.6056 0.6808  -7.8754 27.0867  False\n",
      "  0.06  0.079   9.5484  0.688  -7.9326 27.0295  False\n",
      "  0.06   0.08  12.7594 0.2992  -4.7216 30.2405  False\n",
      "  0.06  0.082   9.4813 0.5834  -6.4767 25.4392  False\n",
      "  0.06  0.086   1.6298    0.9   -19.78 23.0396  False\n",
      "  0.06  0.088  12.7758 0.5778   -8.634 34.1857  False\n",
      "  0.06  0.089  10.9521 0.7636 -10.4578 32.3619  False\n",
      "  0.06  0.091  13.7787 0.4765  -7.6311 35.1885  False\n",
      " 0.061  0.062  -3.9149    0.9 -28.6368  20.807  False\n",
      " 0.061  0.063  -8.1871    0.9 -29.5969 13.2228  False\n",
      " 0.061  0.064  -4.3698    0.9 -25.7796   17.04  False\n",
      " 0.061  0.066  -0.8208    0.9 -22.2307  20.589  False\n",
      " 0.061  0.067  -0.7982    0.9 -25.5201 23.9238  False\n",
      " 0.061  0.069   5.0676    0.9 -19.6544 29.7895  False\n",
      " 0.061  0.072    2.849    0.9 -21.8729 27.5709  False\n",
      " 0.061  0.073   1.6381    0.9 -18.5473 21.8234  False\n",
      " 0.061  0.074   5.7384    0.9 -18.9836 30.4603  False\n",
      " 0.061  0.075  -6.1394    0.9 -30.8614 18.5825  False\n",
      " 0.061  0.076   3.0084    0.9 -18.4014 24.4183  False\n",
      " 0.061  0.079   2.9513    0.9 -18.4585 24.3611  False\n",
      " 0.061   0.08   6.1623    0.9 -15.2476 27.5721  False\n",
      " 0.061  0.082   2.8841    0.9 -17.3013 23.0695  False\n",
      " 0.061  0.086  -4.9674    0.9 -29.6893 19.7546  False\n",
      " 0.061  0.088   6.1787    0.9 -18.5433 30.9006  False\n",
      " 0.061  0.089   4.3549    0.9  -20.367 29.0768  False\n",
      " 0.061  0.091   7.1815    0.9 -17.5404 31.9035  False\n",
      " 0.062  0.063  -4.2722    0.9  -25.682 17.1377  False\n",
      " 0.062  0.064  -0.4549    0.9 -21.8647 20.9549  False\n",
      " 0.062  0.066   3.0941    0.9 -18.3158 24.5039  False\n",
      " 0.062  0.067   3.1167    0.9 -21.6052 27.8387  False\n",
      " 0.062  0.069   8.9825    0.9 -15.7395 33.7044  False\n",
      " 0.062  0.072   6.7639    0.9  -17.958 31.4858  False\n",
      " 0.062  0.073    5.553    0.9 -14.6324 25.7383  False\n",
      " 0.062  0.074   9.6533    0.9 -15.0687 34.3752  False\n",
      " 0.062  0.075  -2.2245    0.9 -26.9465 22.4974  False\n",
      " 0.062  0.076   6.9233    0.9 -14.4865 28.3332  False\n",
      " 0.062  0.079   6.8662    0.9 -14.5436  28.276  False\n",
      " 0.062   0.08  10.0772 0.8528 -11.3327  31.487  False\n",
      " 0.062  0.082    6.799    0.9 -13.3864 26.9844  False\n",
      " 0.062  0.086  -1.0525    0.9 -25.7744 23.6695  False\n",
      " 0.062  0.088  10.0936    0.9 -14.6284 34.8155  False\n",
      " 0.062  0.089   8.2698    0.9 -16.4521 32.9917  False\n",
      " 0.062  0.091  11.0964    0.9 -13.6255 35.8184  False\n",
      " 0.063  0.064   3.8173    0.9 -13.6638 21.2983  False\n",
      " 0.063  0.066   7.3662    0.9 -10.1148 24.8473  False\n",
      " 0.063  0.067   7.3889    0.9 -14.0209 28.7987  False\n",
      " 0.063  0.069  13.2546  0.529  -8.1552 34.6645  False\n",
      " 0.063  0.072  11.0361 0.7551 -10.3737 32.4459  False\n",
      " 0.063  0.073   9.8251 0.5364  -6.1328 25.7831  False\n",
      " 0.063  0.074  13.9255 0.4617  -7.4844 35.3353  False\n",
      " 0.063  0.075   2.0477    0.9 -19.3622 23.4575  False\n",
      " 0.063  0.076  11.1955 0.4831  -6.2855 28.6766  False\n",
      " 0.063  0.079  11.1384   0.49  -6.3427 28.6194  False\n",
      " 0.063   0.08  14.3493 0.1709  -3.1317 31.8304  False\n",
      " 0.063  0.082  11.0712  0.368  -4.8868 27.0291  False\n",
      " 0.063  0.086   3.2197    0.9 -18.1901 24.6295  False\n",
      " 0.063  0.088  14.3658 0.4169  -7.0441 35.7756  False\n",
      " 0.063  0.089   12.542 0.6016  -8.8679 33.9518  False\n",
      " 0.063  0.091  15.3686 0.3204  -6.0412 36.7784  False\n",
      " 0.064  0.066    3.549    0.9 -13.9321   21.03  False\n",
      " 0.064  0.067   3.5716    0.9 -17.8382 24.9815  False\n",
      " 0.064  0.069   9.4374    0.9 -11.9725 30.8472  False\n",
      " 0.064  0.072   7.2188    0.9  -14.191 28.6286  False\n",
      " 0.064  0.073   6.0079    0.9  -9.9501 21.9658  False\n",
      " 0.064  0.074  10.1082 0.8496 -11.3016  31.518  False\n",
      " 0.064  0.075  -1.7696    0.9 -23.1794 19.6402  False\n",
      " 0.064  0.076   7.3782    0.9 -10.1028 24.8593  False\n",
      " 0.064  0.079   7.3211    0.9   -10.16 24.8021  False\n",
      " 0.064   0.08  10.5321 0.5652   -6.949 28.0131  False\n",
      " 0.064  0.082   7.2539 0.8879   -8.704 23.2118  False\n",
      " 0.064  0.086  -0.5976    0.9 -22.0074 20.8123  False\n",
      " 0.064  0.088  10.5485 0.8047 -10.8613 31.9583  False\n",
      " 0.064  0.089   8.7247    0.9 -12.6851 30.1345  False\n",
      " 0.064  0.091  11.5513 0.7025  -9.8585 32.9612  False\n",
      " 0.066  0.067   0.0227    0.9 -21.3872 21.4325  False\n",
      " 0.066  0.069   5.8884    0.9 -15.5214 27.2982  False\n",
      " 0.066  0.072   3.6698    0.9   -17.74 25.0797  False\n",
      " 0.066  0.073   2.4589    0.9 -13.4991 18.4168  False\n",
      " 0.066  0.074   6.5592    0.9 -14.8506  27.969  False\n",
      " 0.066  0.075  -5.3186    0.9 -26.7284 16.0912  False\n",
      " 0.066  0.076   3.8293    0.9 -13.6518 21.3103  False\n",
      " 0.066  0.079   3.7721    0.9 -13.7089 21.2532  False\n",
      " 0.066   0.08   6.9831    0.9 -10.4979 24.4642  False\n",
      " 0.066  0.082   3.7049    0.9  -12.253 19.6629  False\n",
      " 0.066  0.086  -4.1465    0.9 -25.5564 17.2633  False\n",
      " 0.066  0.088   6.9995    0.9 -14.4103 28.4093  False\n",
      " 0.066  0.089   5.1757    0.9 -16.2341 26.5856  False\n",
      " 0.066  0.091   8.0024    0.9 -13.4075 29.4122  False\n",
      " 0.067  0.069   5.8657    0.9 -18.8562 30.5877  False\n",
      " 0.067  0.072   3.6472    0.9 -21.0748 28.3691  False\n",
      " 0.067  0.073   2.4362    0.9 -17.7492 22.6216  False\n",
      " 0.067  0.074   6.5366    0.9 -18.1854 31.2585  False\n",
      " 0.067  0.075  -5.3412    0.9 -30.0632 19.3807  False\n",
      " 0.067  0.076   3.8066    0.9 -17.6032 25.2164  False\n",
      " 0.067  0.079   3.7495    0.9 -17.6604 25.1593  False\n",
      " 0.067   0.08   6.9604    0.9 -14.4494 28.3703  False\n",
      " 0.067  0.082   3.6823    0.9 -16.5031 23.8676  False\n",
      " 0.067  0.086  -4.1692    0.9 -28.8912 20.5527  False\n",
      " 0.067  0.088   6.9768    0.9 -17.7451 31.6988  False\n",
      " 0.067  0.089   5.1531    0.9 -19.5689  29.875  False\n",
      " 0.067  0.091   7.9797    0.9 -16.7422 32.7017  False\n",
      " 0.069  0.072  -2.2186    0.9 -26.9405 22.5034  False\n",
      " 0.069  0.073  -3.4295    0.9 -23.6149 16.7559  False\n",
      " 0.069  0.074   0.6708    0.9 -24.0511 25.3928  False\n",
      " 0.069  0.075  -11.207 0.8907 -35.9289  13.515  False\n",
      " 0.069  0.076  -2.0591    0.9 -23.4689 19.3507  False\n",
      " 0.069  0.079  -2.1163    0.9 -23.5261 19.2935  False\n",
      " 0.069   0.08   1.0947    0.9 -20.3151 22.5045  False\n",
      " 0.069  0.082  -2.1835    0.9 -22.3688 18.0019  False\n",
      " 0.069  0.086 -10.0349    0.9 -34.7569  14.687  False\n",
      " 0.069  0.088   1.1111    0.9 -23.6108 25.8331  False\n",
      " 0.069  0.089  -0.7127    0.9 -25.4346 24.0093  False\n",
      " 0.069  0.091    2.114    0.9  -22.608 26.8359  False\n",
      " 0.072  0.073   -1.211    0.9 -21.3963 18.9744  False\n",
      " 0.072  0.074   2.8894    0.9 -21.8326 27.6113  False\n",
      " 0.072  0.075  -8.9884    0.9 -33.7104 15.7335  False\n",
      " 0.072  0.076   0.1594    0.9 -21.2504 21.5693  False\n",
      " 0.072  0.079   0.1023    0.9 -21.3076 21.5121  False\n",
      " 0.072   0.08   3.3133    0.9 -18.0966 24.7231  False\n",
      " 0.072  0.082   0.0351    0.9 -20.1503 20.2205  False\n",
      " 0.072  0.086  -7.8164    0.9 -32.5383 16.9056  False\n",
      " 0.072  0.088   3.3297    0.9 -21.3923 28.0516  False\n",
      " 0.072  0.089   1.5059    0.9  -23.216 26.2278  False\n",
      " 0.072  0.091   4.3325    0.9 -20.3894 29.0545  False\n",
      " 0.073  0.074   4.1003    0.9  -16.085 24.2857  False\n",
      " 0.073  0.075  -7.7775    0.9 -27.9628 12.4079  False\n",
      " 0.073  0.076   1.3704    0.9 -14.5876 17.3283  False\n",
      " 0.073  0.079   1.3132    0.9 -14.6447 17.2712  False\n",
      " 0.073   0.08   4.5242    0.9 -11.4337 20.4822  False\n",
      " 0.073  0.082    1.246    0.9 -13.0272 15.5193  False\n",
      " 0.073  0.086  -6.6054    0.9 -26.7908 13.5799  False\n",
      " 0.073  0.088   4.5406    0.9 -15.6448  24.726  False\n",
      " 0.073  0.089   2.7169    0.9 -17.4685 22.9022  False\n",
      " 0.073  0.091   5.5435    0.9 -14.6419 25.7289  False\n",
      " 0.074  0.075 -11.8778 0.8314 -36.5997 12.8441  False\n",
      " 0.074  0.076  -2.7299    0.9 -24.1398 18.6799  False\n",
      " 0.074  0.079  -2.7871    0.9 -24.1969 18.6227  False\n",
      " 0.074   0.08   0.4239    0.9 -20.9859 21.8337  False\n",
      " 0.074  0.082  -2.8543    0.9 -23.0397 17.3311  False\n",
      " 0.074  0.086 -10.7058    0.9 -35.4277 14.0162  False\n",
      " 0.074  0.088   0.4403    0.9 -24.2817 25.1622  False\n",
      " 0.074  0.089  -1.3835    0.9 -26.1054 23.3385  False\n",
      " 0.074  0.091   1.4432    0.9 -23.2788 26.1651  False\n",
      " 0.075  0.076   9.1479    0.9  -12.262 30.5577  False\n",
      " 0.075  0.079   9.0907    0.9 -12.3191 30.5005  False\n",
      " 0.075   0.08  12.3017 0.6261  -9.1081 33.7115  False\n",
      " 0.075  0.082   9.0235    0.9 -11.1619 29.2089  False\n",
      " 0.075  0.086    1.172    0.9 -23.5499  25.894  False\n",
      " 0.075  0.088  12.3181 0.7926 -12.4038   37.04  False\n",
      " 0.075  0.089  10.4943    0.9 -14.2276 35.2163  False\n",
      " 0.075  0.091   13.321 0.7041  -11.401 38.0429  False\n",
      " 0.076  0.079  -0.0572    0.9 -17.5382 17.4239  False\n",
      " 0.076   0.08   3.1538    0.9 -14.3272 20.6349  False\n",
      " 0.076  0.082  -0.1243    0.9 -16.0823 15.8336  False\n",
      " 0.076  0.086  -7.9758    0.9 -29.3857  13.434  False\n",
      " 0.076  0.088   3.1702    0.9 -18.2396 24.5801  False\n",
      " 0.076  0.089   1.3465    0.9 -20.0634 22.7563  False\n",
      " 0.076  0.091   4.1731    0.9 -17.2367 25.5829  False\n",
      " 0.079   0.08    3.211    0.9 -14.2701  20.692  False\n",
      " 0.079  0.082  -0.0672    0.9 -16.0251 15.8908  False\n",
      " 0.079  0.086  -7.9187    0.9 -29.3285 13.4912  False\n",
      " 0.079  0.088   3.2274    0.9 -18.1824 24.6372  False\n",
      " 0.079  0.089   1.4036    0.9 -20.0062 22.8134  False\n",
      " 0.079  0.091   4.2303    0.9 -17.1796 25.6401  False\n",
      "  0.08  0.082  -3.2782    0.9 -19.2361 12.6798  False\n",
      "  0.08  0.086 -11.1297 0.7455 -32.5395 10.2802  False\n",
      "  0.08  0.088   0.0164    0.9 -21.3934 21.4262  False\n",
      "  0.08  0.089  -1.8074    0.9 -23.2172 19.6025  False\n",
      "  0.08  0.091   1.0193    0.9 -20.3906 22.4291  False\n",
      " 0.082  0.086  -7.8515    0.9 -28.0369 12.3339  False\n",
      " 0.082  0.088   3.2946    0.9 -16.8908   23.48  False\n",
      " 0.082  0.089   1.4708    0.9 -18.7146 21.6562  False\n",
      " 0.082  0.091   4.2974    0.9 -15.8879 24.4828  False\n",
      " 0.086  0.088  11.1461  0.896 -13.5759  35.868  False\n",
      " 0.086  0.089   9.3223    0.9 -15.3997 34.0442  False\n",
      " 0.086  0.091  12.1489 0.8075  -12.573 36.8709  False\n",
      " 0.088  0.089  -1.8238    0.9 -26.5457 22.8982  False\n",
      " 0.088  0.091   1.0029    0.9 -23.7191 25.7248  False\n",
      " 0.089  0.091   2.8266    0.9 -21.8953 27.5486  False\n",
      "-----------------------------------------------------\n"
     ]
    }
   ],
   "source": [
    "postHoc = MultiComparison(uac6['BurglarySQRT'], uac6['Unemploy_Georgia'])\n",
    "postHocResults = postHoc.tukeyhsd()\n",
    "print(postHocResults)"
   ]
  },
  {
   "cell_type": "code",
   "execution_count": 18,
   "id": "4e0db9e5",
   "metadata": {},
   "outputs": [
    {
     "data": {
      "text/html": [
       "<div>\n",
       "<style scoped>\n",
       "    .dataframe tbody tr th:only-of-type {\n",
       "        vertical-align: middle;\n",
       "    }\n",
       "\n",
       "    .dataframe tbody tr th {\n",
       "        vertical-align: top;\n",
       "    }\n",
       "\n",
       "    .dataframe thead th {\n",
       "        text-align: right;\n",
       "    }\n",
       "</style>\n",
       "<table border=\"1\" class=\"dataframe\">\n",
       "  <thead>\n",
       "    <tr style=\"text-align: right;\">\n",
       "      <th></th>\n",
       "      <th>Burglary</th>\n",
       "      <th>BurglarySQRT</th>\n",
       "    </tr>\n",
       "    <tr>\n",
       "      <th>Unemploy_Georgia</th>\n",
       "      <th></th>\n",
       "      <th></th>\n",
       "    </tr>\n",
       "  </thead>\n",
       "  <tbody>\n",
       "    <tr>\n",
       "      <th>0.054</th>\n",
       "      <td>5625.500000</td>\n",
       "      <td>74.964353</td>\n",
       "    </tr>\n",
       "    <tr>\n",
       "      <th>0.057</th>\n",
       "      <td>5372.666667</td>\n",
       "      <td>73.278062</td>\n",
       "    </tr>\n",
       "    <tr>\n",
       "      <th>0.060</th>\n",
       "      <td>5115.500000</td>\n",
       "      <td>71.479724</td>\n",
       "    </tr>\n",
       "    <tr>\n",
       "      <th>0.061</th>\n",
       "      <td>6096.000000</td>\n",
       "      <td>78.076885</td>\n",
       "    </tr>\n",
       "    <tr>\n",
       "      <th>0.062</th>\n",
       "      <td>5500.000000</td>\n",
       "      <td>74.161985</td>\n",
       "    </tr>\n",
       "    <tr>\n",
       "      <th>0.063</th>\n",
       "      <td>4928.000000</td>\n",
       "      <td>69.889812</td>\n",
       "    </tr>\n",
       "    <tr>\n",
       "      <th>0.064</th>\n",
       "      <td>5433.000000</td>\n",
       "      <td>73.707084</td>\n",
       "    </tr>\n",
       "    <tr>\n",
       "      <th>0.066</th>\n",
       "      <td>5968.500000</td>\n",
       "      <td>77.256056</td>\n",
       "    </tr>\n",
       "    <tr>\n",
       "      <th>0.067</th>\n",
       "      <td>5972.000000</td>\n",
       "      <td>77.278716</td>\n",
       "    </tr>\n",
       "    <tr>\n",
       "      <th>0.069</th>\n",
       "      <td>6913.000000</td>\n",
       "      <td>83.144453</td>\n",
       "    </tr>\n",
       "    <tr>\n",
       "      <th>0.072</th>\n",
       "      <td>6549.000000</td>\n",
       "      <td>80.925892</td>\n",
       "    </tr>\n",
       "    <tr>\n",
       "      <th>0.073</th>\n",
       "      <td>6367.333333</td>\n",
       "      <td>79.714939</td>\n",
       "    </tr>\n",
       "    <tr>\n",
       "      <th>0.074</th>\n",
       "      <td>7025.000000</td>\n",
       "      <td>83.815273</td>\n",
       "    </tr>\n",
       "    <tr>\n",
       "      <th>0.075</th>\n",
       "      <td>5175.000000</td>\n",
       "      <td>71.937473</td>\n",
       "    </tr>\n",
       "    <tr>\n",
       "      <th>0.076</th>\n",
       "      <td>6576.500000</td>\n",
       "      <td>81.085332</td>\n",
       "    </tr>\n",
       "    <tr>\n",
       "      <th>0.079</th>\n",
       "      <td>6569.500000</td>\n",
       "      <td>81.028169</td>\n",
       "    </tr>\n",
       "    <tr>\n",
       "      <th>0.080</th>\n",
       "      <td>7098.500000</td>\n",
       "      <td>84.239160</td>\n",
       "    </tr>\n",
       "    <tr>\n",
       "      <th>0.082</th>\n",
       "      <td>6572.333333</td>\n",
       "      <td>80.960984</td>\n",
       "    </tr>\n",
       "    <tr>\n",
       "      <th>0.086</th>\n",
       "      <td>5345.000000</td>\n",
       "      <td>73.109507</td>\n",
       "    </tr>\n",
       "    <tr>\n",
       "      <th>0.088</th>\n",
       "      <td>7099.000000</td>\n",
       "      <td>84.255564</td>\n",
       "    </tr>\n",
       "    <tr>\n",
       "      <th>0.089</th>\n",
       "      <td>6795.000000</td>\n",
       "      <td>82.431790</td>\n",
       "    </tr>\n",
       "    <tr>\n",
       "      <th>0.091</th>\n",
       "      <td>7269.000000</td>\n",
       "      <td>85.258431</td>\n",
       "    </tr>\n",
       "  </tbody>\n",
       "</table>\n",
       "</div>"
      ],
      "text/plain": [
       "                     Burglary  BurglarySQRT\n",
       "Unemploy_Georgia                           \n",
       "0.054             5625.500000     74.964353\n",
       "0.057             5372.666667     73.278062\n",
       "0.060             5115.500000     71.479724\n",
       "0.061             6096.000000     78.076885\n",
       "0.062             5500.000000     74.161985\n",
       "0.063             4928.000000     69.889812\n",
       "0.064             5433.000000     73.707084\n",
       "0.066             5968.500000     77.256056\n",
       "0.067             5972.000000     77.278716\n",
       "0.069             6913.000000     83.144453\n",
       "0.072             6549.000000     80.925892\n",
       "0.073             6367.333333     79.714939\n",
       "0.074             7025.000000     83.815273\n",
       "0.075             5175.000000     71.937473\n",
       "0.076             6576.500000     81.085332\n",
       "0.079             6569.500000     81.028169\n",
       "0.080             7098.500000     84.239160\n",
       "0.082             6572.333333     80.960984\n",
       "0.086             5345.000000     73.109507\n",
       "0.088             7099.000000     84.255564\n",
       "0.089             6795.000000     82.431790\n",
       "0.091             7269.000000     85.258431"
      ]
     },
     "execution_count": 18,
     "metadata": {},
     "output_type": "execute_result"
    }
   ],
   "source": [
    "uac6.groupby('Unemploy_Georgia').mean()"
   ]
  },
  {
   "cell_type": "code",
   "execution_count": null,
   "id": "c9ecdf27",
   "metadata": {},
   "outputs": [],
   "source": []
  }
 ],
 "metadata": {
  "kernelspec": {
   "display_name": "Python 3",
   "language": "python",
   "name": "python3"
  },
  "language_info": {
   "codemirror_mode": {
    "name": "ipython",
    "version": 3
   },
   "file_extension": ".py",
   "mimetype": "text/x-python",
   "name": "python",
   "nbconvert_exporter": "python",
   "pygments_lexer": "ipython3",
   "version": "3.8.8"
  }
 },
 "nbformat": 4,
 "nbformat_minor": 5
}
