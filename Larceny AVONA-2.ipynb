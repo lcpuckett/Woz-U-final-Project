{
 "cells": [
  {
   "cell_type": "code",
   "execution_count": 1,
   "id": "01a03aaa",
   "metadata": {},
   "outputs": [],
   "source": [
    "import pandas as pd\n",
    "import numpy as np\n",
    "import scipy\n",
    "from scipy import stats\n",
    "from statsmodels.stats.multicomp import pairwise_tukeyhsd\n",
    "from statsmodels.stats.multicomp import MultiComparison\n",
    "import seaborn as sns"
   ]
  },
  {
   "cell_type": "code",
   "execution_count": 1,
   "id": "03270f85",
   "metadata": {},
   "outputs": [
    {
     "data": {
      "application/javascript": [
       "(function(on) {\n",
       "const e=$( \"<a>Setup failed</a>\" );\n",
       "const ns=\"js_jupyter_suppress_warnings\";\n",
       "var cssrules=$(\"#\"+ns);\n",
       "if(!cssrules.length) cssrules = $(\"<style id='\"+ns+\"' type='text/css'>div.output_stderr { } </style>\").appendTo(\"head\");\n",
       "e.click(function() {\n",
       "    var s='Showing';  \n",
       "    cssrules.empty()\n",
       "    if(on) {\n",
       "        s='Hiding';\n",
       "        cssrules.append(\"div.output_stderr, div[data-mime-type*='.stderr'] { display:none; }\");\n",
       "    }\n",
       "    e.text(s+' warnings (click to toggle)');\n",
       "    on=!on;\n",
       "}).click();\n",
       "$(element).append(e);\n",
       "})(true);\n"
      ],
      "text/plain": [
       "<IPython.core.display.Javascript object>"
      ]
     },
     "metadata": {},
     "output_type": "display_data"
    }
   ],
   "source": [
    "%%javascript\n",
    "(function(on) {\n",
    "const e=$( \"<a>Setup failed</a>\" );\n",
    "const ns=\"js_jupyter_suppress_warnings\";\n",
    "var cssrules=$(\"#\"+ns);\n",
    "if(!cssrules.length) cssrules = $(\"<style id='\"+ns+\"' type='text/css'>div.output_stderr { } </style>\").appendTo(\"head\");\n",
    "e.click(function() {\n",
    "    var s='Showing';  \n",
    "    cssrules.empty()\n",
    "    if(on) {\n",
    "        s='Hiding';\n",
    "        cssrules.append(\"div.output_stderr, div[data-mime-type*='.stderr'] { display:none; }\");\n",
    "    }\n",
    "    e.text(s+' warnings (click to toggle)');\n",
    "    on=!on;\n",
    "}).click();\n",
    "$(element).append(e);\n",
    "})(true);"
   ]
  },
  {
   "cell_type": "code",
   "execution_count": 4,
   "id": "e847fee8",
   "metadata": {},
   "outputs": [],
   "source": [
    "uac7 = pd.read_csv(\"Unemployment and Crime.csv\")"
   ]
  },
  {
   "cell_type": "code",
   "execution_count": 8,
   "id": "263a5d51",
   "metadata": {},
   "outputs": [],
   "source": [
    "uac8 = uac7[['Larceny', 'Unemploy_Georgia']]"
   ]
  },
  {
   "cell_type": "code",
   "execution_count": 9,
   "id": "800f00b5",
   "metadata": {},
   "outputs": [
    {
     "data": {
      "text/html": [
       "<div>\n",
       "<style scoped>\n",
       "    .dataframe tbody tr th:only-of-type {\n",
       "        vertical-align: middle;\n",
       "    }\n",
       "\n",
       "    .dataframe tbody tr th {\n",
       "        vertical-align: top;\n",
       "    }\n",
       "\n",
       "    .dataframe thead th {\n",
       "        text-align: right;\n",
       "    }\n",
       "</style>\n",
       "<table border=\"1\" class=\"dataframe\">\n",
       "  <thead>\n",
       "    <tr style=\"text-align: right;\">\n",
       "      <th></th>\n",
       "      <th>Larceny</th>\n",
       "      <th>Unemploy_Georgia</th>\n",
       "    </tr>\n",
       "  </thead>\n",
       "  <tbody>\n",
       "    <tr>\n",
       "      <th>0</th>\n",
       "      <td>17968</td>\n",
       "      <td>0.091</td>\n",
       "    </tr>\n",
       "    <tr>\n",
       "      <th>1</th>\n",
       "      <td>14844</td>\n",
       "      <td>0.086</td>\n",
       "    </tr>\n",
       "    <tr>\n",
       "      <th>2</th>\n",
       "      <td>16621</td>\n",
       "      <td>0.082</td>\n",
       "    </tr>\n",
       "    <tr>\n",
       "      <th>3</th>\n",
       "      <td>17401</td>\n",
       "      <td>0.079</td>\n",
       "    </tr>\n",
       "    <tr>\n",
       "      <th>4</th>\n",
       "      <td>19277</td>\n",
       "      <td>0.082</td>\n",
       "    </tr>\n",
       "  </tbody>\n",
       "</table>\n",
       "</div>"
      ],
      "text/plain": [
       "   Larceny  Unemploy_Georgia\n",
       "0    17968             0.091\n",
       "1    14844             0.086\n",
       "2    16621             0.082\n",
       "3    17401             0.079\n",
       "4    19277             0.082"
      ]
     },
     "execution_count": 9,
     "metadata": {},
     "output_type": "execute_result"
    }
   ],
   "source": [
    "uac8.head()"
   ]
  },
  {
   "cell_type": "markdown",
   "id": "872e190a",
   "metadata": {},
   "source": [
    "## Assumptions"
   ]
  },
  {
   "cell_type": "code",
   "execution_count": 10,
   "id": "c6ae5358",
   "metadata": {},
   "outputs": [
    {
     "name": "stderr",
     "output_type": "stream",
     "text": [
      "<ipython-input-10-45e90a51721f>:1: SettingWithCopyWarning: \n",
      "A value is trying to be set on a copy of a slice from a DataFrame\n",
      "\n",
      "See the caveats in the documentation: https://pandas.pydata.org/pandas-docs/stable/user_guide/indexing.html#returning-a-view-versus-a-copy\n",
      "  uac8.dropna(inplace = True)\n"
     ]
    }
   ],
   "source": [
    "uac8.dropna(inplace = True)"
   ]
  },
  {
   "cell_type": "code",
   "execution_count": 11,
   "id": "141175d7",
   "metadata": {},
   "outputs": [
    {
     "name": "stderr",
     "output_type": "stream",
     "text": [
      "/Users/lescrone/opt/anaconda3/lib/python3.8/site-packages/seaborn/distributions.py:2557: FutureWarning: `distplot` is a deprecated function and will be removed in a future version. Please adapt your code to use either `displot` (a figure-level function with similar flexibility) or `histplot` (an axes-level function for histograms).\n",
      "  warnings.warn(msg, FutureWarning)\n"
     ]
    },
    {
     "data": {
      "text/plain": [
       "<AxesSubplot:xlabel='Larceny', ylabel='Density'>"
      ]
     },
     "execution_count": 11,
     "metadata": {},
     "output_type": "execute_result"
    },
    {
     "data": {
      "image/png": "[encoded data removed]",
      "text/plain": [
       "<Figure size 432x288 with 1 Axes>"
      ]
     },
     "metadata": {
      "needs_background": "light"
     },
     "output_type": "display_data"
    }
   ],
   "source": [
    "sns.distplot(uac8['Larceny'])"
   ]
  },
  {
   "cell_type": "code",
   "execution_count": 13,
   "id": "d15adb87",
   "metadata": {},
   "outputs": [
    {
     "name": "stderr",
     "output_type": "stream",
     "text": [
      "<ipython-input-13-261250ba9b00>:1: SettingWithCopyWarning: \n",
      "A value is trying to be set on a copy of a slice from a DataFrame.\n",
      "Try using .loc[row_indexer,col_indexer] = value instead\n",
      "\n",
      "See the caveats in the documentation: https://pandas.pydata.org/pandas-docs/stable/user_guide/indexing.html#returning-a-view-versus-a-copy\n",
      "  uac8['LarcenySQRT'] = np.sqrt(uac8['Larceny'])\n"
     ]
    }
   ],
   "source": [
    "uac8['LarcenySQRT'] = np.sqrt(uac8['Larceny'])"
   ]
  },
  {
   "cell_type": "code",
   "execution_count": 14,
   "id": "46e1a7b6",
   "metadata": {},
   "outputs": [
    {
     "data": {
      "text/html": [
       "<div>\n",
       "<style scoped>\n",
       "    .dataframe tbody tr th:only-of-type {\n",
       "        vertical-align: middle;\n",
       "    }\n",
       "\n",
       "    .dataframe tbody tr th {\n",
       "        vertical-align: top;\n",
       "    }\n",
       "\n",
       "    .dataframe thead th {\n",
       "        text-align: right;\n",
       "    }\n",
       "</style>\n",
       "<table border=\"1\" class=\"dataframe\">\n",
       "  <thead>\n",
       "    <tr style=\"text-align: right;\">\n",
       "      <th></th>\n",
       "      <th>Larceny</th>\n",
       "      <th>Unemploy_Georgia</th>\n",
       "      <th>LarcenySQRT</th>\n",
       "    </tr>\n",
       "  </thead>\n",
       "  <tbody>\n",
       "    <tr>\n",
       "      <th>0</th>\n",
       "      <td>17968</td>\n",
       "      <td>0.091</td>\n",
       "      <td>134.044769</td>\n",
       "    </tr>\n",
       "    <tr>\n",
       "      <th>1</th>\n",
       "      <td>14844</td>\n",
       "      <td>0.086</td>\n",
       "      <td>121.835955</td>\n",
       "    </tr>\n",
       "    <tr>\n",
       "      <th>2</th>\n",
       "      <td>16621</td>\n",
       "      <td>0.082</td>\n",
       "      <td>128.922457</td>\n",
       "    </tr>\n",
       "    <tr>\n",
       "      <th>3</th>\n",
       "      <td>17401</td>\n",
       "      <td>0.079</td>\n",
       "      <td>131.912850</td>\n",
       "    </tr>\n",
       "    <tr>\n",
       "      <th>4</th>\n",
       "      <td>19277</td>\n",
       "      <td>0.082</td>\n",
       "      <td>138.841636</td>\n",
       "    </tr>\n",
       "  </tbody>\n",
       "</table>\n",
       "</div>"
      ],
      "text/plain": [
       "   Larceny  Unemploy_Georgia  LarcenySQRT\n",
       "0    17968             0.091   134.044769\n",
       "1    14844             0.086   121.835955\n",
       "2    16621             0.082   128.922457\n",
       "3    17401             0.079   131.912850\n",
       "4    19277             0.082   138.841636"
      ]
     },
     "execution_count": 14,
     "metadata": {},
     "output_type": "execute_result"
    }
   ],
   "source": [
    "uac8.head()"
   ]
  },
  {
   "cell_type": "code",
   "execution_count": 15,
   "id": "07c0cabf",
   "metadata": {},
   "outputs": [
    {
     "name": "stderr",
     "output_type": "stream",
     "text": [
      "/Users/lescrone/opt/anaconda3/lib/python3.8/site-packages/seaborn/distributions.py:2557: FutureWarning: `distplot` is a deprecated function and will be removed in a future version. Please adapt your code to use either `displot` (a figure-level function with similar flexibility) or `histplot` (an axes-level function for histograms).\n",
      "  warnings.warn(msg, FutureWarning)\n"
     ]
    },
    {
     "data": {
      "text/plain": [
       "<AxesSubplot:xlabel='LarcenySQRT', ylabel='Density'>"
      ]
     },
     "execution_count": 15,
     "metadata": {},
     "output_type": "execute_result"
    },
    {
     "data": {
      "image/png": "[encoded data removed]",
      "text/plain": [
       "<Figure size 432x288 with 1 Axes>"
      ]
     },
     "metadata": {
      "needs_background": "light"
     },
     "output_type": "display_data"
    }
   ],
   "source": [
    "sns.distplot(uac8['LarcenySQRT'])"
   ]
  },
  {
   "cell_type": "code",
   "execution_count": 16,
   "id": "2407969b",
   "metadata": {},
   "outputs": [
    {
     "data": {
      "text/plain": [
       "BartlettResult(statistic=396.0616119114159, pvalue=3.9653608719881363e-88)"
      ]
     },
     "execution_count": 16,
     "metadata": {},
     "output_type": "execute_result"
    }
   ],
   "source": [
    "scipy.stats.bartlett(uac8['LarcenySQRT'], uac8['Unemploy_Georgia'])"
   ]
  },
  {
   "cell_type": "code",
   "execution_count": 18,
   "id": "386022a6",
   "metadata": {},
   "outputs": [
    {
     "data": {
      "text/plain": [
       "FlignerResult(statistic=45.51382094232037, pvalue=1.5156555687264793e-11)"
      ]
     },
     "execution_count": 18,
     "metadata": {},
     "output_type": "execute_result"
    }
   ],
   "source": [
    "scipy.stats.fligner(uac8['LarcenySQRT'], uac8['Unemploy_Georgia'])"
   ]
  },
  {
   "cell_type": "markdown",
   "id": "688df037",
   "metadata": {},
   "source": [
    "## Sample"
   ]
  },
  {
   "cell_type": "code",
   "execution_count": 19,
   "id": "1f3f39e3",
   "metadata": {},
   "outputs": [
    {
     "name": "stdout",
     "output_type": "stream",
     "text": [
      "<class 'pandas.core.frame.DataFrame'>\n",
      "Int64Index: 36 entries, 0 to 35\n",
      "Data columns (total 3 columns):\n",
      " #   Column            Non-Null Count  Dtype  \n",
      "---  ------            --------------  -----  \n",
      " 0   Larceny           36 non-null     int64  \n",
      " 1   Unemploy_Georgia  36 non-null     float64\n",
      " 2   LarcenySQRT       36 non-null     float64\n",
      "dtypes: float64(2), int64(1)\n",
      "memory usage: 1.1 KB\n"
     ]
    }
   ],
   "source": [
    "uac8.info()"
   ]
  },
  {
   "cell_type": "markdown",
   "id": "b19ba99c",
   "metadata": {},
   "source": [
    "## Independence"
   ]
  },
  {
   "cell_type": "code",
   "execution_count": 20,
   "id": "c6ac6b20",
   "metadata": {},
   "outputs": [
    {
     "data": {
      "text/plain": [
       "0.082    3\n",
       "0.057    3\n",
       "0.073    3\n",
       "0.060    2\n",
       "0.080    2\n",
       "0.054    2\n",
       "0.079    2\n",
       "0.066    2\n",
       "0.076    2\n",
       "0.064    2\n",
       "0.063    2\n",
       "0.091    1\n",
       "0.061    1\n",
       "0.062    1\n",
       "0.072    1\n",
       "0.069    1\n",
       "0.074    1\n",
       "0.067    1\n",
       "0.086    1\n",
       "0.075    1\n",
       "0.089    1\n",
       "0.088    1\n",
       "Name: Unemploy_Georgia, dtype: int64"
      ]
     },
     "execution_count": 20,
     "metadata": {},
     "output_type": "execute_result"
    }
   ],
   "source": [
    "uac8.Unemploy_Georgia.value_counts()"
   ]
  },
  {
   "cell_type": "code",
   "execution_count": 21,
   "id": "5ed80fda",
   "metadata": {},
   "outputs": [
    {
     "name": "stdout",
     "output_type": "stream",
     "text": [
      " Multiple Comparison of Means - Tukey HSD, FWER=0.05 \n",
      "=====================================================\n",
      "group1 group2 meandiff p-adj   lower    upper  reject\n",
      "-----------------------------------------------------\n",
      " 0.054  0.057   0.4311    0.9 -17.9345 18.7966  False\n",
      " 0.054   0.06  -0.3313    0.9 -20.4498 19.7871  False\n",
      " 0.054  0.061   2.0678    0.9 -22.5722 26.7077  False\n",
      " 0.054  0.062   2.0603    0.9 -22.5797 26.7003  False\n",
      " 0.054  0.063  -8.8101    0.9 -28.9285 11.3083  False\n",
      " 0.054  0.064   4.6619    0.9 -15.4566 24.7803  False\n",
      " 0.054  0.066   3.4419    0.9 -16.6766 23.5603  False\n",
      " 0.054  0.067   5.0659    0.9 -19.5741 29.7058  False\n",
      " 0.054  0.069   7.3754    0.9 -17.2646 32.0154  False\n",
      " 0.054  0.072  10.1381    0.9 -14.5019 34.7781  False\n",
      " 0.054  0.073   1.2308    0.9 -17.1347 19.5964  False\n",
      " 0.054  0.074   0.3938    0.9 -24.2462 25.0338  False\n",
      " 0.054  0.075  -8.9177    0.9 -33.5576 15.7223  False\n",
      " 0.054  0.076  11.9349 0.5854  -8.1835 32.0534  False\n",
      " 0.054  0.079   3.3956    0.9 -16.7229  23.514  False\n",
      " 0.054   0.08  13.9044 0.3735  -6.2141 34.0228  False\n",
      " 0.054  0.082    4.326    0.9 -14.0395 22.6916  False\n",
      " 0.054  0.086  -9.8498    0.9 -34.4897 14.7902  False\n",
      " 0.054  0.088    9.183    0.9  -15.457  33.823  False\n",
      " 0.054  0.089   5.5404    0.9 -19.0996 30.1803  False\n",
      " 0.054  0.091    2.359    0.9 -22.2809  26.999  False\n",
      " 0.057   0.06  -0.7624    0.9 -19.1279 17.6032  False\n",
      " 0.057  0.061   1.6367    0.9 -21.5941 24.8675  False\n",
      " 0.057  0.062   1.6292    0.9 -21.6016   24.86  False\n",
      " 0.057  0.063  -9.2412 0.7819 -27.6067  9.1244  False\n",
      " 0.057  0.064   4.2308    0.9 -14.1348 22.5963  False\n",
      " 0.057  0.066   3.0108    0.9 -15.3547 21.3764  False\n",
      " 0.057  0.067   4.6348    0.9  -18.596 27.8656  False\n",
      " 0.057  0.069   6.9443    0.9 -16.2864 30.1751  False\n",
      " 0.057  0.072    9.707    0.9 -13.5237 32.9378  False\n",
      " 0.057  0.073   0.7997    0.9 -15.6269 17.2264  False\n",
      " 0.057  0.074  -0.0373    0.9 -23.2681 23.1935  False\n",
      " 0.057  0.075  -9.3487    0.9 -32.5795 13.8821  False\n",
      " 0.057  0.076  11.5038 0.5131  -6.8617 29.8694  False\n",
      " 0.057  0.079   2.9645    0.9  -15.401 21.3301  False\n",
      " 0.057   0.08  13.4733 0.2928  -4.8923 31.8388  False\n",
      " 0.057  0.082    3.895    0.9 -12.5317 20.3216  False\n",
      " 0.057  0.086 -10.2808    0.9 -33.5116 12.9499  False\n",
      " 0.057  0.088   8.7519    0.9 -14.4788 31.9827  False\n",
      " 0.057  0.089   5.1093    0.9 -18.1215 28.3401  False\n",
      " 0.057  0.091    1.928    0.9 -21.3028 25.1588  False\n",
      "  0.06  0.061   2.3991    0.9 -22.2409  27.039  False\n",
      "  0.06  0.062   2.3916    0.9 -22.2484 27.0316  False\n",
      "  0.06  0.063  -8.4788    0.9 -28.5972 11.6397  False\n",
      "  0.06  0.064   4.9932    0.9 -15.1253 25.1116  False\n",
      "  0.06  0.066   3.7732    0.9 -16.3453 23.8916  False\n",
      "  0.06  0.067   5.3972    0.9 -19.2428 30.0371  False\n",
      "  0.06  0.069   7.7067    0.9 -16.9332 32.3467  False\n",
      "  0.06  0.072  10.4694    0.9 -14.1706 35.1094  False\n",
      "  0.06  0.073   1.5621    0.9 -16.8034 19.9277  False\n",
      "  0.06  0.074   0.7251    0.9 -23.9149 25.3651  False\n",
      "  0.06  0.075  -8.5863    0.9 -33.2263 16.0536  False\n",
      "  0.06  0.076  12.2662 0.5494  -7.8522 32.3847  False\n",
      "  0.06  0.079   3.7269    0.9 -16.3916 23.8453  False\n",
      "  0.06   0.08  14.2357 0.3399  -5.8828 34.3541  False\n",
      "  0.06  0.082   4.6573    0.9 -13.7082 23.0229  False\n",
      "  0.06  0.086  -9.5185    0.9 -34.1584 15.1215  False\n",
      "  0.06  0.088   9.5143    0.9 -15.1257 34.1543  False\n",
      "  0.06  0.089   5.8717    0.9 -18.7683 30.5116  False\n",
      "  0.06  0.091   2.6903    0.9 -21.9496 27.3303  False\n",
      " 0.061  0.062  -0.0075    0.9 -28.4593 28.4443  False\n",
      " 0.061  0.063 -10.8779    0.9 -35.5178 13.7621  False\n",
      " 0.061  0.064   2.5941    0.9 -22.0459 27.2341  False\n",
      " 0.061  0.066   1.3741    0.9 -23.2659 26.0141  False\n",
      " 0.061  0.067   2.9981    0.9 -25.4537 31.4499  False\n",
      " 0.061  0.069   5.3076    0.9 -23.1441 33.7594  False\n",
      " 0.061  0.072   8.0703    0.9 -20.3815 36.5221  False\n",
      " 0.061  0.073   -0.837    0.9 -24.0678 22.3938  False\n",
      " 0.061  0.074   -1.674    0.9 -30.1258 26.7778  False\n",
      " 0.061  0.075 -10.9854    0.9 -39.4372 17.4664  False\n",
      " 0.061  0.076   9.8671    0.9 -14.7728 34.5071  False\n",
      " 0.061  0.079   1.3278    0.9 -23.3122 25.9678  False\n",
      " 0.061   0.08  11.8366 0.8316 -12.8034 36.4765  False\n",
      " 0.061  0.082   2.2582    0.9 -20.9725  25.489  False\n",
      " 0.061  0.086 -11.9175    0.9 -40.3693 16.5342  False\n",
      " 0.061  0.088   7.1152    0.9 -21.3366  35.567  False\n",
      " 0.061  0.089   3.4726    0.9 -24.9792 31.9244  False\n",
      " 0.061  0.091   0.2913    0.9 -28.1605  28.743  False\n",
      " 0.062  0.063 -10.8704    0.9 -35.5104 13.7696  False\n",
      " 0.062  0.064   2.6016    0.9 -22.0384 27.2415  False\n",
      " 0.062  0.066   1.3816    0.9 -23.2584 26.0215  False\n",
      " 0.062  0.067   3.0056    0.9 -25.4462 31.4574  False\n",
      " 0.062  0.069   5.3151    0.9 -23.1367 33.7669  False\n",
      " 0.062  0.072   8.0778    0.9  -20.374 36.5296  False\n",
      " 0.062  0.073  -0.8295    0.9 -24.0603 22.4013  False\n",
      " 0.062  0.074  -1.6665    0.9 -30.1183 26.7853  False\n",
      " 0.062  0.075  -10.978    0.9 -39.4297 17.4738  False\n",
      " 0.062  0.076   9.8746    0.9 -14.7654 34.5146  False\n",
      " 0.062  0.079   1.3353    0.9 -23.3047 25.9752  False\n",
      " 0.062   0.08  11.8441 0.8309 -12.7959  36.484  False\n",
      " 0.062  0.082   2.2657    0.9 -20.9651 25.4965  False\n",
      " 0.062  0.086 -11.9101    0.9 -40.3619 16.5417  False\n",
      " 0.062  0.088   7.1227    0.9 -21.3291 35.5745  False\n",
      " 0.062  0.089   3.4801    0.9 -24.9717 31.9318  False\n",
      " 0.062  0.091   0.2987    0.9  -28.153 28.7505  False\n",
      " 0.063  0.064   13.472 0.4198  -6.6465 33.5904  False\n",
      " 0.063  0.066   12.252  0.551  -7.8665 32.3704  False\n",
      " 0.063  0.067   13.876  0.651  -10.764 38.5159  False\n",
      " 0.063  0.069  16.1855 0.4477  -8.4545 40.8255  False\n",
      " 0.063  0.072  18.9482 0.2368  -5.6918 43.5882  False\n",
      " 0.063  0.073  10.0409 0.6869  -8.3246 28.4065  False\n",
      " 0.063  0.074   9.2039    0.9 -15.4361 33.8439  False\n",
      " 0.063  0.075  -0.1076    0.9 -24.7475 24.5324  False\n",
      " 0.063  0.076   20.745 0.0401   0.6266 40.8634   True\n",
      " 0.063  0.079  12.2057  0.556  -7.9128 32.3241  False\n",
      " 0.063   0.08  22.7145 0.0198    2.596 42.8329   True\n",
      " 0.063  0.082  13.1361  0.325  -5.2294 31.5017  False\n",
      " 0.063  0.086  -1.0397    0.9 -25.6796 23.6003  False\n",
      " 0.063  0.088  17.9931 0.2986  -6.6469 42.6331  False\n",
      " 0.063  0.089  14.3505  0.609 -10.2895 38.9904  False\n",
      " 0.063  0.091  11.1691 0.8907 -13.4708 35.8091  False\n",
      " 0.064  0.066    -1.22    0.9 -21.3384 18.8985  False\n",
      " 0.064  0.067    0.404    0.9  -24.236  25.044  False\n",
      " 0.064  0.069   2.7135    0.9 -21.9264 27.3535  False\n",
      " 0.064  0.072   5.4762    0.9 -19.1637 30.1162  False\n",
      " 0.064  0.073  -3.4311    0.9 -21.7966 14.9345  False\n",
      " 0.064  0.074  -4.2681    0.9  -28.908 20.3719  False\n",
      " 0.064  0.075 -13.5795 0.6773 -38.2195 11.0604  False\n",
      " 0.064  0.076    7.273    0.9 -12.8454 27.3915  False\n",
      " 0.064  0.079  -1.2663    0.9 -21.3847 18.8522  False\n",
      " 0.064   0.08   9.2425 0.8774  -10.876 29.3609  False\n",
      " 0.064  0.082  -0.3358    0.9 -18.7014 18.0297  False\n",
      " 0.064  0.086 -14.5116 0.5947 -39.1516 10.1283  False\n",
      " 0.064  0.088   4.5211    0.9 -20.1188 29.1611  False\n",
      " 0.064  0.089   0.8785    0.9 -23.7615 25.5185  False\n",
      " 0.064  0.091  -2.3028    0.9 -26.9428 22.3371  False\n",
      " 0.066  0.067    1.624    0.9  -23.016  26.264  False\n",
      " 0.066  0.069   3.9335    0.9 -20.7064 28.5735  False\n",
      " 0.066  0.072   6.6962    0.9 -17.9437 31.3362  False\n",
      " 0.066  0.073  -2.2111    0.9 -20.5766 16.1545  False\n",
      " 0.066  0.074  -3.0481    0.9  -27.688 21.5919  False\n",
      " 0.066  0.075 -12.3595 0.7853 -36.9995 12.2804  False\n",
      " 0.066  0.076    8.493    0.9 -11.6254 28.6115  False\n",
      " 0.066  0.079  -0.0463    0.9 -20.1647 20.0722  False\n",
      " 0.066   0.08  10.4625 0.7451   -9.656 30.5809  False\n",
      " 0.066  0.082   0.8842    0.9 -17.4814 19.2497  False\n",
      " 0.066  0.086 -13.2916 0.7028 -37.9316 11.3483  False\n",
      " 0.066  0.088   5.7411    0.9 -18.8988 30.3811  False\n",
      " 0.066  0.089   2.0985    0.9 -22.5415 26.7385  False\n",
      " 0.066  0.091  -1.0828    0.9 -25.7228 23.5571  False\n",
      " 0.067  0.069   2.3095    0.9 -26.1422 30.7613  False\n",
      " 0.067  0.072   5.0722    0.9 -23.3795  33.524  False\n",
      " 0.067  0.073  -3.8351    0.9 -27.0658 19.3957  False\n",
      " 0.067  0.074  -4.6721    0.9 -33.1239 23.7797  False\n",
      " 0.067  0.075 -13.9835 0.8074 -42.4353 14.4683  False\n",
      " 0.067  0.076    6.869    0.9 -17.7709  31.509  False\n",
      " 0.067  0.079  -1.6703    0.9 -26.3103 22.9697  False\n",
      " 0.067   0.08   8.8385    0.9 -15.8015 33.4784  False\n",
      " 0.067  0.082  -0.7398    0.9 -23.9706 22.4909  False\n",
      " 0.067  0.086 -14.9156 0.7359 -43.3674 13.5361  False\n",
      " 0.067  0.088   4.1171    0.9 -24.3346 32.5689  False\n",
      " 0.067  0.089   0.4745    0.9 -27.9773 28.9263  False\n",
      " 0.067  0.091  -2.7068    0.9 -31.1586  25.745  False\n",
      " 0.069  0.072   2.7627    0.9 -25.6891 31.2145  False\n",
      " 0.069  0.073  -6.1446    0.9 -29.3754 17.0862  False\n",
      " 0.069  0.074  -6.9816    0.9 -35.4334 21.4702  False\n",
      " 0.069  0.075 -16.2931 0.6303 -44.7448 12.1587  False\n",
      " 0.069  0.076   4.5595    0.9 -20.0805 29.1995  False\n",
      " 0.069  0.079  -3.9798    0.9 -28.6198 20.6601  False\n",
      " 0.069   0.08   6.5289    0.9  -18.111 31.1689  False\n",
      " 0.069  0.082  -3.0494    0.9 -26.2802 20.1814  False\n",
      " 0.069  0.086 -17.2252 0.5588  -45.677 11.2266  False\n",
      " 0.069  0.088   1.8076    0.9 -26.6442 30.2594  False\n",
      " 0.069  0.089   -1.835    0.9 -30.2868 26.6167  False\n",
      " 0.069  0.091  -5.0164    0.9 -33.4682 23.4354  False\n",
      " 0.072  0.073  -8.9073    0.9 -32.1381 14.3235  False\n",
      " 0.072  0.074  -9.7443    0.9 -38.1961 18.7075  False\n",
      " 0.072  0.075 -19.0558 0.4196 -47.5075   9.396  False\n",
      " 0.072  0.076   1.7968    0.9 -22.8432 26.4368  False\n",
      " 0.072  0.079  -6.7425    0.9 -31.3825 17.8974  False\n",
      " 0.072   0.08   3.7662    0.9 -20.8737 28.4062  False\n",
      " 0.072  0.082  -5.8121    0.9 -29.0429 17.4187  False\n",
      " 0.072  0.086 -19.9879   0.35 -48.4397  8.4639  False\n",
      " 0.072  0.088  -0.9551    0.9 -29.4069 27.4967  False\n",
      " 0.072  0.089  -4.5977    0.9 -33.0495  23.854  False\n",
      " 0.072  0.091  -7.7791    0.9 -36.2308 20.6727  False\n",
      " 0.073  0.074   -0.837    0.9 -24.0678 22.3938  False\n",
      " 0.073  0.075 -10.1485    0.9 -33.3792 13.0823  False\n",
      " 0.073  0.076  10.7041 0.6081  -7.6614 29.0696  False\n",
      " 0.073  0.079   2.1648    0.9 -16.2008 20.5303  False\n",
      " 0.073   0.08  12.6735 0.3758   -5.692 31.0391  False\n",
      " 0.073  0.082   3.0952    0.9 -13.3314 19.5219  False\n",
      " 0.073  0.086 -11.0806  0.839 -34.3114 12.1502  False\n",
      " 0.073  0.088   7.9522    0.9 -15.2786  31.183  False\n",
      " 0.073  0.089   4.3096    0.9 -18.9212 27.5403  False\n",
      " 0.073  0.091   1.1282    0.9 -22.1025  24.359  False\n",
      " 0.074  0.075  -9.3114    0.9 -37.7632 19.1403  False\n",
      " 0.074  0.076  11.5411 0.8578 -13.0989 36.1811  False\n",
      " 0.074  0.079   3.0018    0.9 -21.6382 27.6418  False\n",
      " 0.074   0.08  13.5106 0.6834 -11.1294 38.1505  False\n",
      " 0.074  0.082   3.9322    0.9 -19.2986  27.163  False\n",
      " 0.074  0.086 -10.2436    0.9 -38.6953 18.2082  False\n",
      " 0.074  0.088   8.7892    0.9 -19.6626  37.241  False\n",
      " 0.074  0.089   5.1466    0.9 -23.3052 33.5984  False\n",
      " 0.074  0.091   1.9652    0.9 -26.4865  30.417  False\n",
      " 0.075  0.076  20.8526 0.1444  -3.7874 45.4925  False\n",
      " 0.075  0.079  12.3132 0.7894 -12.3267 36.9532  False\n",
      " 0.075   0.08   22.822 0.0842   -1.818  47.462  False\n",
      " 0.075  0.082  13.2437 0.6359  -9.9871 36.4745  False\n",
      " 0.075  0.086  -0.9321    0.9 -29.3839 27.5197  False\n",
      " 0.075  0.088  18.1007  0.492 -10.3511 46.5524  False\n",
      " 0.075  0.089   14.458  0.771 -13.9938 42.9098  False\n",
      " 0.075  0.091  11.2767    0.9 -17.1751 39.7285  False\n",
      " 0.076  0.079  -8.5393    0.9 -28.6578 11.5791  False\n",
      " 0.076   0.08   1.9694    0.9  -18.149 22.0879  False\n",
      " 0.076  0.082  -7.6089    0.9 -25.9744 10.7567  False\n",
      " 0.076  0.086 -21.7847 0.1123 -46.4246  2.8553  False\n",
      " 0.076  0.088  -2.7519    0.9 -27.3919 21.8881  False\n",
      " 0.076  0.089  -6.3945    0.9 -31.0345 18.2454  False\n",
      " 0.076  0.091  -9.5759    0.9 -34.2158 15.0641  False\n",
      " 0.079   0.08  10.5088   0.74  -9.6097 30.6272  False\n",
      " 0.079  0.082   0.9304    0.9 -17.4351  19.296  False\n",
      " 0.079  0.086 -13.2454 0.7069 -37.8853 11.3946  False\n",
      " 0.079  0.088   5.7874    0.9 -18.8525 30.4274  False\n",
      " 0.079  0.089   2.1448    0.9 -22.4952 26.7847  False\n",
      " 0.079  0.091  -1.0365    0.9 -25.6765 23.6034  False\n",
      "  0.08  0.082  -9.5783 0.7418 -27.9439  8.7872  False\n",
      "  0.08  0.086 -23.7541 0.0646 -48.3941  0.8858  False\n",
      "  0.08  0.088  -4.7213    0.9 -29.3613 19.9186  False\n",
      "  0.08  0.089   -8.364    0.9  -33.004  16.276  False\n",
      "  0.08  0.091 -11.5453 0.8574 -36.1853 13.0947  False\n",
      " 0.082  0.086 -14.1758 0.5483 -37.4066   9.055  False\n",
      " 0.082  0.088    4.857    0.9 -18.3738 28.0878  False\n",
      " 0.082  0.089   1.2143    0.9 -22.0164 24.4451  False\n",
      " 0.082  0.091   -1.967    0.9 -25.1978 21.2638  False\n",
      " 0.086  0.088  19.0328 0.4213   -9.419 47.4846  False\n",
      " 0.086  0.089  15.3901 0.6995 -13.0616 43.8419  False\n",
      " 0.086  0.091  12.2088    0.9  -16.243 40.6606  False\n",
      " 0.088  0.089  -3.6426    0.9 -32.0944 24.8091  False\n",
      " 0.088  0.091   -6.824    0.9 -35.2757 21.6278  False\n",
      " 0.089  0.091  -3.1813    0.9 -31.6331 25.2705  False\n",
      "-----------------------------------------------------\n"
     ]
    }
   ],
   "source": [
    "postHoc = MultiComparison(uac8['LarcenySQRT'], uac8['Unemploy_Georgia'])\n",
    "postHocResults = postHoc.tukeyhsd()\n",
    "print(postHocResults)"
   ]
  },
  {
   "cell_type": "code",
   "execution_count": 22,
   "id": "901014cd",
   "metadata": {},
   "outputs": [
    {
     "data": {
      "text/html": [
       "<div>\n",
       "<style scoped>\n",
       "    .dataframe tbody tr th:only-of-type {\n",
       "        vertical-align: middle;\n",
       "    }\n",
       "\n",
       "    .dataframe tbody tr th {\n",
       "        vertical-align: top;\n",
       "    }\n",
       "\n",
       "    .dataframe thead th {\n",
       "        text-align: right;\n",
       "    }\n",
       "</style>\n",
       "<table border=\"1\" class=\"dataframe\">\n",
       "  <thead>\n",
       "    <tr style=\"text-align: right;\">\n",
       "      <th></th>\n",
       "      <th>Larceny</th>\n",
       "      <th>LarcenySQRT</th>\n",
       "    </tr>\n",
       "    <tr>\n",
       "      <th>Unemploy_Georgia</th>\n",
       "      <th></th>\n",
       "      <th></th>\n",
       "    </tr>\n",
       "  </thead>\n",
       "  <tbody>\n",
       "    <tr>\n",
       "      <th>0.054</th>\n",
       "      <td>17345.500000</td>\n",
       "      <td>131.685728</td>\n",
       "    </tr>\n",
       "    <tr>\n",
       "      <th>0.057</th>\n",
       "      <td>17460.333333</td>\n",
       "      <td>132.116799</td>\n",
       "    </tr>\n",
       "    <tr>\n",
       "      <th>0.060</th>\n",
       "      <td>17269.000000</td>\n",
       "      <td>131.354422</td>\n",
       "    </tr>\n",
       "    <tr>\n",
       "      <th>0.061</th>\n",
       "      <td>17890.000000</td>\n",
       "      <td>133.753505</td>\n",
       "    </tr>\n",
       "    <tr>\n",
       "      <th>0.062</th>\n",
       "      <td>17888.000000</td>\n",
       "      <td>133.746028</td>\n",
       "    </tr>\n",
       "    <tr>\n",
       "      <th>0.063</th>\n",
       "      <td>15136.500000</td>\n",
       "      <td>122.875629</td>\n",
       "    </tr>\n",
       "    <tr>\n",
       "      <th>0.064</th>\n",
       "      <td>18592.000000</td>\n",
       "      <td>136.347591</td>\n",
       "    </tr>\n",
       "    <tr>\n",
       "      <th>0.066</th>\n",
       "      <td>18259.500000</td>\n",
       "      <td>135.127603</td>\n",
       "    </tr>\n",
       "    <tr>\n",
       "      <th>0.067</th>\n",
       "      <td>18701.000000</td>\n",
       "      <td>136.751600</td>\n",
       "    </tr>\n",
       "    <tr>\n",
       "      <th>0.069</th>\n",
       "      <td>19338.000000</td>\n",
       "      <td>139.061138</td>\n",
       "    </tr>\n",
       "    <tr>\n",
       "      <th>0.072</th>\n",
       "      <td>20114.000000</td>\n",
       "      <td>141.823834</td>\n",
       "    </tr>\n",
       "    <tr>\n",
       "      <th>0.073</th>\n",
       "      <td>17667.333333</td>\n",
       "      <td>132.916534</td>\n",
       "    </tr>\n",
       "    <tr>\n",
       "      <th>0.074</th>\n",
       "      <td>17445.000000</td>\n",
       "      <td>132.079522</td>\n",
       "    </tr>\n",
       "    <tr>\n",
       "      <th>0.075</th>\n",
       "      <td>15072.000000</td>\n",
       "      <td>122.768074</td>\n",
       "    </tr>\n",
       "    <tr>\n",
       "      <th>0.076</th>\n",
       "      <td>20627.000000</td>\n",
       "      <td>143.620632</td>\n",
       "    </tr>\n",
       "    <tr>\n",
       "      <th>0.079</th>\n",
       "      <td>18257.000000</td>\n",
       "      <td>135.081312</td>\n",
       "    </tr>\n",
       "    <tr>\n",
       "      <th>0.080</th>\n",
       "      <td>21231.000000</td>\n",
       "      <td>145.590081</td>\n",
       "    </tr>\n",
       "    <tr>\n",
       "      <th>0.082</th>\n",
       "      <td>18524.666667</td>\n",
       "      <td>136.011753</td>\n",
       "    </tr>\n",
       "    <tr>\n",
       "      <th>0.086</th>\n",
       "      <td>14844.000000</td>\n",
       "      <td>121.835955</td>\n",
       "    </tr>\n",
       "    <tr>\n",
       "      <th>0.088</th>\n",
       "      <td>19844.000000</td>\n",
       "      <td>140.868733</td>\n",
       "    </tr>\n",
       "    <tr>\n",
       "      <th>0.089</th>\n",
       "      <td>18831.000000</td>\n",
       "      <td>137.226091</td>\n",
       "    </tr>\n",
       "    <tr>\n",
       "      <th>0.091</th>\n",
       "      <td>17968.000000</td>\n",
       "      <td>134.044769</td>\n",
       "    </tr>\n",
       "  </tbody>\n",
       "</table>\n",
       "</div>"
      ],
      "text/plain": [
       "                       Larceny  LarcenySQRT\n",
       "Unemploy_Georgia                           \n",
       "0.054             17345.500000   131.685728\n",
       "0.057             17460.333333   132.116799\n",
       "0.060             17269.000000   131.354422\n",
       "0.061             17890.000000   133.753505\n",
       "0.062             17888.000000   133.746028\n",
       "0.063             15136.500000   122.875629\n",
       "0.064             18592.000000   136.347591\n",
       "0.066             18259.500000   135.127603\n",
       "0.067             18701.000000   136.751600\n",
       "0.069             19338.000000   139.061138\n",
       "0.072             20114.000000   141.823834\n",
       "0.073             17667.333333   132.916534\n",
       "0.074             17445.000000   132.079522\n",
       "0.075             15072.000000   122.768074\n",
       "0.076             20627.000000   143.620632\n",
       "0.079             18257.000000   135.081312\n",
       "0.080             21231.000000   145.590081\n",
       "0.082             18524.666667   136.011753\n",
       "0.086             14844.000000   121.835955\n",
       "0.088             19844.000000   140.868733\n",
       "0.089             18831.000000   137.226091\n",
       "0.091             17968.000000   134.044769"
      ]
     },
     "execution_count": 22,
     "metadata": {},
     "output_type": "execute_result"
    }
   ],
   "source": [
    "uac8.groupby('Unemploy_Georgia').mean()"
   ]
  },
  {
   "cell_type": "code",
   "execution_count": null,
   "id": "b33831fc",
   "metadata": {},
   "outputs": [],
   "source": []
  }
 ],
 "metadata": {
  "kernelspec": {
   "display_name": "Python 3",
   "language": "python",
   "name": "python3"
  },
  "language_info": {
   "codemirror_mode": {
    "name": "ipython",
    "version": 3
   },
   "file_extension": ".py",
   "mimetype": "text/x-python",
   "name": "python",
   "nbconvert_exporter": "python",
   "pygments_lexer": "ipython3",
   "version": "3.8.8"
  }
 },
 "nbformat": 4,
 "nbformat_minor": 5
}
