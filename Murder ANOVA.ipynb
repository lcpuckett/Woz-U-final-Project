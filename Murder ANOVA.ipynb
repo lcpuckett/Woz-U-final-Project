{
 "cells": [
  {
   "cell_type": "code",
   "execution_count": 38,
   "id": "2a52bcf5",
   "metadata": {},
   "outputs": [],
   "source": [
    "import pandas as pd\n",
    "import numpy as np\n",
    "import scipy\n",
    "from scipy import stats\n",
    "from statsmodels.stats.multicomp import pairwise_tukeyhsd\n",
    "from statsmodels.stats.multicomp import MultiComparison\n",
    "import seaborn as sns"
   ]
  },
  {
   "cell_type": "code",
   "execution_count": 39,
   "id": "827bf4ab",
   "metadata": {},
   "outputs": [],
   "source": [
    "uac = pd.read_csv(\"Unemployment and Crime.csv\")"
   ]
  },
  {
   "cell_type": "code",
   "execution_count": 40,
   "id": "e30cd44a",
   "metadata": {},
   "outputs": [
    {
     "data": {
      "text/html": [
       "<div>\n",
       "<style scoped>\n",
       "    .dataframe tbody tr th:only-of-type {\n",
       "        vertical-align: middle;\n",
       "    }\n",
       "\n",
       "    .dataframe tbody tr th {\n",
       "        vertical-align: top;\n",
       "    }\n",
       "\n",
       "    .dataframe thead th {\n",
       "        text-align: right;\n",
       "    }\n",
       "</style>\n",
       "<table border=\"1\" class=\"dataframe\">\n",
       "  <thead>\n",
       "    <tr style=\"text-align: right;\">\n",
       "      <th></th>\n",
       "      <th>Month</th>\n",
       "      <th>Year</th>\n",
       "      <th>Murder</th>\n",
       "      <th>Rape</th>\n",
       "      <th>Robbery</th>\n",
       "      <th>Assault</th>\n",
       "      <th>Burglary</th>\n",
       "      <th>Larceny</th>\n",
       "      <th>Vehicle_Theft</th>\n",
       "      <th>TotalCrime</th>\n",
       "      <th>Unemploy_Georgia</th>\n",
       "      <th>Nat_Unemploy</th>\n",
       "    </tr>\n",
       "  </thead>\n",
       "  <tbody>\n",
       "    <tr>\n",
       "      <th>0</th>\n",
       "      <td>Jan</td>\n",
       "      <td>2013</td>\n",
       "      <td>56</td>\n",
       "      <td>139</td>\n",
       "      <td>1152</td>\n",
       "      <td>1736</td>\n",
       "      <td>7269</td>\n",
       "      <td>17968</td>\n",
       "      <td>2418</td>\n",
       "      <td>30738</td>\n",
       "      <td>0.091</td>\n",
       "      <td>0.080</td>\n",
       "    </tr>\n",
       "    <tr>\n",
       "      <th>1</th>\n",
       "      <td>Feb</td>\n",
       "      <td>2013</td>\n",
       "      <td>32</td>\n",
       "      <td>127</td>\n",
       "      <td>856</td>\n",
       "      <td>1328</td>\n",
       "      <td>5345</td>\n",
       "      <td>14844</td>\n",
       "      <td>1872</td>\n",
       "      <td>24404</td>\n",
       "      <td>0.086</td>\n",
       "      <td>0.077</td>\n",
       "    </tr>\n",
       "    <tr>\n",
       "      <th>2</th>\n",
       "      <td>Mar</td>\n",
       "      <td>2013</td>\n",
       "      <td>38</td>\n",
       "      <td>144</td>\n",
       "      <td>863</td>\n",
       "      <td>1685</td>\n",
       "      <td>5630</td>\n",
       "      <td>16621</td>\n",
       "      <td>2129</td>\n",
       "      <td>27110</td>\n",
       "      <td>0.082</td>\n",
       "      <td>0.075</td>\n",
       "    </tr>\n",
       "    <tr>\n",
       "      <th>3</th>\n",
       "      <td>Apr</td>\n",
       "      <td>2013</td>\n",
       "      <td>42</td>\n",
       "      <td>160</td>\n",
       "      <td>919</td>\n",
       "      <td>1709</td>\n",
       "      <td>6248</td>\n",
       "      <td>17401</td>\n",
       "      <td>2035</td>\n",
       "      <td>28514</td>\n",
       "      <td>0.079</td>\n",
       "      <td>0.076</td>\n",
       "    </tr>\n",
       "    <tr>\n",
       "      <th>4</th>\n",
       "      <td>May</td>\n",
       "      <td>2013</td>\n",
       "      <td>41</td>\n",
       "      <td>193</td>\n",
       "      <td>1128</td>\n",
       "      <td>1867</td>\n",
       "      <td>7103</td>\n",
       "      <td>19277</td>\n",
       "      <td>2105</td>\n",
       "      <td>31714</td>\n",
       "      <td>0.082</td>\n",
       "      <td>0.075</td>\n",
       "    </tr>\n",
       "  </tbody>\n",
       "</table>\n",
       "</div>"
      ],
      "text/plain": [
       "  Month  Year  Murder  Rape  Robbery  Assault  Burglary  Larceny  \\\n",
       "0   Jan  2013      56   139     1152     1736      7269    17968   \n",
       "1   Feb  2013      32   127      856     1328      5345    14844   \n",
       "2   Mar  2013      38   144      863     1685      5630    16621   \n",
       "3   Apr  2013      42   160      919     1709      6248    17401   \n",
       "4   May  2013      41   193     1128     1867      7103    19277   \n",
       "\n",
       "   Vehicle_Theft  TotalCrime  Unemploy_Georgia  Nat_Unemploy  \n",
       "0           2418       30738             0.091         0.080  \n",
       "1           1872       24404             0.086         0.077  \n",
       "2           2129       27110             0.082         0.075  \n",
       "3           2035       28514             0.079         0.076  \n",
       "4           2105       31714             0.082         0.075  "
      ]
     },
     "execution_count": 40,
     "metadata": {},
     "output_type": "execute_result"
    }
   ],
   "source": [
    "uac.head()"
   ]
  },
  {
   "cell_type": "code",
   "execution_count": 41,
   "id": "98409fd7",
   "metadata": {},
   "outputs": [],
   "source": [
    "uac1 = uac[['Murder', 'Unemploy_Georgia']]"
   ]
  },
  {
   "cell_type": "code",
   "execution_count": 6,
   "id": "12ba1ab3",
   "metadata": {},
   "outputs": [
    {
     "data": {
      "text/html": [
       "<div>\n",
       "<style scoped>\n",
       "    .dataframe tbody tr th:only-of-type {\n",
       "        vertical-align: middle;\n",
       "    }\n",
       "\n",
       "    .dataframe tbody tr th {\n",
       "        vertical-align: top;\n",
       "    }\n",
       "\n",
       "    .dataframe thead th {\n",
       "        text-align: right;\n",
       "    }\n",
       "</style>\n",
       "<table border=\"1\" class=\"dataframe\">\n",
       "  <thead>\n",
       "    <tr style=\"text-align: right;\">\n",
       "      <th></th>\n",
       "      <th>Murder</th>\n",
       "      <th>Unemploy_Georgia</th>\n",
       "    </tr>\n",
       "  </thead>\n",
       "  <tbody>\n",
       "    <tr>\n",
       "      <th>0</th>\n",
       "      <td>56</td>\n",
       "      <td>0.091</td>\n",
       "    </tr>\n",
       "    <tr>\n",
       "      <th>1</th>\n",
       "      <td>32</td>\n",
       "      <td>0.086</td>\n",
       "    </tr>\n",
       "    <tr>\n",
       "      <th>2</th>\n",
       "      <td>38</td>\n",
       "      <td>0.082</td>\n",
       "    </tr>\n",
       "    <tr>\n",
       "      <th>3</th>\n",
       "      <td>42</td>\n",
       "      <td>0.079</td>\n",
       "    </tr>\n",
       "    <tr>\n",
       "      <th>4</th>\n",
       "      <td>41</td>\n",
       "      <td>0.082</td>\n",
       "    </tr>\n",
       "  </tbody>\n",
       "</table>\n",
       "</div>"
      ],
      "text/plain": [
       "   Murder  Unemploy_Georgia\n",
       "0      56             0.091\n",
       "1      32             0.086\n",
       "2      38             0.082\n",
       "3      42             0.079\n",
       "4      41             0.082"
      ]
     },
     "execution_count": 6,
     "metadata": {},
     "output_type": "execute_result"
    }
   ],
   "source": [
    "uac1.head()"
   ]
  },
  {
   "cell_type": "code",
   "execution_count": 42,
   "id": "26744c6c",
   "metadata": {},
   "outputs": [
    {
     "name": "stderr",
     "output_type": "stream",
     "text": [
      "<ipython-input-42-1494953dd90a>:1: SettingWithCopyWarning: \n",
      "A value is trying to be set on a copy of a slice from a DataFrame\n",
      "\n",
      "See the caveats in the documentation: https://pandas.pydata.org/pandas-docs/stable/user_guide/indexing.html#returning-a-view-versus-a-copy\n",
      "  uac1.dropna(inplace = True)\n"
     ]
    }
   ],
   "source": [
    "uac1.dropna(inplace = True)"
   ]
  },
  {
   "cell_type": "code",
   "execution_count": 43,
   "id": "4cfac9e7",
   "metadata": {},
   "outputs": [
    {
     "data": {
      "text/html": [
       "<div>\n",
       "<style scoped>\n",
       "    .dataframe tbody tr th:only-of-type {\n",
       "        vertical-align: middle;\n",
       "    }\n",
       "\n",
       "    .dataframe tbody tr th {\n",
       "        vertical-align: top;\n",
       "    }\n",
       "\n",
       "    .dataframe thead th {\n",
       "        text-align: right;\n",
       "    }\n",
       "</style>\n",
       "<table border=\"1\" class=\"dataframe\">\n",
       "  <thead>\n",
       "    <tr style=\"text-align: right;\">\n",
       "      <th></th>\n",
       "      <th>Murder</th>\n",
       "      <th>Unemploy_Georgia</th>\n",
       "    </tr>\n",
       "  </thead>\n",
       "  <tbody>\n",
       "    <tr>\n",
       "      <th>0</th>\n",
       "      <td>56</td>\n",
       "      <td>0.091</td>\n",
       "    </tr>\n",
       "    <tr>\n",
       "      <th>1</th>\n",
       "      <td>32</td>\n",
       "      <td>0.086</td>\n",
       "    </tr>\n",
       "    <tr>\n",
       "      <th>2</th>\n",
       "      <td>38</td>\n",
       "      <td>0.082</td>\n",
       "    </tr>\n",
       "    <tr>\n",
       "      <th>3</th>\n",
       "      <td>42</td>\n",
       "      <td>0.079</td>\n",
       "    </tr>\n",
       "    <tr>\n",
       "      <th>4</th>\n",
       "      <td>41</td>\n",
       "      <td>0.082</td>\n",
       "    </tr>\n",
       "  </tbody>\n",
       "</table>\n",
       "</div>"
      ],
      "text/plain": [
       "   Murder  Unemploy_Georgia\n",
       "0      56             0.091\n",
       "1      32             0.086\n",
       "2      38             0.082\n",
       "3      42             0.079\n",
       "4      41             0.082"
      ]
     },
     "execution_count": 43,
     "metadata": {},
     "output_type": "execute_result"
    }
   ],
   "source": [
    "uac1.head()"
   ]
  },
  {
   "cell_type": "markdown",
   "id": "60b83e70",
   "metadata": {},
   "source": [
    "## Test Assumptions"
   ]
  },
  {
   "cell_type": "code",
   "execution_count": 44,
   "id": "015ef9b8",
   "metadata": {},
   "outputs": [
    {
     "name": "stderr",
     "output_type": "stream",
     "text": [
      "/Users/lescrone/opt/anaconda3/lib/python3.8/site-packages/seaborn/distributions.py:2557: FutureWarning: `distplot` is a deprecated function and will be removed in a future version. Please adapt your code to use either `displot` (a figure-level function with similar flexibility) or `histplot` (an axes-level function for histograms).\n",
      "  warnings.warn(msg, FutureWarning)\n"
     ]
    },
    {
     "data": {
      "text/plain": [
       "<AxesSubplot:xlabel='Murder', ylabel='Density'>"
      ]
     },
     "execution_count": 44,
     "metadata": {},
     "output_type": "execute_result"
    },
    {
     "data": {
      "image/png": "[encoded data removed]",
      "text/plain": [
       "<Figure size 432x288 with 1 Axes>"
      ]
     },
     "metadata": {
      "needs_background": "light"
     },
     "output_type": "display_data"
    }
   ],
   "source": [
    "sns.distplot(uac1['Murder'])"
   ]
  },
  {
   "cell_type": "code",
   "execution_count": 45,
   "id": "7a3de13d",
   "metadata": {},
   "outputs": [
    {
     "name": "stderr",
     "output_type": "stream",
     "text": [
      "<ipython-input-45-0677fa9641fc>:1: SettingWithCopyWarning: \n",
      "A value is trying to be set on a copy of a slice from a DataFrame.\n",
      "Try using .loc[row_indexer,col_indexer] = value instead\n",
      "\n",
      "See the caveats in the documentation: https://pandas.pydata.org/pandas-docs/stable/user_guide/indexing.html#returning-a-view-versus-a-copy\n",
      "  uac1['MurderSQRT'] = np.sqrt(uac1['Murder'])\n"
     ]
    }
   ],
   "source": [
    "uac1['MurderSQRT'] = np.sqrt(uac1['Murder'])"
   ]
  },
  {
   "cell_type": "code",
   "execution_count": 46,
   "id": "11e8a91a",
   "metadata": {},
   "outputs": [
    {
     "data": {
      "text/html": [
       "<div>\n",
       "<style scoped>\n",
       "    .dataframe tbody tr th:only-of-type {\n",
       "        vertical-align: middle;\n",
       "    }\n",
       "\n",
       "    .dataframe tbody tr th {\n",
       "        vertical-align: top;\n",
       "    }\n",
       "\n",
       "    .dataframe thead th {\n",
       "        text-align: right;\n",
       "    }\n",
       "</style>\n",
       "<table border=\"1\" class=\"dataframe\">\n",
       "  <thead>\n",
       "    <tr style=\"text-align: right;\">\n",
       "      <th></th>\n",
       "      <th>Murder</th>\n",
       "      <th>Unemploy_Georgia</th>\n",
       "      <th>MurderSQRT</th>\n",
       "    </tr>\n",
       "  </thead>\n",
       "  <tbody>\n",
       "    <tr>\n",
       "      <th>0</th>\n",
       "      <td>56</td>\n",
       "      <td>0.091</td>\n",
       "      <td>7.483315</td>\n",
       "    </tr>\n",
       "    <tr>\n",
       "      <th>1</th>\n",
       "      <td>32</td>\n",
       "      <td>0.086</td>\n",
       "      <td>5.656854</td>\n",
       "    </tr>\n",
       "    <tr>\n",
       "      <th>2</th>\n",
       "      <td>38</td>\n",
       "      <td>0.082</td>\n",
       "      <td>6.164414</td>\n",
       "    </tr>\n",
       "    <tr>\n",
       "      <th>3</th>\n",
       "      <td>42</td>\n",
       "      <td>0.079</td>\n",
       "      <td>6.480741</td>\n",
       "    </tr>\n",
       "    <tr>\n",
       "      <th>4</th>\n",
       "      <td>41</td>\n",
       "      <td>0.082</td>\n",
       "      <td>6.403124</td>\n",
       "    </tr>\n",
       "  </tbody>\n",
       "</table>\n",
       "</div>"
      ],
      "text/plain": [
       "   Murder  Unemploy_Georgia  MurderSQRT\n",
       "0      56             0.091    7.483315\n",
       "1      32             0.086    5.656854\n",
       "2      38             0.082    6.164414\n",
       "3      42             0.079    6.480741\n",
       "4      41             0.082    6.403124"
      ]
     },
     "execution_count": 46,
     "metadata": {},
     "output_type": "execute_result"
    }
   ],
   "source": [
    "uac1.head()"
   ]
  },
  {
   "cell_type": "code",
   "execution_count": 47,
   "id": "3ea1fb2d",
   "metadata": {},
   "outputs": [
    {
     "name": "stderr",
     "output_type": "stream",
     "text": [
      "/Users/lescrone/opt/anaconda3/lib/python3.8/site-packages/seaborn/distributions.py:2557: FutureWarning: `distplot` is a deprecated function and will be removed in a future version. Please adapt your code to use either `displot` (a figure-level function with similar flexibility) or `histplot` (an axes-level function for histograms).\n",
      "  warnings.warn(msg, FutureWarning)\n"
     ]
    },
    {
     "data": {
      "text/plain": [
       "<AxesSubplot:xlabel='MurderSQRT', ylabel='Density'>"
      ]
     },
     "execution_count": 47,
     "metadata": {},
     "output_type": "execute_result"
    },
    {
     "data": {
      "image/png": "[encoded data removed]",
      "text/plain": [
       "<Figure size 432x288 with 1 Axes>"
      ]
     },
     "metadata": {
      "needs_background": "light"
     },
     "output_type": "display_data"
    }
   ],
   "source": [
    "sns.distplot(uac1['MurderSQRT'])"
   ]
  },
  {
   "cell_type": "code",
   "execution_count": 48,
   "id": "8e5ec0f9",
   "metadata": {},
   "outputs": [
    {
     "data": {
      "text/plain": [
       "BartlettResult(statistic=235.54573904868204, pvalue=3.6810394724107333e-53)"
      ]
     },
     "execution_count": 48,
     "metadata": {},
     "output_type": "execute_result"
    }
   ],
   "source": [
    "scipy.stats.bartlett(uac1['MurderSQRT'], uac1['Unemploy_Georgia'])"
   ]
  },
  {
   "cell_type": "code",
   "execution_count": 49,
   "id": "88fa648d",
   "metadata": {},
   "outputs": [
    {
     "data": {
      "text/plain": [
       "FlignerResult(statistic=45.544348808662384, pvalue=1.4922159091260272e-11)"
      ]
     },
     "execution_count": 49,
     "metadata": {},
     "output_type": "execute_result"
    }
   ],
   "source": [
    "scipy.stats.fligner(uac1['MurderSQRT'], uac1['Unemploy_Georgia'])"
   ]
  },
  {
   "cell_type": "markdown",
   "id": "7b550d22",
   "metadata": {},
   "source": [
    "## Sample Size"
   ]
  },
  {
   "cell_type": "code",
   "execution_count": 50,
   "id": "bf63ce2e",
   "metadata": {},
   "outputs": [
    {
     "name": "stdout",
     "output_type": "stream",
     "text": [
      "<class 'pandas.core.frame.DataFrame'>\n",
      "Int64Index: 36 entries, 0 to 35\n",
      "Data columns (total 3 columns):\n",
      " #   Column            Non-Null Count  Dtype  \n",
      "---  ------            --------------  -----  \n",
      " 0   Murder            36 non-null     int64  \n",
      " 1   Unemploy_Georgia  36 non-null     float64\n",
      " 2   MurderSQRT        36 non-null     float64\n",
      "dtypes: float64(2), int64(1)\n",
      "memory usage: 1.1 KB\n"
     ]
    }
   ],
   "source": [
    "uac1.info()"
   ]
  },
  {
   "cell_type": "markdown",
   "id": "badc6e9e",
   "metadata": {},
   "source": [
    "## Independence"
   ]
  },
  {
   "cell_type": "markdown",
   "id": "c929545c",
   "metadata": {},
   "source": [
    "## Analysis"
   ]
  },
  {
   "cell_type": "code",
   "execution_count": 51,
   "id": "47d63cf8",
   "metadata": {},
   "outputs": [
    {
     "data": {
      "text/plain": [
       "0.082    3\n",
       "0.057    3\n",
       "0.073    3\n",
       "0.060    2\n",
       "0.080    2\n",
       "0.054    2\n",
       "0.079    2\n",
       "0.066    2\n",
       "0.076    2\n",
       "0.064    2\n",
       "0.063    2\n",
       "0.091    1\n",
       "0.061    1\n",
       "0.062    1\n",
       "0.072    1\n",
       "0.069    1\n",
       "0.074    1\n",
       "0.067    1\n",
       "0.086    1\n",
       "0.075    1\n",
       "0.089    1\n",
       "0.088    1\n",
       "Name: Unemploy_Georgia, dtype: int64"
      ]
     },
     "execution_count": 51,
     "metadata": {},
     "output_type": "execute_result"
    }
   ],
   "source": [
    "uac1.Unemploy_Georgia.value_counts()"
   ]
  },
  {
   "cell_type": "code",
   "execution_count": 52,
   "id": "de91e174",
   "metadata": {},
   "outputs": [
    {
     "name": "stdout",
     "output_type": "stream",
     "text": [
      "Multiple Comparison of Means - Tukey HSD, FWER=0.05 \n",
      "====================================================\n",
      "group1 group2 meandiff p-adj   lower   upper  reject\n",
      "----------------------------------------------------\n",
      " 0.054  0.057  -0.1844    0.9 -1.7548   1.386  False\n",
      " 0.054   0.06  -0.8147 0.8464 -2.5349  0.9056  False\n",
      " 0.054  0.061  -0.8147    0.9 -2.9216  1.2922  False\n",
      " 0.054  0.062  -0.8905    0.9 -2.9974  1.2164  False\n",
      " 0.054  0.063  -0.5333    0.9 -2.2536  1.1869  False\n",
      " 0.054  0.064  -0.1401    0.9 -1.8603  1.5802  False\n",
      " 0.054  0.066  -0.5838    0.9  -2.304  1.1365  False\n",
      " 0.054  0.067  -0.3065    0.9 -2.4134  1.8003  False\n",
      " 0.054  0.069   0.3623    0.9 -1.7446  2.4692  False\n",
      " 0.054  0.072   0.2332    0.9 -1.8737  2.3401  False\n",
      " 0.054  0.073  -0.0779    0.9 -1.6483  1.4924  False\n",
      " 0.054  0.074  -1.2835 0.5505 -3.3904  0.8233  False\n",
      " 0.054  0.075  -2.2518 0.0306 -4.3586 -0.1449   True\n",
      " 0.054  0.076   0.0686    0.9 -1.6516  1.7889  False\n",
      " 0.054  0.079  -1.0453 0.5539 -2.7655  0.6749  False\n",
      " 0.054   0.08  -0.5197    0.9   -2.24  1.2005  False\n",
      " 0.054  0.082  -1.1506 0.2944 -2.7209  0.4198  False\n",
      " 0.054  0.086  -1.7911 0.1407 -3.8979  0.3158  False\n",
      " 0.054  0.088   0.0354    0.9 -2.0715  2.1422  False\n",
      " 0.054  0.089  -0.0317    0.9 -2.1386  2.0751  False\n",
      " 0.054  0.091   0.0354    0.9 -2.0715  2.1422  False\n",
      " 0.057   0.06  -0.6303    0.9 -2.2007  0.9401  False\n",
      " 0.057  0.061  -0.6303    0.9 -2.6167  1.3561  False\n",
      " 0.057  0.062  -0.7061    0.9 -2.6925  1.2803  False\n",
      " 0.057  0.063  -0.3489    0.9 -1.9193  1.2214  False\n",
      " 0.057  0.064   0.0443    0.9  -1.526  1.6147  False\n",
      " 0.057  0.066  -0.3994    0.9 -1.9698   1.171  False\n",
      " 0.057  0.067  -0.1221    0.9 -2.1085  1.8642  False\n",
      " 0.057  0.069   0.5467    0.9 -1.4397  2.5331  False\n",
      " 0.057  0.072   0.4176    0.9 -1.5688   2.404  False\n",
      " 0.057  0.073   0.1065    0.9 -1.2981   1.511  False\n",
      " 0.057  0.074  -1.0991 0.6724 -3.0855  0.8872  False\n",
      " 0.057  0.075  -2.0674 0.0374 -4.0538  -0.081   True\n",
      " 0.057  0.076    0.253    0.9 -1.3173  1.8234  False\n",
      " 0.057  0.079  -0.8609 0.6836 -2.4313  0.7095  False\n",
      " 0.057   0.08  -0.3353    0.9 -1.9057   1.235  False\n",
      " 0.057  0.082  -0.9662 0.3804 -2.3708  0.4384  False\n",
      " 0.057  0.086  -1.6067 0.1842 -3.5931  0.3797  False\n",
      " 0.057  0.088   0.2198    0.9 -1.7666  2.2061  False\n",
      " 0.057  0.089   0.1526    0.9 -1.8337   2.139  False\n",
      " 0.057  0.091   0.2198    0.9 -1.7666  2.2061  False\n",
      "  0.06  0.061      0.0    0.9 -2.1069  2.1069  False\n",
      "  0.06  0.062  -0.0758    0.9 -2.1827   2.031  False\n",
      "  0.06  0.063   0.2814    0.9 -1.4389  2.0016  False\n",
      "  0.06  0.064   0.6746    0.9 -1.0456  2.3949  False\n",
      "  0.06  0.066   0.2309    0.9 -1.4893  1.9512  False\n",
      "  0.06  0.067   0.5082    0.9 -1.5987   2.615  False\n",
      "  0.06  0.069    1.177 0.6608 -0.9299  3.2839  False\n",
      "  0.06  0.072   1.0479 0.7945  -1.059  3.1548  False\n",
      "  0.06  0.073   0.7368 0.8561 -0.8336  2.3071  False\n",
      "  0.06  0.074  -0.4688    0.9 -2.5757   1.638  False\n",
      "  0.06  0.075  -1.4371 0.3928  -3.544  0.6698  False\n",
      "  0.06  0.076   0.8833 0.7594 -0.8369  2.6036  False\n",
      "  0.06  0.079  -0.2306    0.9 -1.9508  1.4896  False\n",
      "  0.06   0.08    0.295    0.9 -1.4253  2.0152  False\n",
      "  0.06  0.082  -0.3359    0.9 -1.9062  1.2345  False\n",
      "  0.06  0.086  -0.9764 0.8686 -3.0833  1.1305  False\n",
      "  0.06  0.088   0.8501    0.9 -1.2568  2.9569  False\n",
      "  0.06  0.089   0.7829    0.9 -1.3239  2.8898  False\n",
      "  0.06  0.091   0.8501    0.9 -1.2568  2.9569  False\n",
      " 0.061  0.062  -0.0758    0.9 -2.5086   2.357  False\n",
      " 0.061  0.063   0.2814    0.9 -1.8255  2.3882  False\n",
      " 0.061  0.064   0.6746    0.9 -1.4322  2.7815  False\n",
      " 0.061  0.066   0.2309    0.9  -1.876  2.3378  False\n",
      " 0.061  0.067   0.5082    0.9 -1.9246   2.941  False\n",
      " 0.061  0.069    1.177 0.8241 -1.2558  3.6098  False\n",
      " 0.061  0.072   1.0479    0.9 -1.3849  3.4807  False\n",
      " 0.061  0.073   0.7368    0.9 -1.2496  2.7231  False\n",
      " 0.061  0.074  -0.4688    0.9 -2.9016   1.964  False\n",
      " 0.061  0.075  -1.4371 0.5909 -3.8699  0.9957  False\n",
      " 0.061  0.076   0.8833    0.9 -1.2235  2.9902  False\n",
      " 0.061  0.079  -0.2306    0.9 -2.3375  1.8763  False\n",
      " 0.061   0.08    0.295    0.9 -1.8119  2.4018  False\n",
      " 0.061  0.082  -0.3359    0.9 -2.3223  1.6505  False\n",
      " 0.061  0.086  -0.9764    0.9 -3.4092  1.4564  False\n",
      " 0.061  0.088   0.8501    0.9 -1.5827  3.2829  False\n",
      " 0.061  0.089   0.7829    0.9 -1.6498  3.2157  False\n",
      " 0.061  0.091   0.8501    0.9 -1.5827  3.2829  False\n",
      " 0.062  0.063   0.3572    0.9 -1.7497   2.464  False\n",
      " 0.062  0.064   0.7504    0.9 -1.3564  2.8573  False\n",
      " 0.062  0.066   0.3067    0.9 -1.8001  2.4136  False\n",
      " 0.062  0.067    0.584    0.9 -1.8488  3.0168  False\n",
      " 0.062  0.069   1.2528 0.7561   -1.18  3.6856  False\n",
      " 0.062  0.072   1.1237 0.8719 -1.3091  3.5565  False\n",
      " 0.062  0.073   0.8126    0.9 -1.1738  2.7989  False\n",
      " 0.062  0.074   -0.393    0.9 -2.8258  2.0398  False\n",
      " 0.062  0.075  -1.3613 0.6589 -3.7941  1.0715  False\n",
      " 0.062  0.076   0.9591 0.8865 -1.1477   3.066  False\n",
      " 0.062  0.079  -0.1548    0.9 -2.2616  1.9521  False\n",
      " 0.062   0.08   0.3708    0.9 -1.7361  2.4776  False\n",
      " 0.062  0.082  -0.2601    0.9 -2.2464  1.7263  False\n",
      " 0.062  0.086  -0.9006    0.9 -3.3334  1.5322  False\n",
      " 0.062  0.088   0.9259    0.9 -1.5069  3.3587  False\n",
      " 0.062  0.089   0.8588    0.9  -1.574  3.2916  False\n",
      " 0.062  0.091   0.9259    0.9 -1.5069  3.3587  False\n",
      " 0.063  0.064   0.3933    0.9  -1.327  2.1135  False\n",
      " 0.063  0.066  -0.0504    0.9 -1.7707  1.6698  False\n",
      " 0.063  0.067   0.2268    0.9   -1.88  2.3337  False\n",
      " 0.063  0.069   0.8956    0.9 -1.2112  3.0025  False\n",
      " 0.063  0.072   0.7665    0.9 -1.3403  2.8734  False\n",
      " 0.063  0.073   0.4554    0.9 -1.1149  2.0258  False\n",
      " 0.063  0.074  -0.7502    0.9 -2.8571  1.3567  False\n",
      " 0.063  0.075  -1.7185 0.1763 -3.8253  0.3884  False\n",
      " 0.063  0.076    0.602    0.9 -1.1183  2.3222  False\n",
      " 0.063  0.079   -0.512    0.9 -2.2322  1.2083  False\n",
      " 0.063   0.08   0.0136    0.9 -1.7066  1.7338  False\n",
      " 0.063  0.082  -0.6172    0.9 -2.1876  0.9531  False\n",
      " 0.063  0.086  -1.2578 0.5772 -3.3646  0.8491  False\n",
      " 0.063  0.088   0.5687    0.9 -1.5381  2.6756  False\n",
      " 0.063  0.089   0.5016    0.9 -1.6053  2.6085  False\n",
      " 0.063  0.091   0.5687    0.9 -1.5381  2.6756  False\n",
      " 0.064  0.066  -0.4437    0.9  -2.164  1.2765  False\n",
      " 0.064  0.067  -0.1665    0.9 -2.2733  1.9404  False\n",
      " 0.064  0.069   0.5024    0.9 -1.6045  2.6092  False\n",
      " 0.064  0.072   0.3733    0.9 -1.7336  2.4801  False\n",
      " 0.064  0.073   0.0621    0.9 -1.5082  1.6325  False\n",
      " 0.064  0.074  -1.1435 0.6956 -3.2503  0.9634  False\n",
      " 0.064  0.075  -2.1117 0.0492 -4.2186 -0.0049   True\n",
      " 0.064  0.076   0.2087    0.9 -1.5116  1.9289  False\n",
      " 0.064  0.079  -0.9052 0.7316 -2.6255   0.815  False\n",
      " 0.064   0.08  -0.3797    0.9 -2.0999  1.3406  False\n",
      " 0.064  0.082  -1.0105 0.4766 -2.5809  0.5598  False\n",
      " 0.064  0.086   -1.651 0.2163 -3.7579  0.4558  False\n",
      " 0.064  0.088   0.1754    0.9 -1.9314  2.2823  False\n",
      " 0.064  0.089   0.1083    0.9 -1.9985  2.2152  False\n",
      " 0.064  0.091   0.1754    0.9 -1.9314  2.2823  False\n",
      " 0.066  0.067   0.2773    0.9 -1.8296  2.3841  False\n",
      " 0.066  0.069   0.9461    0.9 -1.1608   3.053  False\n",
      " 0.066  0.072    0.817    0.9 -1.2899  2.9238  False\n",
      " 0.066  0.073   0.5059    0.9 -1.0645  2.0762  False\n",
      " 0.066  0.074  -0.6997    0.9 -2.8066  1.4071  False\n",
      " 0.066  0.075   -1.668 0.2056 -3.7749  0.4389  False\n",
      " 0.066  0.076   0.6524    0.9 -1.0678  2.3727  False\n",
      " 0.066  0.079  -0.4615    0.9 -2.1818  1.2587  False\n",
      " 0.066   0.08    0.064    0.9 -1.6562  1.7843  False\n",
      " 0.066  0.082  -0.5668    0.9 -2.1372  1.0036  False\n",
      " 0.066  0.086  -1.2073 0.6295 -3.3142  0.8996  False\n",
      " 0.066  0.088   0.6192    0.9 -1.4877   2.726  False\n",
      " 0.066  0.089    0.552    0.9 -1.5548  2.6589  False\n",
      " 0.066  0.091   0.6192    0.9 -1.4877   2.726  False\n",
      " 0.067  0.069   0.6688    0.9  -1.764  3.1016  False\n",
      " 0.067  0.072   0.5397    0.9 -1.8931  2.9725  False\n",
      " 0.067  0.073   0.2286    0.9 -1.7578   2.215  False\n",
      " 0.067  0.074   -0.977    0.9 -3.4098  1.4558  False\n",
      " 0.067  0.075  -1.9453 0.1955 -4.3781  0.4875  False\n",
      " 0.067  0.076   0.3751    0.9 -1.7317   2.482  False\n",
      " 0.067  0.079  -0.7388    0.9 -2.8456  1.3681  False\n",
      " 0.067   0.08  -0.2132    0.9 -2.3201  1.8936  False\n",
      " 0.067  0.082  -0.8441    0.9 -2.8304  1.1423  False\n",
      " 0.067  0.086  -1.4846 0.5483 -3.9174  0.9482  False\n",
      " 0.067  0.088   0.3419    0.9 -2.0909  2.7747  False\n",
      " 0.067  0.089   0.2748    0.9  -2.158  2.7076  False\n",
      " 0.067  0.091   0.3419    0.9 -2.0909  2.7747  False\n",
      " 0.069  0.072  -0.1291    0.9 -2.5619  2.3037  False\n",
      " 0.069  0.073  -0.4402    0.9 -2.4266  1.5461  False\n",
      " 0.069  0.074  -1.6458 0.4048 -4.0786   0.787  False\n",
      " 0.069  0.075  -2.6141 0.0294 -5.0469 -0.1813   True\n",
      " 0.069  0.076  -0.2937    0.9 -2.4005  1.8132  False\n",
      " 0.069  0.079  -1.4076 0.4232 -3.5145  0.6993  False\n",
      " 0.069   0.08   -0.882    0.9 -2.9889  1.2248  False\n",
      " 0.069  0.082  -1.5129 0.2475 -3.4993  0.4735  False\n",
      " 0.069  0.086  -2.1534 0.1115 -4.5862  0.2794  False\n",
      " 0.069  0.088  -0.3269    0.9 -2.7597  2.1059  False\n",
      " 0.069  0.089  -0.3941    0.9 -2.8268  2.0387  False\n",
      " 0.069  0.091  -0.3269    0.9 -2.7597  2.1059  False\n",
      " 0.072  0.073  -0.3111    0.9 -2.2975  1.6752  False\n",
      " 0.072  0.074  -1.5167 0.5194 -3.9495  0.9161  False\n",
      " 0.072  0.075   -2.485 0.0429 -4.9178 -0.0522   True\n",
      " 0.072  0.076  -0.1646    0.9 -2.2714  1.9423  False\n",
      " 0.072  0.079  -1.2785 0.5557 -3.3854  0.8284  False\n",
      " 0.072   0.08  -0.7529    0.9 -2.8598  1.3539  False\n",
      " 0.072  0.082  -1.3838  0.362 -3.3701  0.6026  False\n",
      " 0.072  0.086  -2.0243 0.1587 -4.4571  0.4085  False\n",
      " 0.072  0.088  -0.1978    0.9 -2.6306   2.235  False\n",
      " 0.072  0.089  -0.2649    0.9 -2.6977  2.1678  False\n",
      " 0.072  0.091  -0.1978    0.9 -2.6306   2.235  False\n",
      " 0.073  0.074  -1.2056 0.5555  -3.192  0.7808  False\n",
      " 0.073  0.075  -2.1739 0.0254 -4.1602 -0.1875   True\n",
      " 0.073  0.076   0.1466    0.9 -1.4238  1.7169  False\n",
      " 0.073  0.079  -0.9674 0.5357 -2.5377   0.603  False\n",
      " 0.073   0.08  -0.4418    0.9 -2.0122  1.1285  False\n",
      " 0.073  0.082  -1.0727 0.2444 -2.4772  0.3319  False\n",
      " 0.073  0.086  -1.7132 0.1294 -3.6995  0.2732  False\n",
      " 0.073  0.088   0.1133    0.9 -1.8731  2.0997  False\n",
      " 0.073  0.089   0.0462    0.9 -1.9402  2.0325  False\n",
      " 0.073  0.091   0.1133    0.9 -1.8731  2.0997  False\n",
      " 0.074  0.075  -0.9683    0.9 -3.4011  1.4645  False\n",
      " 0.074  0.076   1.3522 0.4802 -0.7547   3.459  False\n",
      " 0.074  0.079   0.2382    0.9 -1.8686  2.3451  False\n",
      " 0.074   0.08   0.7638    0.9 -1.3431  2.8706  False\n",
      " 0.074  0.082    0.133    0.9 -1.8534  2.1193  False\n",
      " 0.074  0.086  -0.5076    0.9 -2.9404  1.9252  False\n",
      " 0.074  0.088   1.3189 0.6969 -1.1139  3.7517  False\n",
      " 0.074  0.089   1.2518 0.7571  -1.181  3.6846  False\n",
      " 0.074  0.091   1.3189 0.6969 -1.1139  3.7517  False\n",
      " 0.075  0.076   2.3204 0.0242  0.2136  4.4273   True\n",
      " 0.075  0.079   1.2065 0.6303 -0.9004  3.3134  False\n",
      " 0.075   0.08   1.7321 0.1695 -0.3748  3.8389  False\n",
      " 0.075  0.082   1.1012 0.6701 -0.8852  3.0876  False\n",
      " 0.075  0.086   0.4607    0.9 -1.9721  2.8935  False\n",
      " 0.075  0.088   2.2872 0.0764 -0.1456    4.72  False\n",
      " 0.075  0.089     2.22 0.0922 -0.2127  4.6528  False\n",
      " 0.075  0.091   2.2872 0.0764 -0.1456    4.72  False\n",
      " 0.076  0.079  -1.1139  0.468 -2.8342  0.6063  False\n",
      " 0.076   0.08  -0.5884    0.9 -2.3086  1.1319  False\n",
      " 0.076  0.082  -1.2192 0.2263 -2.7896  0.3512  False\n",
      " 0.076  0.086  -1.8597 0.1134 -3.9666  0.2471  False\n",
      " 0.076  0.088  -0.0333    0.9 -2.1401  2.0736  False\n",
      " 0.076  0.089  -0.1004    0.9 -2.2072  2.0065  False\n",
      " 0.076  0.091  -0.0333    0.9 -2.1401  2.0736  False\n",
      " 0.079   0.08   0.5256    0.9 -1.1947  2.2458  False\n",
      " 0.079  0.082  -0.1053    0.9 -1.6756  1.4651  False\n",
      " 0.079  0.086  -0.7458    0.9 -2.8527  1.3611  False\n",
      " 0.079  0.088   1.0807 0.7606 -1.0262  3.1875  False\n",
      " 0.079  0.089   1.0136 0.8301 -1.0933  3.1204  False\n",
      " 0.079  0.091   1.0807 0.7606 -1.0262  3.1875  False\n",
      "  0.08  0.082  -0.6308    0.9 -2.2012  0.9395  False\n",
      "  0.08  0.086  -1.2713 0.5631 -3.3782  0.8355  False\n",
      "  0.08  0.088   0.5551    0.9 -1.5517   2.662  False\n",
      "  0.08  0.089    0.488    0.9 -1.6189  2.5949  False\n",
      "  0.08  0.091   0.5551    0.9 -1.5517   2.662  False\n",
      " 0.082  0.086  -0.6405    0.9 -2.6269  1.3459  False\n",
      " 0.082  0.088    1.186 0.5771 -0.8004  3.1723  False\n",
      " 0.082  0.089   1.1188 0.6508 -0.8675  3.1052  False\n",
      " 0.082  0.091    1.186 0.5771 -0.8004  3.1723  False\n",
      " 0.086  0.088   1.8265 0.2645 -0.6063  4.2593  False\n",
      " 0.086  0.089   1.7593 0.3109 -0.6734  4.1921  False\n",
      " 0.086  0.091   1.8265 0.2645 -0.6063  4.2593  False\n",
      " 0.088  0.089  -0.0671    0.9 -2.4999  2.3657  False\n",
      " 0.088  0.091      0.0    0.9 -2.4328  2.4328  False\n",
      " 0.089  0.091   0.0671    0.9 -2.3657  2.4999  False\n",
      "----------------------------------------------------\n"
     ]
    }
   ],
   "source": [
    "postHoc = MultiComparison(uac1['MurderSQRT'], uac1['Unemploy_Georgia'])\n",
    "postHocResults = postHoc.tukeyhsd()\n",
    "print(postHocResults)"
   ]
  },
  {
   "cell_type": "code",
   "execution_count": 53,
   "id": "63b792ca",
   "metadata": {},
   "outputs": [
    {
     "data": {
      "text/html": [
       "<div>\n",
       "<style scoped>\n",
       "    .dataframe tbody tr th:only-of-type {\n",
       "        vertical-align: middle;\n",
       "    }\n",
       "\n",
       "    .dataframe tbody tr th {\n",
       "        vertical-align: top;\n",
       "    }\n",
       "\n",
       "    .dataframe thead th {\n",
       "        text-align: right;\n",
       "    }\n",
       "</style>\n",
       "<table border=\"1\" class=\"dataframe\">\n",
       "  <thead>\n",
       "    <tr style=\"text-align: right;\">\n",
       "      <th></th>\n",
       "      <th>Murder</th>\n",
       "      <th>MurderSQRT</th>\n",
       "    </tr>\n",
       "    <tr>\n",
       "      <th>Unemploy_Georgia</th>\n",
       "      <th></th>\n",
       "      <th></th>\n",
       "    </tr>\n",
       "  </thead>\n",
       "  <tbody>\n",
       "    <tr>\n",
       "      <th>0.054</th>\n",
       "      <td>55.500000</td>\n",
       "      <td>7.447941</td>\n",
       "    </tr>\n",
       "    <tr>\n",
       "      <th>0.057</th>\n",
       "      <td>53.000000</td>\n",
       "      <td>7.263551</td>\n",
       "    </tr>\n",
       "    <tr>\n",
       "      <th>0.060</th>\n",
       "      <td>44.000000</td>\n",
       "      <td>6.633250</td>\n",
       "    </tr>\n",
       "    <tr>\n",
       "      <th>0.061</th>\n",
       "      <td>44.000000</td>\n",
       "      <td>6.633250</td>\n",
       "    </tr>\n",
       "    <tr>\n",
       "      <th>0.062</th>\n",
       "      <td>43.000000</td>\n",
       "      <td>6.557439</td>\n",
       "    </tr>\n",
       "    <tr>\n",
       "      <th>0.063</th>\n",
       "      <td>48.000000</td>\n",
       "      <td>6.914605</td>\n",
       "    </tr>\n",
       "    <tr>\n",
       "      <th>0.064</th>\n",
       "      <td>53.500000</td>\n",
       "      <td>7.307887</td>\n",
       "    </tr>\n",
       "    <tr>\n",
       "      <th>0.066</th>\n",
       "      <td>47.500000</td>\n",
       "      <td>6.864156</td>\n",
       "    </tr>\n",
       "    <tr>\n",
       "      <th>0.067</th>\n",
       "      <td>51.000000</td>\n",
       "      <td>7.141428</td>\n",
       "    </tr>\n",
       "    <tr>\n",
       "      <th>0.069</th>\n",
       "      <td>61.000000</td>\n",
       "      <td>7.810250</td>\n",
       "    </tr>\n",
       "    <tr>\n",
       "      <th>0.072</th>\n",
       "      <td>59.000000</td>\n",
       "      <td>7.681146</td>\n",
       "    </tr>\n",
       "    <tr>\n",
       "      <th>0.073</th>\n",
       "      <td>54.333333</td>\n",
       "      <td>7.370018</td>\n",
       "    </tr>\n",
       "    <tr>\n",
       "      <th>0.074</th>\n",
       "      <td>38.000000</td>\n",
       "      <td>6.164414</td>\n",
       "    </tr>\n",
       "    <tr>\n",
       "      <th>0.075</th>\n",
       "      <td>27.000000</td>\n",
       "      <td>5.196152</td>\n",
       "    </tr>\n",
       "    <tr>\n",
       "      <th>0.076</th>\n",
       "      <td>56.500000</td>\n",
       "      <td>7.516575</td>\n",
       "    </tr>\n",
       "    <tr>\n",
       "      <th>0.079</th>\n",
       "      <td>41.000000</td>\n",
       "      <td>6.402648</td>\n",
       "    </tr>\n",
       "    <tr>\n",
       "      <th>0.080</th>\n",
       "      <td>48.000000</td>\n",
       "      <td>6.928203</td>\n",
       "    </tr>\n",
       "    <tr>\n",
       "      <th>0.082</th>\n",
       "      <td>39.666667</td>\n",
       "      <td>6.297365</td>\n",
       "    </tr>\n",
       "    <tr>\n",
       "      <th>0.086</th>\n",
       "      <td>32.000000</td>\n",
       "      <td>5.656854</td>\n",
       "    </tr>\n",
       "    <tr>\n",
       "      <th>0.088</th>\n",
       "      <td>56.000000</td>\n",
       "      <td>7.483315</td>\n",
       "    </tr>\n",
       "    <tr>\n",
       "      <th>0.089</th>\n",
       "      <td>55.000000</td>\n",
       "      <td>7.416198</td>\n",
       "    </tr>\n",
       "    <tr>\n",
       "      <th>0.091</th>\n",
       "      <td>56.000000</td>\n",
       "      <td>7.483315</td>\n",
       "    </tr>\n",
       "  </tbody>\n",
       "</table>\n",
       "</div>"
      ],
      "text/plain": [
       "                     Murder  MurderSQRT\n",
       "Unemploy_Georgia                       \n",
       "0.054             55.500000    7.447941\n",
       "0.057             53.000000    7.263551\n",
       "0.060             44.000000    6.633250\n",
       "0.061             44.000000    6.633250\n",
       "0.062             43.000000    6.557439\n",
       "0.063             48.000000    6.914605\n",
       "0.064             53.500000    7.307887\n",
       "0.066             47.500000    6.864156\n",
       "0.067             51.000000    7.141428\n",
       "0.069             61.000000    7.810250\n",
       "0.072             59.000000    7.681146\n",
       "0.073             54.333333    7.370018\n",
       "0.074             38.000000    6.164414\n",
       "0.075             27.000000    5.196152\n",
       "0.076             56.500000    7.516575\n",
       "0.079             41.000000    6.402648\n",
       "0.080             48.000000    6.928203\n",
       "0.082             39.666667    6.297365\n",
       "0.086             32.000000    5.656854\n",
       "0.088             56.000000    7.483315\n",
       "0.089             55.000000    7.416198\n",
       "0.091             56.000000    7.483315"
      ]
     },
     "execution_count": 53,
     "metadata": {},
     "output_type": "execute_result"
    }
   ],
   "source": [
    "uac1.groupby('Unemploy_Georgia').mean()"
   ]
  },
  {
   "cell_type": "code",
   "execution_count": null,
   "id": "33f1d2b5",
   "metadata": {},
   "outputs": [],
   "source": []
  }
 ],
 "metadata": {
  "kernelspec": {
   "display_name": "Python 3",
   "language": "python",
   "name": "python3"
  },
  "language_info": {
   "codemirror_mode": {
    "name": "ipython",
    "version": 3
   },
   "file_extension": ".py",
   "mimetype": "text/x-python",
   "name": "python",
   "nbconvert_exporter": "python",
   "pygments_lexer": "ipython3",
   "version": "3.8.8"
  }
 },
 "nbformat": 4,
 "nbformat_minor": 5
}
