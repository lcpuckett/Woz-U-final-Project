{
 "cells": [
  {
   "cell_type": "code",
   "execution_count": 1,
   "id": "8cdaeb73",
   "metadata": {},
   "outputs": [],
   "source": [
    "import pandas as pd\n",
    "import numpy as np\n",
    "import scipy\n",
    "from scipy import stats\n",
    "from statsmodels.stats.multicomp import pairwise_tukeyhsd\n",
    "from statsmodels.stats.multicomp import MultiComparison\n",
    "import seaborn as sns"
   ]
  },
  {
   "cell_type": "code",
   "execution_count": 2,
   "id": "3b61a981",
   "metadata": {},
   "outputs": [],
   "source": [
    "uac = pd.read_csv(\"Unemployment and Crime.csv\")"
   ]
  },
  {
   "cell_type": "code",
   "execution_count": 3,
   "id": "0515dc94",
   "metadata": {},
   "outputs": [],
   "source": [
    "uac1 = uac[['Rape', 'Unemploy_Georgia']]"
   ]
  },
  {
   "cell_type": "code",
   "execution_count": 4,
   "id": "f39d6b2e",
   "metadata": {},
   "outputs": [
    {
     "data": {
      "text/html": [
       "<div>\n",
       "<style scoped>\n",
       "    .dataframe tbody tr th:only-of-type {\n",
       "        vertical-align: middle;\n",
       "    }\n",
       "\n",
       "    .dataframe tbody tr th {\n",
       "        vertical-align: top;\n",
       "    }\n",
       "\n",
       "    .dataframe thead th {\n",
       "        text-align: right;\n",
       "    }\n",
       "</style>\n",
       "<table border=\"1\" class=\"dataframe\">\n",
       "  <thead>\n",
       "    <tr style=\"text-align: right;\">\n",
       "      <th></th>\n",
       "      <th>Rape</th>\n",
       "      <th>Unemploy_Georgia</th>\n",
       "    </tr>\n",
       "  </thead>\n",
       "  <tbody>\n",
       "    <tr>\n",
       "      <th>0</th>\n",
       "      <td>139</td>\n",
       "      <td>0.091</td>\n",
       "    </tr>\n",
       "    <tr>\n",
       "      <th>1</th>\n",
       "      <td>127</td>\n",
       "      <td>0.086</td>\n",
       "    </tr>\n",
       "    <tr>\n",
       "      <th>2</th>\n",
       "      <td>144</td>\n",
       "      <td>0.082</td>\n",
       "    </tr>\n",
       "    <tr>\n",
       "      <th>3</th>\n",
       "      <td>160</td>\n",
       "      <td>0.079</td>\n",
       "    </tr>\n",
       "    <tr>\n",
       "      <th>4</th>\n",
       "      <td>193</td>\n",
       "      <td>0.082</td>\n",
       "    </tr>\n",
       "  </tbody>\n",
       "</table>\n",
       "</div>"
      ],
      "text/plain": [
       "   Rape  Unemploy_Georgia\n",
       "0   139             0.091\n",
       "1   127             0.086\n",
       "2   144             0.082\n",
       "3   160             0.079\n",
       "4   193             0.082"
      ]
     },
     "execution_count": 4,
     "metadata": {},
     "output_type": "execute_result"
    }
   ],
   "source": [
    "uac1.head()"
   ]
  },
  {
   "cell_type": "code",
   "execution_count": 5,
   "id": "1901341b",
   "metadata": {},
   "outputs": [
    {
     "name": "stderr",
     "output_type": "stream",
     "text": [
      "<ipython-input-5-1494953dd90a>:1: SettingWithCopyWarning: \n",
      "A value is trying to be set on a copy of a slice from a DataFrame\n",
      "\n",
      "See the caveats in the documentation: https://pandas.pydata.org/pandas-docs/stable/user_guide/indexing.html#returning-a-view-versus-a-copy\n",
      "  uac1.dropna(inplace = True)\n"
     ]
    }
   ],
   "source": [
    "uac1.dropna(inplace = True)"
   ]
  },
  {
   "cell_type": "code",
   "execution_count": 6,
   "id": "af12c085",
   "metadata": {},
   "outputs": [
    {
     "data": {
      "text/html": [
       "<div>\n",
       "<style scoped>\n",
       "    .dataframe tbody tr th:only-of-type {\n",
       "        vertical-align: middle;\n",
       "    }\n",
       "\n",
       "    .dataframe tbody tr th {\n",
       "        vertical-align: top;\n",
       "    }\n",
       "\n",
       "    .dataframe thead th {\n",
       "        text-align: right;\n",
       "    }\n",
       "</style>\n",
       "<table border=\"1\" class=\"dataframe\">\n",
       "  <thead>\n",
       "    <tr style=\"text-align: right;\">\n",
       "      <th></th>\n",
       "      <th>Rape</th>\n",
       "      <th>Unemploy_Georgia</th>\n",
       "    </tr>\n",
       "  </thead>\n",
       "  <tbody>\n",
       "    <tr>\n",
       "      <th>0</th>\n",
       "      <td>139</td>\n",
       "      <td>0.091</td>\n",
       "    </tr>\n",
       "    <tr>\n",
       "      <th>1</th>\n",
       "      <td>127</td>\n",
       "      <td>0.086</td>\n",
       "    </tr>\n",
       "    <tr>\n",
       "      <th>2</th>\n",
       "      <td>144</td>\n",
       "      <td>0.082</td>\n",
       "    </tr>\n",
       "    <tr>\n",
       "      <th>3</th>\n",
       "      <td>160</td>\n",
       "      <td>0.079</td>\n",
       "    </tr>\n",
       "    <tr>\n",
       "      <th>4</th>\n",
       "      <td>193</td>\n",
       "      <td>0.082</td>\n",
       "    </tr>\n",
       "  </tbody>\n",
       "</table>\n",
       "</div>"
      ],
      "text/plain": [
       "   Rape  Unemploy_Georgia\n",
       "0   139             0.091\n",
       "1   127             0.086\n",
       "2   144             0.082\n",
       "3   160             0.079\n",
       "4   193             0.082"
      ]
     },
     "execution_count": 6,
     "metadata": {},
     "output_type": "execute_result"
    }
   ],
   "source": [
    "uac1.head()"
   ]
  },
  {
   "cell_type": "code",
   "execution_count": 7,
   "id": "2ad89d30",
   "metadata": {},
   "outputs": [
    {
     "name": "stderr",
     "output_type": "stream",
     "text": [
      "/Users/lescrone/opt/anaconda3/lib/python3.8/site-packages/seaborn/distributions.py:2557: FutureWarning: `distplot` is a deprecated function and will be removed in a future version. Please adapt your code to use either `displot` (a figure-level function with similar flexibility) or `histplot` (an axes-level function for histograms).\n",
      "  warnings.warn(msg, FutureWarning)\n"
     ]
    },
    {
     "data": {
      "text/plain": [
       "<AxesSubplot:xlabel='Rape', ylabel='Density'>"
      ]
     },
     "execution_count": 7,
     "metadata": {},
     "output_type": "execute_result"
    },
    {
     "data": {
      "image/png": "[encoded data removed]",
      "text/plain": [
       "<Figure size 432x288 with 1 Axes>"
      ]
     },
     "metadata": {
      "needs_background": "light"
     },
     "output_type": "display_data"
    }
   ],
   "source": [
    "sns.distplot(uac1['Rape'])"
   ]
  },
  {
   "cell_type": "code",
   "execution_count": 8,
   "id": "048e63ca",
   "metadata": {},
   "outputs": [
    {
     "name": "stderr",
     "output_type": "stream",
     "text": [
      "<ipython-input-8-bde40ea7d5a2>:1: SettingWithCopyWarning: \n",
      "A value is trying to be set on a copy of a slice from a DataFrame.\n",
      "Try using .loc[row_indexer,col_indexer] = value instead\n",
      "\n",
      "See the caveats in the documentation: https://pandas.pydata.org/pandas-docs/stable/user_guide/indexing.html#returning-a-view-versus-a-copy\n",
      "  uac1['RapeSQRT'] = np.sqrt(uac1['Rape'])\n"
     ]
    }
   ],
   "source": [
    "uac1['RapeSQRT'] = np.sqrt(uac1['Rape'])"
   ]
  },
  {
   "cell_type": "code",
   "execution_count": 9,
   "id": "81902ae7",
   "metadata": {},
   "outputs": [
    {
     "data": {
      "text/html": [
       "<div>\n",
       "<style scoped>\n",
       "    .dataframe tbody tr th:only-of-type {\n",
       "        vertical-align: middle;\n",
       "    }\n",
       "\n",
       "    .dataframe tbody tr th {\n",
       "        vertical-align: top;\n",
       "    }\n",
       "\n",
       "    .dataframe thead th {\n",
       "        text-align: right;\n",
       "    }\n",
       "</style>\n",
       "<table border=\"1\" class=\"dataframe\">\n",
       "  <thead>\n",
       "    <tr style=\"text-align: right;\">\n",
       "      <th></th>\n",
       "      <th>Rape</th>\n",
       "      <th>Unemploy_Georgia</th>\n",
       "      <th>RapeSQRT</th>\n",
       "    </tr>\n",
       "  </thead>\n",
       "  <tbody>\n",
       "    <tr>\n",
       "      <th>0</th>\n",
       "      <td>139</td>\n",
       "      <td>0.091</td>\n",
       "      <td>11.789826</td>\n",
       "    </tr>\n",
       "    <tr>\n",
       "      <th>1</th>\n",
       "      <td>127</td>\n",
       "      <td>0.086</td>\n",
       "      <td>11.269428</td>\n",
       "    </tr>\n",
       "    <tr>\n",
       "      <th>2</th>\n",
       "      <td>144</td>\n",
       "      <td>0.082</td>\n",
       "      <td>12.000000</td>\n",
       "    </tr>\n",
       "    <tr>\n",
       "      <th>3</th>\n",
       "      <td>160</td>\n",
       "      <td>0.079</td>\n",
       "      <td>12.649111</td>\n",
       "    </tr>\n",
       "    <tr>\n",
       "      <th>4</th>\n",
       "      <td>193</td>\n",
       "      <td>0.082</td>\n",
       "      <td>13.892444</td>\n",
       "    </tr>\n",
       "  </tbody>\n",
       "</table>\n",
       "</div>"
      ],
      "text/plain": [
       "   Rape  Unemploy_Georgia   RapeSQRT\n",
       "0   139             0.091  11.789826\n",
       "1   127             0.086  11.269428\n",
       "2   144             0.082  12.000000\n",
       "3   160             0.079  12.649111\n",
       "4   193             0.082  13.892444"
      ]
     },
     "execution_count": 9,
     "metadata": {},
     "output_type": "execute_result"
    }
   ],
   "source": [
    "uac1.head()"
   ]
  },
  {
   "cell_type": "code",
   "execution_count": 10,
   "id": "5afe80db",
   "metadata": {},
   "outputs": [
    {
     "name": "stderr",
     "output_type": "stream",
     "text": [
      "/Users/lescrone/opt/anaconda3/lib/python3.8/site-packages/seaborn/distributions.py:2557: FutureWarning: `distplot` is a deprecated function and will be removed in a future version. Please adapt your code to use either `displot` (a figure-level function with similar flexibility) or `histplot` (an axes-level function for histograms).\n",
      "  warnings.warn(msg, FutureWarning)\n"
     ]
    },
    {
     "data": {
      "text/plain": [
       "<AxesSubplot:xlabel='RapeSQRT', ylabel='Density'>"
      ]
     },
     "execution_count": 10,
     "metadata": {},
     "output_type": "execute_result"
    },
    {
     "data": {
      "image/png": "[encoded data removed]",
      "text/plain": [
       "<Figure size 432x288 with 1 Axes>"
      ]
     },
     "metadata": {
      "needs_background": "light"
     },
     "output_type": "display_data"
    }
   ],
   "source": [
    "sns.distplot(uac1['RapeSQRT'])"
   ]
  },
  {
   "cell_type": "code",
   "execution_count": 11,
   "id": "6cb62867",
   "metadata": {},
   "outputs": [
    {
     "data": {
      "text/plain": [
       "BartlettResult(statistic=267.6872675813268, pvalue=3.6221555432836095e-60)"
      ]
     },
     "execution_count": 11,
     "metadata": {},
     "output_type": "execute_result"
    }
   ],
   "source": [
    "scipy.stats.bartlett(uac1['RapeSQRT'], uac1['Unemploy_Georgia'])"
   ]
  },
  {
   "cell_type": "code",
   "execution_count": 12,
   "id": "2f34fa3d",
   "metadata": {},
   "outputs": [
    {
     "data": {
      "text/plain": [
       "FlignerResult(statistic=38.421951945951406, pvalue=5.69877518133817e-10)"
      ]
     },
     "execution_count": 12,
     "metadata": {},
     "output_type": "execute_result"
    }
   ],
   "source": [
    "scipy.stats.fligner(uac1['RapeSQRT'], uac1['Unemploy_Georgia'])"
   ]
  },
  {
   "cell_type": "markdown",
   "id": "3f144433",
   "metadata": {},
   "source": [
    "## Sample Size"
   ]
  },
  {
   "cell_type": "code",
   "execution_count": 13,
   "id": "174c26c1",
   "metadata": {},
   "outputs": [
    {
     "name": "stdout",
     "output_type": "stream",
     "text": [
      "<class 'pandas.core.frame.DataFrame'>\n",
      "Int64Index: 36 entries, 0 to 35\n",
      "Data columns (total 3 columns):\n",
      " #   Column            Non-Null Count  Dtype  \n",
      "---  ------            --------------  -----  \n",
      " 0   Rape              36 non-null     int64  \n",
      " 1   Unemploy_Georgia  36 non-null     float64\n",
      " 2   RapeSQRT          36 non-null     float64\n",
      "dtypes: float64(2), int64(1)\n",
      "memory usage: 1.1 KB\n"
     ]
    }
   ],
   "source": [
    "uac1.info()"
   ]
  },
  {
   "cell_type": "markdown",
   "id": "abd9b65d",
   "metadata": {},
   "source": [
    "## Independence"
   ]
  },
  {
   "cell_type": "markdown",
   "id": "b62136c6",
   "metadata": {},
   "source": [
    "## Analysis"
   ]
  },
  {
   "cell_type": "code",
   "execution_count": 14,
   "id": "defdd0a3",
   "metadata": {},
   "outputs": [
    {
     "data": {
      "text/plain": [
       "0.082    3\n",
       "0.057    3\n",
       "0.073    3\n",
       "0.060    2\n",
       "0.080    2\n",
       "0.054    2\n",
       "0.079    2\n",
       "0.066    2\n",
       "0.076    2\n",
       "0.064    2\n",
       "0.063    2\n",
       "0.091    1\n",
       "0.061    1\n",
       "0.062    1\n",
       "0.072    1\n",
       "0.069    1\n",
       "0.074    1\n",
       "0.067    1\n",
       "0.086    1\n",
       "0.075    1\n",
       "0.089    1\n",
       "0.088    1\n",
       "Name: Unemploy_Georgia, dtype: int64"
      ]
     },
     "execution_count": 14,
     "metadata": {},
     "output_type": "execute_result"
    }
   ],
   "source": [
    "uac1.Unemploy_Georgia.value_counts()"
   ]
  },
  {
   "cell_type": "code",
   "execution_count": 15,
   "id": "2bad9a45",
   "metadata": {},
   "outputs": [
    {
     "name": "stdout",
     "output_type": "stream",
     "text": [
      "Multiple Comparison of Means - Tukey HSD, FWER=0.05\n",
      "===================================================\n",
      "group1 group2 meandiff p-adj   lower  upper  reject\n",
      "---------------------------------------------------\n",
      " 0.054  0.057   0.8926    0.9  -2.475 4.2602  False\n",
      " 0.054   0.06   0.8384    0.9 -2.8506 4.5274  False\n",
      " 0.054  0.061  -1.0922    0.9 -5.6103 3.4258  False\n",
      " 0.054  0.062   1.1012    0.9 -3.4168 5.6193  False\n",
      " 0.054  0.063   -1.259    0.9 -4.9479   2.43  False\n",
      " 0.054  0.064   0.6364    0.9 -3.0526 4.3253  False\n",
      " 0.054  0.066  -0.0943    0.9 -3.7832 3.5947  False\n",
      " 0.054  0.067  -0.4494    0.9 -4.9675 4.0686  False\n",
      " 0.054  0.069    0.237    0.9  -4.281 4.7551  False\n",
      " 0.054  0.072   0.7118    0.9 -3.8062 5.2299  False\n",
      " 0.054  0.073  -0.9519    0.9 -4.3194 2.4157  False\n",
      " 0.054  0.074  -0.4494    0.9 -4.9675 4.0686  False\n",
      " 0.054  0.075  -1.5976    0.9 -6.1157 2.9204  False\n",
      " 0.054  0.076   1.0951    0.9 -2.5939 4.7841  False\n",
      " 0.054  0.079  -0.2966    0.9 -3.9855 3.3924  False\n",
      " 0.054   0.08   0.6246    0.9 -3.0644 4.3135  False\n",
      " 0.054  0.082  -0.1511    0.9 -3.5186 3.2165  False\n",
      " 0.054  0.086  -1.9472    0.9 -6.4652 2.5709  False\n",
      " 0.054  0.088   0.6398    0.9 -3.8782 5.1579  False\n",
      " 0.054  0.089   0.0122    0.9 -4.5059 4.5302  False\n",
      " 0.054  0.091  -1.4268    0.9 -5.9448 3.0913  False\n",
      " 0.057   0.06  -0.0542    0.9 -3.4217 3.3134  False\n",
      " 0.057  0.061  -1.9848 0.8631 -6.2445 2.2748  False\n",
      " 0.057  0.062   0.2086    0.9  -4.051 4.4683  False\n",
      " 0.057  0.063  -2.1516 0.4863 -5.5191  1.216  False\n",
      " 0.057  0.064  -0.2562    0.9 -3.6238 3.1113  False\n",
      " 0.057  0.066  -0.9869    0.9 -4.3544 2.3807  False\n",
      " 0.057  0.067   -1.342    0.9 -5.6017 2.9176  False\n",
      " 0.057  0.069  -0.6556    0.9 -4.9152 3.6041  False\n",
      " 0.057  0.072  -0.1808    0.9 -4.4405 4.0789  False\n",
      " 0.057  0.073  -1.8445 0.5436 -4.8565 1.1675  False\n",
      " 0.057  0.074   -1.342    0.9 -5.6017 2.9176  False\n",
      " 0.057  0.075  -2.4902 0.6042 -6.7499 1.7694  False\n",
      " 0.057  0.076   0.2025    0.9 -3.1651 3.5701  False\n",
      " 0.057  0.079  -1.1892    0.9 -4.5567 2.1784  False\n",
      " 0.057   0.08   -0.268    0.9 -3.6356 3.0995  False\n",
      " 0.057  0.082  -1.0437    0.9 -4.0557 1.9684  False\n",
      " 0.057  0.086  -2.8398 0.4263 -7.0994 1.4199  False\n",
      " 0.057  0.088  -0.2528    0.9 -4.5124 4.0069  False\n",
      " 0.057  0.089  -0.8804    0.9 -5.1401 3.3792  False\n",
      " 0.057  0.091  -2.3194 0.6917  -6.579 1.9403  False\n",
      "  0.06  0.061  -1.9306    0.9 -6.4487 2.5874  False\n",
      "  0.06  0.062   0.2628    0.9 -4.2552 4.7809  False\n",
      "  0.06  0.063  -2.0974 0.6392 -5.7864 1.5916  False\n",
      "  0.06  0.064   -0.202    0.9  -3.891 3.4869  False\n",
      "  0.06  0.066  -0.9327    0.9 -4.6217 2.7563  False\n",
      "  0.06  0.067  -1.2879    0.9 -5.8059 3.2302  False\n",
      "  0.06  0.069  -0.6014    0.9 -5.1194 3.9167  False\n",
      "  0.06  0.072  -0.1266    0.9 -4.6447 4.3914  False\n",
      "  0.06  0.073  -1.7903 0.7198 -5.1579 1.5773  False\n",
      "  0.06  0.074  -1.2879    0.9 -5.8059 3.2302  False\n",
      "  0.06  0.075   -2.436 0.7033 -6.9541  2.082  False\n",
      "  0.06  0.076   0.2567    0.9 -3.4323 3.9457  False\n",
      "  0.06  0.079   -1.135    0.9  -4.824  2.554  False\n",
      "  0.06   0.08  -0.2139    0.9 -3.9028 3.4751  False\n",
      "  0.06  0.082  -0.9895    0.9  -4.357 2.3781  False\n",
      "  0.06  0.086  -2.7856 0.5345 -7.3036 1.7325  False\n",
      "  0.06  0.088  -0.1986    0.9 -4.7166 4.3195  False\n",
      "  0.06  0.089  -0.8262    0.9 -5.3443 3.6918  False\n",
      "  0.06  0.091  -2.2652 0.7858 -6.7832 2.2529  False\n",
      " 0.061  0.062   2.1935    0.9 -3.0235 7.4105  False\n",
      " 0.061  0.063  -0.1668    0.9 -4.6848 4.3513  False\n",
      " 0.061  0.064   1.7286    0.9 -2.7894 6.2466  False\n",
      " 0.061  0.066   0.9979    0.9 -3.5201  5.516  False\n",
      " 0.061  0.067   0.6428    0.9 -4.5742 5.8598  False\n",
      " 0.061  0.069   1.3293    0.9 -3.8877 6.5463  False\n",
      " 0.061  0.072    1.804    0.9  -3.413  7.021  False\n",
      " 0.061  0.073   0.1403    0.9 -4.1193    4.4  False\n",
      " 0.061  0.074   0.6428    0.9 -4.5742 5.8598  False\n",
      " 0.061  0.075  -0.5054    0.9 -5.7224 4.7116  False\n",
      " 0.061  0.076   2.1873 0.8234 -2.3307 6.7054  False\n",
      " 0.061  0.079   0.7957    0.9 -3.7224 5.3137  False\n",
      " 0.061   0.08   1.7168    0.9 -2.8013 6.2348  False\n",
      " 0.061  0.082   0.9412    0.9 -3.3185 5.2008  False\n",
      " 0.061  0.086  -0.8549    0.9 -6.0719 4.3621  False\n",
      " 0.061  0.088   1.7321    0.9 -3.4849  6.949  False\n",
      " 0.061  0.089   1.1044    0.9 -4.1126 6.3214  False\n",
      " 0.061  0.091  -0.3345    0.9 -5.5515 4.8825  False\n",
      " 0.062  0.063  -2.3602 0.7399 -6.8783 2.1578  False\n",
      " 0.062  0.064  -0.4649    0.9 -4.9829 4.0532  False\n",
      " 0.062  0.066  -1.1955    0.9 -5.7136 3.3225  False\n",
      " 0.062  0.067  -1.5507    0.9 -6.7677 3.6663  False\n",
      " 0.062  0.069  -0.8642    0.9 -6.0812 4.3528  False\n",
      " 0.062  0.072  -0.3894    0.9 -5.6064 4.8276  False\n",
      " 0.062  0.073  -2.0531 0.8281 -6.3128 2.2065  False\n",
      " 0.062  0.074  -1.5507    0.9 -6.7677 3.6663  False\n",
      " 0.062  0.075  -2.6989  0.751 -7.9159 2.5181  False\n",
      " 0.062  0.076  -0.0061    0.9 -4.5242 4.5119  False\n",
      " 0.062  0.079  -1.3978    0.9 -5.9159 3.1202  False\n",
      " 0.062   0.08  -0.4767    0.9 -4.9947 4.0414  False\n",
      " 0.062  0.082  -1.2523    0.9  -5.512 3.0074  False\n",
      " 0.062  0.086  -3.0484 0.6048 -8.2654 2.1686  False\n",
      " 0.062  0.088  -0.4614    0.9 -5.6784 4.7556  False\n",
      " 0.062  0.089  -1.0891    0.9 -6.3061 4.1279  False\n",
      " 0.062  0.091   -2.528 0.8225  -7.745  2.689  False\n",
      " 0.063  0.064   1.8954 0.7587 -1.7936 5.5843  False\n",
      " 0.063  0.066   1.1647    0.9 -2.5243 4.8537  False\n",
      " 0.063  0.067   0.8095    0.9 -3.7085 5.3276  False\n",
      " 0.063  0.069    1.496    0.9  -3.022 6.0141  False\n",
      " 0.063  0.072   1.9708    0.9 -2.5473 6.4888  False\n",
      " 0.063  0.073   0.3071    0.9 -3.0605 3.6746  False\n",
      " 0.063  0.074   0.8095    0.9 -3.7085 5.3276  False\n",
      " 0.063  0.075  -0.3387    0.9 -4.8567 4.1794  False\n",
      " 0.063  0.076   2.3541  0.488 -1.3349  6.043  False\n",
      " 0.063  0.079   0.9624    0.9 -2.7266 4.6514  False\n",
      " 0.063   0.08   1.8835 0.7657 -1.8054 5.5725  False\n",
      " 0.063  0.082   1.1079    0.9 -2.2596 4.4755  False\n",
      " 0.063  0.086  -0.6882    0.9 -5.2062 3.8299  False\n",
      " 0.063  0.088   1.8988    0.9 -2.6192 6.4169  False\n",
      " 0.063  0.089   1.2712    0.9 -3.2469 5.7892  False\n",
      " 0.063  0.091  -0.1678    0.9 -4.6858 4.3503  False\n",
      " 0.064  0.066  -0.7307    0.9 -4.4196 2.9583  False\n",
      " 0.064  0.067  -1.0858    0.9 -5.6039 3.4322  False\n",
      " 0.064  0.069  -0.3993    0.9 -4.9174 4.1187  False\n",
      " 0.064  0.072   0.0754    0.9 -4.4426 4.5935  False\n",
      " 0.064  0.073  -1.5883 0.8507 -4.9558 1.7793  False\n",
      " 0.064  0.074  -1.0858    0.9 -5.6039 3.4322  False\n",
      " 0.064  0.075   -2.234 0.8009 -6.7521  2.284  False\n",
      " 0.064  0.076   0.4587    0.9 -3.2302 4.1477  False\n",
      " 0.064  0.079  -0.9329    0.9 -4.6219  2.756  False\n",
      " 0.064   0.08  -0.0118    0.9 -3.7008 3.6772  False\n",
      " 0.064  0.082  -0.7874    0.9  -4.155 2.5801  False\n",
      " 0.064  0.086  -2.5835 0.6321 -7.1016 1.9345  False\n",
      " 0.064  0.088   0.0035    0.9 -4.5146 4.5215  False\n",
      " 0.064  0.089  -0.6242    0.9 -5.1422 3.8938  False\n",
      " 0.064  0.091  -2.0631 0.8834 -6.5812 2.4549  False\n",
      " 0.066  0.067  -0.3552    0.9 -4.8732 4.1629  False\n",
      " 0.066  0.069   0.3313    0.9 -4.1867 4.8494  False\n",
      " 0.066  0.072   0.8061    0.9  -3.712 5.3241  False\n",
      " 0.066  0.073  -0.8576    0.9 -4.2252 2.5099  False\n",
      " 0.066  0.074  -0.3552    0.9 -4.8732 4.1629  False\n",
      " 0.066  0.075  -1.5033    0.9 -6.0214 3.0147  False\n",
      " 0.066  0.076   1.1894    0.9 -2.4996 4.8784  False\n",
      " 0.066  0.079  -0.2023    0.9 -3.8913 3.4867  False\n",
      " 0.066   0.08   0.7188    0.9 -2.9701 4.4078  False\n",
      " 0.066  0.082  -0.0568    0.9 -3.4243 3.3108  False\n",
      " 0.066  0.086  -1.8529    0.9 -6.3709 2.6652  False\n",
      " 0.066  0.088   0.7341    0.9 -3.7839 5.2522  False\n",
      " 0.066  0.089   0.1065    0.9 -4.4116 4.6245  False\n",
      " 0.066  0.091  -1.3325    0.9 -5.8505 3.1856  False\n",
      " 0.067  0.069   0.6865    0.9 -4.5305 5.9035  False\n",
      " 0.067  0.072   1.1612    0.9 -4.0557 6.3782  False\n",
      " 0.067  0.073  -0.5025    0.9 -4.7621 3.7572  False\n",
      " 0.067  0.074      0.0    0.9  -5.217  5.217  False\n",
      " 0.067  0.075  -1.1482    0.9 -6.3652 4.0688  False\n",
      " 0.067  0.076   1.5445    0.9 -2.9735 6.0626  False\n",
      " 0.067  0.079   0.1529    0.9 -4.3652 4.6709  False\n",
      " 0.067   0.08    1.074    0.9 -3.4441  5.592  False\n",
      " 0.067  0.082   0.2984    0.9 -3.9613  4.558  False\n",
      " 0.067  0.086  -1.4977    0.9 -6.7147 3.7193  False\n",
      " 0.067  0.088   1.0893    0.9 -4.1277 6.3063  False\n",
      " 0.067  0.089   0.4616    0.9 -4.7554 5.6786  False\n",
      " 0.067  0.091  -0.9773    0.9 -6.1943 4.2397  False\n",
      " 0.069  0.072   0.4748    0.9 -4.7422 5.6918  False\n",
      " 0.069  0.073  -1.1889    0.9 -5.4486 3.0707  False\n",
      " 0.069  0.074  -0.6865    0.9 -5.9035 4.5305  False\n",
      " 0.069  0.075  -1.8347    0.9 -7.0517 3.3823  False\n",
      " 0.069  0.076   0.8581    0.9   -3.66 5.3761  False\n",
      " 0.069  0.079  -0.5336    0.9 -5.0517 3.9844  False\n",
      " 0.069   0.08   0.3875    0.9 -4.1305 4.9056  False\n",
      " 0.069  0.082  -0.3881    0.9 -4.6478 3.8716  False\n",
      " 0.069  0.086  -2.1842    0.9 -7.4012 3.0328  False\n",
      " 0.069  0.088   0.4028    0.9 -4.8142 5.6198  False\n",
      " 0.069  0.089  -0.2249    0.9 -5.4419 4.9921  False\n",
      " 0.069  0.091  -1.6638    0.9 -6.8808 3.5532  False\n",
      " 0.072  0.073  -1.6637    0.9 -5.9233  2.596  False\n",
      " 0.072  0.074  -1.1612    0.9 -6.3782 4.0557  False\n",
      " 0.072  0.075  -2.3094    0.9 -7.5264 2.9076  False\n",
      " 0.072  0.076   0.3833    0.9 -4.1348 4.9013  False\n",
      " 0.072  0.079  -1.0084    0.9 -5.5264 3.5097  False\n",
      " 0.072   0.08  -0.0872    0.9 -4.6053 4.4308  False\n",
      " 0.072  0.082  -0.8629    0.9 -5.1225 3.3968  False\n",
      " 0.072  0.086   -2.659 0.7677  -7.876  2.558  False\n",
      " 0.072  0.088   -0.072    0.9  -5.289  5.145  False\n",
      " 0.072  0.089  -0.6996    0.9 -5.9166 4.5174  False\n",
      " 0.072  0.091  -2.1386    0.9 -7.3556 3.0784  False\n",
      " 0.073  0.074   0.5025    0.9 -3.7572 4.7621  False\n",
      " 0.073  0.075  -0.6457    0.9 -4.9054 3.6139  False\n",
      " 0.073  0.076    2.047 0.5535 -1.3206 5.4145  False\n",
      " 0.073  0.079   0.6553    0.9 -2.7122 4.0229  False\n",
      " 0.073   0.08   1.5764 0.8583 -1.7911  4.944  False\n",
      " 0.073  0.082   0.8008    0.9 -2.2112 3.8129  False\n",
      " 0.073  0.086  -0.9953    0.9 -5.2549 3.2644  False\n",
      " 0.073  0.088   1.5917    0.9 -2.6679 5.8514  False\n",
      " 0.073  0.089   0.9641    0.9 -3.2956 5.2237  False\n",
      " 0.073  0.091  -0.4749    0.9 -4.7345 3.7848  False\n",
      " 0.074  0.075  -1.1482    0.9 -6.3652 4.0688  False\n",
      " 0.074  0.076   1.5445    0.9 -2.9735 6.0626  False\n",
      " 0.074  0.079   0.1529    0.9 -4.3652 4.6709  False\n",
      " 0.074   0.08    1.074    0.9 -3.4441  5.592  False\n",
      " 0.074  0.082   0.2984    0.9 -3.9613  4.558  False\n",
      " 0.074  0.086  -1.4977    0.9 -6.7147 3.7193  False\n",
      " 0.074  0.088   1.0893    0.9 -4.1277 6.3063  False\n",
      " 0.074  0.089   0.4616    0.9 -4.7554 5.6786  False\n",
      " 0.074  0.091  -0.9773    0.9 -6.1943 4.2397  False\n",
      " 0.075  0.076   2.6927 0.5794 -1.8253 7.2108  False\n",
      " 0.075  0.079   1.3011    0.9  -3.217 5.8191  False\n",
      " 0.075   0.08   2.2222 0.8066 -2.2959 6.7402  False\n",
      " 0.075  0.082   1.4466    0.9 -2.8131 5.7062  False\n",
      " 0.075  0.086  -0.3495    0.9 -5.5665 4.8675  False\n",
      " 0.075  0.088   2.2375    0.9 -2.9795 7.4544  False\n",
      " 0.075  0.089   1.6098    0.9 -3.6072 6.8268  False\n",
      " 0.075  0.091   0.1709    0.9 -5.0461 5.3879  False\n",
      " 0.076  0.079  -1.3917    0.9 -5.0806 2.2973  False\n",
      " 0.076   0.08  -0.4705    0.9 -4.1595 3.2184  False\n",
      " 0.076  0.082  -1.2462    0.9 -4.6137 2.1214  False\n",
      " 0.076  0.086  -3.0423 0.4117 -7.5603 1.4758  False\n",
      " 0.076  0.088  -0.4553    0.9 -4.9733 4.0628  False\n",
      " 0.076  0.089  -1.0829    0.9  -5.601 3.4351  False\n",
      " 0.076  0.091  -2.5219 0.6619 -7.0399 1.9962  False\n",
      " 0.079   0.08   0.9211    0.9 -2.7678 4.6101  False\n",
      " 0.079  0.082   0.1455    0.9  -3.222 3.5131  False\n",
      " 0.079  0.086  -1.6506    0.9 -6.1686 2.8675  False\n",
      " 0.079  0.088   0.9364    0.9 -3.5816 5.4544  False\n",
      " 0.079  0.089   0.3087    0.9 -4.2093 4.8268  False\n",
      " 0.079  0.091  -1.1302    0.9 -5.6482 3.3879  False\n",
      "  0.08  0.082  -0.7756    0.9 -4.1432 2.5919  False\n",
      "  0.08  0.086  -2.5717 0.6378 -7.0898 1.9463  False\n",
      "  0.08  0.088   0.0153    0.9 -4.5028 4.5333  False\n",
      "  0.08  0.089  -0.6124    0.9 -5.1304 3.9057  False\n",
      "  0.08  0.091  -2.0513 0.8891 -6.5694 2.4667  False\n",
      " 0.082  0.086  -1.7961    0.9 -6.0558 2.4636  False\n",
      " 0.082  0.088   0.7909    0.9 -3.4688 5.0505  False\n",
      " 0.082  0.089   0.1632    0.9 -4.0964 4.4229  False\n",
      " 0.082  0.091  -1.2757    0.9 -5.5354  2.984  False\n",
      " 0.086  0.088    2.587 0.7978   -2.63  7.804  False\n",
      " 0.086  0.089   1.9593    0.9 -3.2577 7.1763  False\n",
      " 0.086  0.091   0.5204    0.9 -4.6966 5.7374  False\n",
      " 0.088  0.089  -0.6276    0.9 -5.8446 4.5893  False\n",
      " 0.088  0.091  -2.0666    0.9 -7.2836 3.1504  False\n",
      " 0.089  0.091  -1.4389    0.9 -6.6559 3.7781  False\n",
      "---------------------------------------------------\n"
     ]
    }
   ],
   "source": [
    "postHoc = MultiComparison(uac1['RapeSQRT'], uac1['Unemploy_Georgia'])\n",
    "postHocResults = postHoc.tukeyhsd()\n",
    "print(postHocResults)"
   ]
  },
  {
   "cell_type": "code",
   "execution_count": 16,
   "id": "ad278ed9",
   "metadata": {},
   "outputs": [
    {
     "data": {
      "text/html": [
       "<div>\n",
       "<style scoped>\n",
       "    .dataframe tbody tr th:only-of-type {\n",
       "        vertical-align: middle;\n",
       "    }\n",
       "\n",
       "    .dataframe tbody tr th {\n",
       "        vertical-align: top;\n",
       "    }\n",
       "\n",
       "    .dataframe thead th {\n",
       "        text-align: right;\n",
       "    }\n",
       "</style>\n",
       "<table border=\"1\" class=\"dataframe\">\n",
       "  <thead>\n",
       "    <tr style=\"text-align: right;\">\n",
       "      <th></th>\n",
       "      <th>Rape</th>\n",
       "      <th>RapeSQRT</th>\n",
       "    </tr>\n",
       "    <tr>\n",
       "      <th>Unemploy_Georgia</th>\n",
       "      <th></th>\n",
       "      <th></th>\n",
       "    </tr>\n",
       "  </thead>\n",
       "  <tbody>\n",
       "    <tr>\n",
       "      <th>0.054</th>\n",
       "      <td>175.000000</td>\n",
       "      <td>13.216580</td>\n",
       "    </tr>\n",
       "    <tr>\n",
       "      <th>0.057</th>\n",
       "      <td>199.333333</td>\n",
       "      <td>14.109183</td>\n",
       "    </tr>\n",
       "    <tr>\n",
       "      <th>0.060</th>\n",
       "      <td>198.500000</td>\n",
       "      <td>14.054997</td>\n",
       "    </tr>\n",
       "    <tr>\n",
       "      <th>0.061</th>\n",
       "      <td>147.000000</td>\n",
       "      <td>12.124356</td>\n",
       "    </tr>\n",
       "    <tr>\n",
       "      <th>0.062</th>\n",
       "      <td>205.000000</td>\n",
       "      <td>14.317821</td>\n",
       "    </tr>\n",
       "    <tr>\n",
       "      <th>0.063</th>\n",
       "      <td>143.000000</td>\n",
       "      <td>11.957603</td>\n",
       "    </tr>\n",
       "    <tr>\n",
       "      <th>0.064</th>\n",
       "      <td>193.000000</td>\n",
       "      <td>13.852956</td>\n",
       "    </tr>\n",
       "    <tr>\n",
       "      <th>0.066</th>\n",
       "      <td>172.500000</td>\n",
       "      <td>13.122300</td>\n",
       "    </tr>\n",
       "    <tr>\n",
       "      <th>0.067</th>\n",
       "      <td>163.000000</td>\n",
       "      <td>12.767145</td>\n",
       "    </tr>\n",
       "    <tr>\n",
       "      <th>0.069</th>\n",
       "      <td>181.000000</td>\n",
       "      <td>13.453624</td>\n",
       "    </tr>\n",
       "    <tr>\n",
       "      <th>0.072</th>\n",
       "      <td>194.000000</td>\n",
       "      <td>13.928388</td>\n",
       "    </tr>\n",
       "    <tr>\n",
       "      <th>0.073</th>\n",
       "      <td>150.666667</td>\n",
       "      <td>12.264695</td>\n",
       "    </tr>\n",
       "    <tr>\n",
       "      <th>0.074</th>\n",
       "      <td>163.000000</td>\n",
       "      <td>12.767145</td>\n",
       "    </tr>\n",
       "    <tr>\n",
       "      <th>0.075</th>\n",
       "      <td>135.000000</td>\n",
       "      <td>11.618950</td>\n",
       "    </tr>\n",
       "    <tr>\n",
       "      <th>0.076</th>\n",
       "      <td>205.000000</td>\n",
       "      <td>14.311682</td>\n",
       "    </tr>\n",
       "    <tr>\n",
       "      <th>0.079</th>\n",
       "      <td>167.000000</td>\n",
       "      <td>12.920008</td>\n",
       "    </tr>\n",
       "    <tr>\n",
       "      <th>0.080</th>\n",
       "      <td>192.000000</td>\n",
       "      <td>13.841141</td>\n",
       "    </tr>\n",
       "    <tr>\n",
       "      <th>0.082</th>\n",
       "      <td>171.333333</td>\n",
       "      <td>13.065526</td>\n",
       "    </tr>\n",
       "    <tr>\n",
       "      <th>0.086</th>\n",
       "      <td>127.000000</td>\n",
       "      <td>11.269428</td>\n",
       "    </tr>\n",
       "    <tr>\n",
       "      <th>0.088</th>\n",
       "      <td>192.000000</td>\n",
       "      <td>13.856406</td>\n",
       "    </tr>\n",
       "    <tr>\n",
       "      <th>0.089</th>\n",
       "      <td>175.000000</td>\n",
       "      <td>13.228757</td>\n",
       "    </tr>\n",
       "    <tr>\n",
       "      <th>0.091</th>\n",
       "      <td>139.000000</td>\n",
       "      <td>11.789826</td>\n",
       "    </tr>\n",
       "  </tbody>\n",
       "</table>\n",
       "</div>"
      ],
      "text/plain": [
       "                        Rape   RapeSQRT\n",
       "Unemploy_Georgia                       \n",
       "0.054             175.000000  13.216580\n",
       "0.057             199.333333  14.109183\n",
       "0.060             198.500000  14.054997\n",
       "0.061             147.000000  12.124356\n",
       "0.062             205.000000  14.317821\n",
       "0.063             143.000000  11.957603\n",
       "0.064             193.000000  13.852956\n",
       "0.066             172.500000  13.122300\n",
       "0.067             163.000000  12.767145\n",
       "0.069             181.000000  13.453624\n",
       "0.072             194.000000  13.928388\n",
       "0.073             150.666667  12.264695\n",
       "0.074             163.000000  12.767145\n",
       "0.075             135.000000  11.618950\n",
       "0.076             205.000000  14.311682\n",
       "0.079             167.000000  12.920008\n",
       "0.080             192.000000  13.841141\n",
       "0.082             171.333333  13.065526\n",
       "0.086             127.000000  11.269428\n",
       "0.088             192.000000  13.856406\n",
       "0.089             175.000000  13.228757\n",
       "0.091             139.000000  11.789826"
      ]
     },
     "execution_count": 16,
     "metadata": {},
     "output_type": "execute_result"
    }
   ],
   "source": [
    "uac1.groupby('Unemploy_Georgia').mean()"
   ]
  },
  {
   "cell_type": "code",
   "execution_count": null,
   "id": "f37c290e",
   "metadata": {},
   "outputs": [],
   "source": []
  }
 ],
 "metadata": {
  "kernelspec": {
   "display_name": "Python 3",
   "language": "python",
   "name": "python3"
  },
  "language_info": {
   "codemirror_mode": {
    "name": "ipython",
    "version": 3
   },
   "file_extension": ".py",
   "mimetype": "text/x-python",
   "name": "python",
   "nbconvert_exporter": "python",
   "pygments_lexer": "ipython3",
   "version": "3.8.8"
  }
 },
 "nbformat": 4,
 "nbformat_minor": 5
}
