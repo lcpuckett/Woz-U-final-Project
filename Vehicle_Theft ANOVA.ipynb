{
 "cells": [
  {
   "cell_type": "code",
   "execution_count": 1,
   "id": "70dc4ac0",
   "metadata": {},
   "outputs": [],
   "source": [
    "import pandas as pd\n",
    "import numpy as np\n",
    "import scipy\n",
    "from scipy import stats\n",
    "from statsmodels.stats.multicomp import pairwise_tukeyhsd\n",
    "from statsmodels.stats.multicomp import MultiComparison\n",
    "import seaborn as sns"
   ]
  },
  {
   "cell_type": "code",
   "execution_count": 2,
   "id": "7657002b",
   "metadata": {},
   "outputs": [],
   "source": [
    "uac9 = pd.read_csv(\"Unemployment and Crime.csv\")"
   ]
  },
  {
   "cell_type": "code",
   "execution_count": 3,
   "id": "486f3e5f",
   "metadata": {},
   "outputs": [],
   "source": [
    "uac10 = uac9[['Vehicle_Theft', 'Unemploy_Georgia']]"
   ]
  },
  {
   "cell_type": "code",
   "execution_count": 4,
   "id": "cf6ce13b",
   "metadata": {},
   "outputs": [
    {
     "data": {
      "text/html": [
       "<div>\n",
       "<style scoped>\n",
       "    .dataframe tbody tr th:only-of-type {\n",
       "        vertical-align: middle;\n",
       "    }\n",
       "\n",
       "    .dataframe tbody tr th {\n",
       "        vertical-align: top;\n",
       "    }\n",
       "\n",
       "    .dataframe thead th {\n",
       "        text-align: right;\n",
       "    }\n",
       "</style>\n",
       "<table border=\"1\" class=\"dataframe\">\n",
       "  <thead>\n",
       "    <tr style=\"text-align: right;\">\n",
       "      <th></th>\n",
       "      <th>Vehicle_Theft</th>\n",
       "      <th>Unemploy_Georgia</th>\n",
       "    </tr>\n",
       "  </thead>\n",
       "  <tbody>\n",
       "    <tr>\n",
       "      <th>0</th>\n",
       "      <td>2418</td>\n",
       "      <td>0.091</td>\n",
       "    </tr>\n",
       "    <tr>\n",
       "      <th>1</th>\n",
       "      <td>1872</td>\n",
       "      <td>0.086</td>\n",
       "    </tr>\n",
       "    <tr>\n",
       "      <th>2</th>\n",
       "      <td>2129</td>\n",
       "      <td>0.082</td>\n",
       "    </tr>\n",
       "    <tr>\n",
       "      <th>3</th>\n",
       "      <td>2035</td>\n",
       "      <td>0.079</td>\n",
       "    </tr>\n",
       "    <tr>\n",
       "      <th>4</th>\n",
       "      <td>2105</td>\n",
       "      <td>0.082</td>\n",
       "    </tr>\n",
       "  </tbody>\n",
       "</table>\n",
       "</div>"
      ],
      "text/plain": [
       "   Vehicle_Theft  Unemploy_Georgia\n",
       "0           2418             0.091\n",
       "1           1872             0.086\n",
       "2           2129             0.082\n",
       "3           2035             0.079\n",
       "4           2105             0.082"
      ]
     },
     "execution_count": 4,
     "metadata": {},
     "output_type": "execute_result"
    }
   ],
   "source": [
    "uac10.head()"
   ]
  },
  {
   "cell_type": "markdown",
   "id": "467be2a1",
   "metadata": {},
   "source": [
    "## Assumptions"
   ]
  },
  {
   "cell_type": "code",
   "execution_count": 5,
   "id": "2260d47d",
   "metadata": {},
   "outputs": [
    {
     "name": "stderr",
     "output_type": "stream",
     "text": [
      "<ipython-input-5-3a093342c43d>:1: SettingWithCopyWarning: \n",
      "A value is trying to be set on a copy of a slice from a DataFrame\n",
      "\n",
      "See the caveats in the documentation: https://pandas.pydata.org/pandas-docs/stable/user_guide/indexing.html#returning-a-view-versus-a-copy\n",
      "  uac10.dropna(inplace = True)\n"
     ]
    }
   ],
   "source": [
    "uac10.dropna(inplace = True)"
   ]
  },
  {
   "cell_type": "code",
   "execution_count": 6,
   "id": "256240c9",
   "metadata": {},
   "outputs": [
    {
     "name": "stderr",
     "output_type": "stream",
     "text": [
      "/Users/lescrone/opt/anaconda3/lib/python3.8/site-packages/seaborn/distributions.py:2557: FutureWarning: `distplot` is a deprecated function and will be removed in a future version. Please adapt your code to use either `displot` (a figure-level function with similar flexibility) or `histplot` (an axes-level function for histograms).\n",
      "  warnings.warn(msg, FutureWarning)\n"
     ]
    },
    {
     "data": {
      "text/plain": [
       "<AxesSubplot:xlabel='Vehicle_Theft', ylabel='Density'>"
      ]
     },
     "execution_count": 6,
     "metadata": {},
     "output_type": "execute_result"
    },
    {
     "data": {
      "image/png": "[encoded data removed]",
      "text/plain": [
       "<Figure size 432x288 with 1 Axes>"
      ]
     },
     "metadata": {
      "needs_background": "light"
     },
     "output_type": "display_data"
    }
   ],
   "source": [
    "sns.distplot(uac10['Vehicle_Theft'])"
   ]
  },
  {
   "cell_type": "code",
   "execution_count": 7,
   "id": "e6a88e5c",
   "metadata": {},
   "outputs": [
    {
     "name": "stderr",
     "output_type": "stream",
     "text": [
      "<ipython-input-7-e999a65c7bef>:1: SettingWithCopyWarning: \n",
      "A value is trying to be set on a copy of a slice from a DataFrame.\n",
      "Try using .loc[row_indexer,col_indexer] = value instead\n",
      "\n",
      "See the caveats in the documentation: https://pandas.pydata.org/pandas-docs/stable/user_guide/indexing.html#returning-a-view-versus-a-copy\n",
      "  uac10['Vehicle_TheftSQRT'] = np.sqrt(uac10['Vehicle_Theft'])\n"
     ]
    }
   ],
   "source": [
    "uac10['Vehicle_TheftSQRT'] = np.sqrt(uac10['Vehicle_Theft'])"
   ]
  },
  {
   "cell_type": "code",
   "execution_count": 8,
   "id": "7245a73e",
   "metadata": {},
   "outputs": [
    {
     "data": {
      "text/html": [
       "<div>\n",
       "<style scoped>\n",
       "    .dataframe tbody tr th:only-of-type {\n",
       "        vertical-align: middle;\n",
       "    }\n",
       "\n",
       "    .dataframe tbody tr th {\n",
       "        vertical-align: top;\n",
       "    }\n",
       "\n",
       "    .dataframe thead th {\n",
       "        text-align: right;\n",
       "    }\n",
       "</style>\n",
       "<table border=\"1\" class=\"dataframe\">\n",
       "  <thead>\n",
       "    <tr style=\"text-align: right;\">\n",
       "      <th></th>\n",
       "      <th>Vehicle_Theft</th>\n",
       "      <th>Unemploy_Georgia</th>\n",
       "      <th>Vehicle_TheftSQRT</th>\n",
       "    </tr>\n",
       "  </thead>\n",
       "  <tbody>\n",
       "    <tr>\n",
       "      <th>0</th>\n",
       "      <td>2418</td>\n",
       "      <td>0.091</td>\n",
       "      <td>49.173163</td>\n",
       "    </tr>\n",
       "    <tr>\n",
       "      <th>1</th>\n",
       "      <td>1872</td>\n",
       "      <td>0.086</td>\n",
       "      <td>43.266615</td>\n",
       "    </tr>\n",
       "    <tr>\n",
       "      <th>2</th>\n",
       "      <td>2129</td>\n",
       "      <td>0.082</td>\n",
       "      <td>46.141088</td>\n",
       "    </tr>\n",
       "    <tr>\n",
       "      <th>3</th>\n",
       "      <td>2035</td>\n",
       "      <td>0.079</td>\n",
       "      <td>45.110974</td>\n",
       "    </tr>\n",
       "    <tr>\n",
       "      <th>4</th>\n",
       "      <td>2105</td>\n",
       "      <td>0.082</td>\n",
       "      <td>45.880279</td>\n",
       "    </tr>\n",
       "  </tbody>\n",
       "</table>\n",
       "</div>"
      ],
      "text/plain": [
       "   Vehicle_Theft  Unemploy_Georgia  Vehicle_TheftSQRT\n",
       "0           2418             0.091          49.173163\n",
       "1           1872             0.086          43.266615\n",
       "2           2129             0.082          46.141088\n",
       "3           2035             0.079          45.110974\n",
       "4           2105             0.082          45.880279"
      ]
     },
     "execution_count": 8,
     "metadata": {},
     "output_type": "execute_result"
    }
   ],
   "source": [
    "uac10.head()"
   ]
  },
  {
   "cell_type": "code",
   "execution_count": 9,
   "id": "6993ad8f",
   "metadata": {},
   "outputs": [
    {
     "name": "stderr",
     "output_type": "stream",
     "text": [
      "/Users/lescrone/opt/anaconda3/lib/python3.8/site-packages/seaborn/distributions.py:2557: FutureWarning: `distplot` is a deprecated function and will be removed in a future version. Please adapt your code to use either `displot` (a figure-level function with similar flexibility) or `histplot` (an axes-level function for histograms).\n",
      "  warnings.warn(msg, FutureWarning)\n"
     ]
    },
    {
     "data": {
      "text/plain": [
       "<AxesSubplot:xlabel='Vehicle_TheftSQRT', ylabel='Density'>"
      ]
     },
     "execution_count": 9,
     "metadata": {},
     "output_type": "execute_result"
    },
    {
     "data": {
      "image/png": "[encoded data removed]",
      "text/plain": [
       "<Figure size 432x288 with 1 Axes>"
      ]
     },
     "metadata": {
      "needs_background": "light"
     },
     "output_type": "display_data"
    }
   ],
   "source": [
    "sns.distplot(uac10['Vehicle_TheftSQRT'])"
   ]
  },
  {
   "cell_type": "code",
   "execution_count": 10,
   "id": "8eb2c092",
   "metadata": {},
   "outputs": [
    {
     "data": {
      "text/plain": [
       "BartlettResult(statistic=321.39433303578045, pvalue=7.197594055392667e-72)"
      ]
     },
     "execution_count": 10,
     "metadata": {},
     "output_type": "execute_result"
    }
   ],
   "source": [
    "scipy.stats.bartlett(uac10['Vehicle_TheftSQRT'], uac10['Unemploy_Georgia'])"
   ]
  },
  {
   "cell_type": "code",
   "execution_count": 11,
   "id": "a4568e4c",
   "metadata": {},
   "outputs": [
    {
     "data": {
      "text/plain": [
       "FlignerResult(statistic=42.869661272367054, pvalue=5.851106167362601e-11)"
      ]
     },
     "execution_count": 11,
     "metadata": {},
     "output_type": "execute_result"
    }
   ],
   "source": [
    "scipy.stats.fligner(uac10['Vehicle_TheftSQRT'], uac10['Unemploy_Georgia'])"
   ]
  },
  {
   "cell_type": "markdown",
   "id": "d1f8ef0b",
   "metadata": {},
   "source": [
    "## Sample"
   ]
  },
  {
   "cell_type": "code",
   "execution_count": 12,
   "id": "2e11a228",
   "metadata": {},
   "outputs": [
    {
     "name": "stdout",
     "output_type": "stream",
     "text": [
      "<class 'pandas.core.frame.DataFrame'>\n",
      "Int64Index: 36 entries, 0 to 35\n",
      "Data columns (total 3 columns):\n",
      " #   Column             Non-Null Count  Dtype  \n",
      "---  ------             --------------  -----  \n",
      " 0   Vehicle_Theft      36 non-null     int64  \n",
      " 1   Unemploy_Georgia   36 non-null     float64\n",
      " 2   Vehicle_TheftSQRT  36 non-null     float64\n",
      "dtypes: float64(2), int64(1)\n",
      "memory usage: 1.1 KB\n"
     ]
    }
   ],
   "source": [
    "uac10.info()"
   ]
  },
  {
   "cell_type": "markdown",
   "id": "c898a57c",
   "metadata": {},
   "source": [
    "## Independence"
   ]
  },
  {
   "cell_type": "code",
   "execution_count": 13,
   "id": "080916ed",
   "metadata": {},
   "outputs": [
    {
     "data": {
      "text/plain": [
       "0.082    3\n",
       "0.057    3\n",
       "0.073    3\n",
       "0.060    2\n",
       "0.080    2\n",
       "0.054    2\n",
       "0.079    2\n",
       "0.066    2\n",
       "0.076    2\n",
       "0.064    2\n",
       "0.063    2\n",
       "0.091    1\n",
       "0.061    1\n",
       "0.062    1\n",
       "0.072    1\n",
       "0.069    1\n",
       "0.074    1\n",
       "0.067    1\n",
       "0.086    1\n",
       "0.075    1\n",
       "0.089    1\n",
       "0.088    1\n",
       "Name: Unemploy_Georgia, dtype: int64"
      ]
     },
     "execution_count": 13,
     "metadata": {},
     "output_type": "execute_result"
    }
   ],
   "source": [
    "uac10.Unemploy_Georgia.value_counts()"
   ]
  },
  {
   "cell_type": "code",
   "execution_count": 14,
   "id": "5852b8fe",
   "metadata": {},
   "outputs": [
    {
     "name": "stdout",
     "output_type": "stream",
     "text": [
      " Multiple Comparison of Means - Tukey HSD, FWER=0.05 \n",
      "=====================================================\n",
      "group1 group2 meandiff p-adj   lower    upper  reject\n",
      "-----------------------------------------------------\n",
      " 0.054  0.057   1.5293    0.9  -5.5019  8.5605  False\n",
      " 0.054   0.06   3.3315    0.9  -4.3707 11.0338  False\n",
      " 0.054  0.061   2.8512    0.9  -6.5821 12.2845  False\n",
      " 0.054  0.062   2.8726    0.9  -6.5607 12.3058  False\n",
      " 0.054  0.063   0.8478    0.9  -6.8544    8.55  False\n",
      " 0.054  0.064   5.1663 0.4174  -2.5359 12.8686  False\n",
      " 0.054  0.066   2.8775    0.9  -4.8247 10.5798  False\n",
      " 0.054  0.067   2.9473    0.9   -6.486 12.3806  False\n",
      " 0.054  0.069   5.5423 0.5978   -3.891 14.9756  False\n",
      " 0.054  0.072    3.814    0.9  -5.6193 13.2473  False\n",
      " 0.054  0.073   1.3278    0.9  -5.7034  8.3589  False\n",
      " 0.054  0.074   4.8501 0.7579  -4.5832 14.2834  False\n",
      " 0.054  0.075   -0.589    0.9 -10.0223  8.8443  False\n",
      " 0.054  0.076   3.7262 0.8242   -3.976 11.4285  False\n",
      " 0.054  0.079   1.6523    0.9  -6.0499  9.3546  False\n",
      " 0.054   0.08   4.7962 0.5211   -2.906 12.4985  False\n",
      " 0.054  0.082   3.0209    0.9  -4.0102 10.0521  False\n",
      " 0.054  0.086  -0.6583    0.9 -10.0915   8.775  False\n",
      " 0.054  0.088   7.5824 0.1903  -1.8509 17.0157  False\n",
      " 0.054  0.089   4.6035  0.815  -4.8298 14.0367  False\n",
      " 0.054  0.091   5.2483 0.6658   -4.185 14.6816  False\n",
      " 0.057   0.06   1.8022    0.9  -5.2289  8.8334  False\n",
      " 0.057  0.061   1.3219    0.9  -7.5719 10.2157  False\n",
      " 0.057  0.062   1.3433    0.9  -7.5505  10.237  False\n",
      " 0.057  0.063  -0.6815    0.9  -7.7127  6.3497  False\n",
      " 0.057  0.064    3.637 0.7511  -3.3941 10.6682  False\n",
      " 0.057  0.066   1.3482    0.9  -5.6829  8.3794  False\n",
      " 0.057  0.067    1.418    0.9  -7.4758 10.3118  False\n",
      " 0.057  0.069    4.013 0.8953  -4.8808 12.9068  False\n",
      " 0.057  0.072   2.2847    0.9  -6.6091 11.1785  False\n",
      " 0.057  0.073  -0.2015    0.9  -6.4904  6.0873  False\n",
      " 0.057  0.074   3.3208    0.9   -5.573 12.2146  False\n",
      " 0.057  0.075  -2.1183    0.9 -11.0121  6.7755  False\n",
      " 0.057  0.076   2.1969    0.9  -4.8342  9.2281  False\n",
      " 0.057  0.079    0.123    0.9  -6.9081  7.1542  False\n",
      " 0.057   0.08   3.2669  0.866  -3.7642 10.2981  False\n",
      " 0.057  0.082   1.4916    0.9  -4.7972  7.7805  False\n",
      " 0.057  0.086  -2.1876    0.9 -11.0813  6.7062  False\n",
      " 0.057  0.088   6.0531  0.396  -2.8407 14.9469  False\n",
      " 0.057  0.089   3.0742    0.9  -5.8196  11.968  False\n",
      " 0.057  0.091    3.719    0.9  -5.1748 12.6128  False\n",
      "  0.06  0.061  -0.4804    0.9  -9.9136  8.9529  False\n",
      "  0.06  0.062   -0.459    0.9  -9.8923  8.9743  False\n",
      "  0.06  0.063  -2.4837    0.9  -10.186  5.2185  False\n",
      "  0.06  0.064   1.8348    0.9  -5.8675   9.537  False\n",
      "  0.06  0.066   -0.454    0.9  -8.1563  7.2482  False\n",
      "  0.06  0.067  -0.3842    0.9  -9.8175   9.049  False\n",
      "  0.06  0.069   2.2107    0.9  -7.2225  11.644  False\n",
      "  0.06  0.072   0.4825    0.9  -8.9508  9.9157  False\n",
      "  0.06  0.073  -2.0038    0.9  -9.0349  5.0274  False\n",
      "  0.06  0.074   1.5186    0.9  -7.9147 10.9519  False\n",
      "  0.06  0.075  -3.9205    0.9 -13.3538  5.5128  False\n",
      "  0.06  0.076   0.3947    0.9  -7.3075   8.097  False\n",
      "  0.06  0.079  -1.6792    0.9  -9.3814   6.023  False\n",
      "  0.06   0.08   1.4647    0.9  -6.2376  9.1669  False\n",
      "  0.06  0.082  -0.3106    0.9  -7.3418  6.7205  False\n",
      "  0.06  0.086  -3.9898    0.9 -13.4231  5.4435  False\n",
      "  0.06  0.088   4.2509 0.8965  -5.1824 13.6841  False\n",
      "  0.06  0.089   1.2719    0.9  -8.1614 10.7052  False\n",
      "  0.06  0.091   1.9168    0.9  -7.5165   11.35  False\n",
      " 0.061  0.062   0.0214    0.9 -10.8712  10.914  False\n",
      " 0.061  0.063  -2.0034    0.9 -11.4367  7.4299  False\n",
      " 0.061  0.064   2.3151    0.9  -7.1182 11.7484  False\n",
      " 0.061  0.066   0.0263    0.9  -9.4069  9.4596  False\n",
      " 0.061  0.067   0.0961    0.9 -10.7965 10.9887  False\n",
      " 0.061  0.069   2.6911    0.9  -8.2015 13.5837  False\n",
      " 0.061  0.072   0.9628    0.9  -9.9298 11.8554  False\n",
      " 0.061  0.073  -1.5234    0.9 -10.4172  7.3704  False\n",
      " 0.061  0.074   1.9989    0.9  -8.8937 12.8915  False\n",
      " 0.061  0.075  -3.4402    0.9 -14.3328  7.4524  False\n",
      " 0.061  0.076   0.8751    0.9  -8.5582 10.3083  False\n",
      " 0.061  0.079  -1.1988    0.9 -10.6321  8.2344  False\n",
      " 0.061   0.08    1.945    0.9  -7.4883 11.3783  False\n",
      " 0.061  0.082   0.1697    0.9  -8.7241  9.0635  False\n",
      " 0.061  0.086  -3.5094    0.9 -14.4021  7.3832  False\n",
      " 0.061  0.088   4.7312    0.9  -6.1614 15.6238  False\n",
      " 0.061  0.089   1.7523    0.9  -9.1403 12.6449  False\n",
      " 0.061  0.091   2.3971    0.9  -8.4955 13.2897  False\n",
      " 0.062  0.063  -2.0248    0.9  -11.458  7.4085  False\n",
      " 0.062  0.064   2.2938    0.9  -7.1395  11.727  False\n",
      " 0.062  0.066    0.005    0.9  -9.4283  9.4382  False\n",
      " 0.062  0.067   0.0747    0.9 -10.8179 10.9673  False\n",
      " 0.062  0.069   2.6697    0.9  -8.2229 13.5623  False\n",
      " 0.062  0.072   0.9414    0.9  -9.9512 11.8341  False\n",
      " 0.062  0.073  -1.5448    0.9 -10.4386   7.349  False\n",
      " 0.062  0.074   1.9776    0.9  -8.9151 12.8702  False\n",
      " 0.062  0.075  -3.4615    0.9 -14.3542  7.4311  False\n",
      " 0.062  0.076   0.8537    0.9  -8.5796  10.287  False\n",
      " 0.062  0.079  -1.2202    0.9 -10.6535  8.2131  False\n",
      " 0.062   0.08   1.9236    0.9  -7.5096 11.3569  False\n",
      " 0.062  0.082   0.1483    0.9  -8.7454  9.0421  False\n",
      " 0.062  0.086  -3.5308    0.9 -14.4234  7.3618  False\n",
      " 0.062  0.088   4.7098    0.9  -6.1828 15.6025  False\n",
      " 0.062  0.089   1.7309    0.9  -9.1617 12.6235  False\n",
      " 0.062  0.091   2.3757    0.9  -8.5169 13.2683  False\n",
      " 0.063  0.064   4.3185 0.6564  -3.3837 12.0208  False\n",
      " 0.063  0.066   2.0297    0.9  -5.6725   9.732  False\n",
      " 0.063  0.067   2.0995    0.9  -7.3338 11.5328  False\n",
      " 0.063  0.069   4.6945 0.7939  -4.7388 14.1278  False\n",
      " 0.063  0.072   2.9662    0.9  -6.4671 12.3995  False\n",
      " 0.063  0.073     0.48    0.9  -6.5512  7.5111  False\n",
      " 0.063  0.074   4.0023    0.9   -5.431 13.4356  False\n",
      " 0.063  0.075  -1.4368    0.9 -10.8701  7.9965  False\n",
      " 0.063  0.076   2.8785    0.9  -4.8238 10.5807  False\n",
      " 0.063  0.079   0.8045    0.9  -6.8977  8.5068  False\n",
      " 0.063   0.08   3.9484 0.7612  -3.7538 11.6507  False\n",
      " 0.063  0.082   2.1731    0.9   -4.858  9.2043  False\n",
      " 0.063  0.086  -1.5061    0.9 -10.9393  7.9272  False\n",
      " 0.063  0.088   6.7346 0.3276  -2.6987 16.1679  False\n",
      " 0.063  0.089   3.7557    0.9  -5.6776  13.189  False\n",
      " 0.063  0.091   4.4005 0.8619  -5.0328 13.8338  False\n",
      " 0.064  0.066  -2.2888    0.9   -9.991  5.4134  False\n",
      " 0.064  0.067   -2.219    0.9 -11.6523  7.2143  False\n",
      " 0.064  0.069    0.376    0.9  -9.0573  9.8093  False\n",
      " 0.064  0.072  -1.3523    0.9 -10.7856   8.081  False\n",
      " 0.064  0.073  -3.8385 0.6886 -10.8697  3.1926  False\n",
      " 0.064  0.074  -0.3162    0.9  -9.7495  9.1171  False\n",
      " 0.064  0.075  -5.7553 0.5486 -15.1886   3.678  False\n",
      " 0.064  0.076  -1.4401    0.9  -9.1423  6.2622  False\n",
      " 0.064  0.079   -3.514 0.8843 -11.2162  4.1883  False\n",
      " 0.064   0.08  -0.3701    0.9  -8.0723  7.3321  False\n",
      " 0.064  0.082  -2.1454    0.9  -9.1766  4.8857  False\n",
      " 0.064  0.086  -5.8246 0.5325 -15.2579  3.6087  False\n",
      " 0.064  0.088   2.4161    0.9  -7.0172 11.8494  False\n",
      " 0.064  0.089  -0.5628    0.9  -9.9961  8.8704  False\n",
      " 0.064  0.091    0.082    0.9  -9.3513  9.5153  False\n",
      " 0.066  0.067   0.0698    0.9  -9.3635  9.5031  False\n",
      " 0.066  0.069   2.6648    0.9  -6.7685  12.098  False\n",
      " 0.066  0.072   0.9365    0.9  -8.4968 10.3698  False\n",
      " 0.066  0.073  -1.5498    0.9  -8.5809  5.4814  False\n",
      " 0.066  0.074   1.9726    0.9  -7.4607 11.4059  False\n",
      " 0.066  0.075  -3.4665    0.9 -12.8998  5.9668  False\n",
      " 0.066  0.076   0.8487    0.9  -6.8535   8.551  False\n",
      " 0.066  0.079  -1.2252    0.9  -8.9274  6.4771  False\n",
      " 0.066   0.08   1.9187    0.9  -5.7836  9.6209  False\n",
      " 0.066  0.082   0.1434    0.9  -6.8878  7.1745  False\n",
      " 0.066  0.086  -3.5358    0.9 -12.9691  5.8975  False\n",
      " 0.066  0.088   4.7049 0.7915  -4.7284 14.1382  False\n",
      " 0.066  0.089   1.7259    0.9  -7.7073 11.1592  False\n",
      " 0.066  0.091   2.3708    0.9  -7.0625  11.804  False\n",
      " 0.067  0.069    2.595    0.9  -8.2976 13.4876  False\n",
      " 0.067  0.072   0.8667    0.9 -10.0259 11.7593  False\n",
      " 0.067  0.073  -1.6195    0.9 -10.5133  7.2743  False\n",
      " 0.067  0.074   1.9028    0.9  -8.9898 12.7954  False\n",
      " 0.067  0.075  -3.5363    0.9 -14.4289  7.3563  False\n",
      " 0.067  0.076    0.779    0.9  -8.6543 10.2122  False\n",
      " 0.067  0.079   -1.295    0.9 -10.7282  8.1383  False\n",
      " 0.067   0.08   1.8489    0.9  -7.5844 11.2822  False\n",
      " 0.067  0.082   0.0736    0.9  -8.8202  8.9674  False\n",
      " 0.067  0.086  -3.6056    0.9 -14.4982  7.2871  False\n",
      " 0.067  0.088   4.6351    0.9  -6.2575 15.5277  False\n",
      " 0.067  0.089   1.6562    0.9  -9.2364 12.5488  False\n",
      " 0.067  0.091    2.301    0.9  -8.5916 13.1936  False\n",
      " 0.069  0.072  -1.7283    0.9 -12.6209  9.1643  False\n",
      " 0.069  0.073  -4.2145 0.8458 -13.1083  4.6793  False\n",
      " 0.069  0.074  -0.6922    0.9 -11.5848 10.2004  False\n",
      " 0.069  0.075  -6.1313 0.6516 -17.0239  4.7614  False\n",
      " 0.069  0.076   -1.816    0.9 -11.2493  7.6172  False\n",
      " 0.069  0.079  -3.8899    0.9 -13.3232  5.5433  False\n",
      " 0.069   0.08  -0.7461    0.9 -10.1794  8.6872  False\n",
      " 0.069  0.082  -2.5214    0.9 -11.4152  6.3724  False\n",
      " 0.069  0.086  -6.2005 0.6377 -17.0932  4.6921  False\n",
      " 0.069  0.088   2.0401    0.9  -8.8525 12.9327  False\n",
      " 0.069  0.089  -0.9388    0.9 -11.8314  9.9538  False\n",
      " 0.069  0.091   -0.294    0.9 -11.1866 10.5986  False\n",
      " 0.072  0.073  -2.4862    0.9   -11.38  6.4076  False\n",
      " 0.072  0.074   1.0361    0.9  -9.8565 11.9287  False\n",
      " 0.072  0.075   -4.403    0.9 -15.2956  6.4896  False\n",
      " 0.072  0.076  -0.0877    0.9   -9.521  9.3455  False\n",
      " 0.072  0.079  -2.1617    0.9 -11.5949  7.2716  False\n",
      " 0.072   0.08   0.9822    0.9  -8.4511 10.4155  False\n",
      " 0.072  0.082  -0.7931    0.9  -9.6869  8.1007  False\n",
      " 0.072  0.086  -4.4723    0.9 -15.3649  6.4204  False\n",
      " 0.072  0.088   3.7684    0.9  -7.1242  14.661  False\n",
      " 0.072  0.089   0.7895    0.9 -10.1031 11.6821  False\n",
      " 0.072  0.091   1.4343    0.9  -9.4583 12.3269  False\n",
      " 0.073  0.074   3.5223    0.9  -5.3714 12.4161  False\n",
      " 0.073  0.075  -1.9167    0.9 -10.8105   6.977  False\n",
      " 0.073  0.076   2.3985    0.9  -4.6327  9.4296  False\n",
      " 0.073  0.079   0.3246    0.9  -6.7066  7.3557  False\n",
      " 0.073   0.08   3.4684 0.8034  -3.5627 10.4996  False\n",
      " 0.073  0.082   1.6931    0.9  -4.5957   7.982  False\n",
      " 0.073  0.086   -1.986    0.9 -10.8798  6.9078  False\n",
      " 0.073  0.088   6.2546 0.3485  -2.6391 15.1484  False\n",
      " 0.073  0.089   3.2757    0.9  -5.6181 12.1695  False\n",
      " 0.073  0.091   3.9205    0.9  -4.9733 12.8143  False\n",
      " 0.074  0.075  -5.4391 0.7902 -16.3317  5.4535  False\n",
      " 0.074  0.076  -1.1239    0.9 -10.5572  8.3094  False\n",
      " 0.074  0.079  -3.1978    0.9 -12.6311  6.2355  False\n",
      " 0.074   0.08  -0.0539    0.9  -9.4872  9.3794  False\n",
      " 0.074  0.082  -1.8292    0.9  -10.723  7.0646  False\n",
      " 0.074  0.086  -5.5084 0.7764  -16.401  5.3842  False\n",
      " 0.074  0.088   2.7323    0.9  -8.1603 13.6249  False\n",
      " 0.074  0.089  -0.2467    0.9 -11.1393  10.646  False\n",
      " 0.074  0.091   0.3982    0.9 -10.4944 11.2908  False\n",
      " 0.075  0.076   4.3152 0.8816  -5.1181 13.7485  False\n",
      " 0.075  0.079   2.2413    0.9   -7.192 11.6746  False\n",
      " 0.075   0.08   5.3852 0.6342  -4.0481 14.8185  False\n",
      " 0.075  0.082   3.6099    0.9  -5.2839 12.5037  False\n",
      " 0.075  0.086  -0.0693    0.9 -10.9619 10.8233  False\n",
      " 0.075  0.088   8.1714 0.2654  -2.7212  19.064  False\n",
      " 0.075  0.089   5.1924 0.8397  -5.7002 16.0851  False\n",
      " 0.075  0.091   5.8373 0.7105  -5.0553 16.7299  False\n",
      " 0.076  0.079  -2.0739    0.9  -9.7761  5.6283  False\n",
      " 0.076   0.08     1.07    0.9  -6.6323  8.7722  False\n",
      " 0.076  0.082  -0.7053    0.9  -7.7365  6.3258  False\n",
      " 0.076  0.086  -4.3845 0.8656 -13.8178  5.0488  False\n",
      " 0.076  0.088   3.8562    0.9  -5.5771 13.2894  False\n",
      " 0.076  0.089   0.8772    0.9  -8.5561 10.3105  False\n",
      " 0.076  0.091    1.522    0.9  -7.9112 10.9553  False\n",
      " 0.079   0.08   3.1439    0.9  -4.5584 10.8461  False\n",
      " 0.079  0.082   1.3686    0.9  -5.6626  8.3997  False\n",
      " 0.079  0.086  -2.3106    0.9 -11.7439  7.1227  False\n",
      " 0.079  0.088   5.9301 0.5081  -3.5032 15.3633  False\n",
      " 0.079  0.089   2.9511    0.9  -6.4822 12.3844  False\n",
      " 0.079  0.091   3.5959    0.9  -5.8373 13.0292  False\n",
      "  0.08  0.082  -1.7753    0.9  -8.8065  5.2558  False\n",
      "  0.08  0.086  -5.4545 0.6181 -14.8878  3.9788  False\n",
      "  0.08  0.088   2.7862    0.9  -6.6471 12.2195  False\n",
      "  0.08  0.089  -0.1927    0.9   -9.626  9.2405  False\n",
      "  0.08  0.091   0.4521    0.9  -8.9812  9.8854  False\n",
      " 0.082  0.086  -3.6792    0.9  -12.573  5.2146  False\n",
      " 0.082  0.088   4.5615 0.7607  -4.3323 13.4553  False\n",
      " 0.082  0.089   1.5826    0.9  -7.3112 10.4763  False\n",
      " 0.082  0.091   2.2274    0.9  -6.6664 11.1212  False\n",
      " 0.086  0.088   8.2407 0.2554  -2.6519 19.1333  False\n",
      " 0.086  0.089   5.2617 0.8258  -5.6309 16.1543  False\n",
      " 0.086  0.091   5.9065 0.6966  -4.9861 16.7992  False\n",
      " 0.088  0.089  -2.9789    0.9 -13.8716  7.9137  False\n",
      " 0.088  0.091  -2.3341    0.9 -13.2267  8.5585  False\n",
      " 0.089  0.091   0.6448    0.9 -10.2478 11.5374  False\n",
      "-----------------------------------------------------\n"
     ]
    }
   ],
   "source": [
    "postHoc = MultiComparison(uac10['Vehicle_TheftSQRT'], uac10['Unemploy_Georgia'])\n",
    "postHocResults = postHoc.tukeyhsd()\n",
    "print(postHocResults)"
   ]
  },
  {
   "cell_type": "code",
   "execution_count": 15,
   "id": "7fe30654",
   "metadata": {},
   "outputs": [
    {
     "data": {
      "text/html": [
       "<div>\n",
       "<style scoped>\n",
       "    .dataframe tbody tr th:only-of-type {\n",
       "        vertical-align: middle;\n",
       "    }\n",
       "\n",
       "    .dataframe tbody tr th {\n",
       "        vertical-align: top;\n",
       "    }\n",
       "\n",
       "    .dataframe thead th {\n",
       "        text-align: right;\n",
       "    }\n",
       "</style>\n",
       "<table border=\"1\" class=\"dataframe\">\n",
       "  <thead>\n",
       "    <tr style=\"text-align: right;\">\n",
       "      <th></th>\n",
       "      <th>Vehicle_Theft</th>\n",
       "      <th>Vehicle_TheftSQRT</th>\n",
       "    </tr>\n",
       "    <tr>\n",
       "      <th>Unemploy_Georgia</th>\n",
       "      <th></th>\n",
       "      <th></th>\n",
       "    </tr>\n",
       "  </thead>\n",
       "  <tbody>\n",
       "    <tr>\n",
       "      <th>0.054</th>\n",
       "      <td>1929.500000</td>\n",
       "      <td>43.924876</td>\n",
       "    </tr>\n",
       "    <tr>\n",
       "      <th>0.057</th>\n",
       "      <td>2068.000000</td>\n",
       "      <td>45.454174</td>\n",
       "    </tr>\n",
       "    <tr>\n",
       "      <th>0.060</th>\n",
       "      <td>2237.000000</td>\n",
       "      <td>47.256413</td>\n",
       "    </tr>\n",
       "    <tr>\n",
       "      <th>0.061</th>\n",
       "      <td>2188.000000</td>\n",
       "      <td>46.776062</td>\n",
       "    </tr>\n",
       "    <tr>\n",
       "      <th>0.062</th>\n",
       "      <td>2190.000000</td>\n",
       "      <td>46.797436</td>\n",
       "    </tr>\n",
       "    <tr>\n",
       "      <th>0.063</th>\n",
       "      <td>2009.000000</td>\n",
       "      <td>44.772672</td>\n",
       "    </tr>\n",
       "    <tr>\n",
       "      <th>0.064</th>\n",
       "      <td>2410.000000</td>\n",
       "      <td>49.091192</td>\n",
       "    </tr>\n",
       "    <tr>\n",
       "      <th>0.066</th>\n",
       "      <td>2192.000000</td>\n",
       "      <td>46.802396</td>\n",
       "    </tr>\n",
       "    <tr>\n",
       "      <th>0.067</th>\n",
       "      <td>2197.000000</td>\n",
       "      <td>46.872167</td>\n",
       "    </tr>\n",
       "    <tr>\n",
       "      <th>0.069</th>\n",
       "      <td>2447.000000</td>\n",
       "      <td>49.467161</td>\n",
       "    </tr>\n",
       "    <tr>\n",
       "      <th>0.072</th>\n",
       "      <td>2279.000000</td>\n",
       "      <td>47.738873</td>\n",
       "    </tr>\n",
       "    <tr>\n",
       "      <th>0.073</th>\n",
       "      <td>2048.666667</td>\n",
       "      <td>45.252645</td>\n",
       "    </tr>\n",
       "    <tr>\n",
       "      <th>0.074</th>\n",
       "      <td>2379.000000</td>\n",
       "      <td>48.774994</td>\n",
       "    </tr>\n",
       "    <tr>\n",
       "      <th>0.075</th>\n",
       "      <td>1878.000000</td>\n",
       "      <td>43.335897</td>\n",
       "    </tr>\n",
       "    <tr>\n",
       "      <th>0.076</th>\n",
       "      <td>2271.000000</td>\n",
       "      <td>47.651124</td>\n",
       "    </tr>\n",
       "    <tr>\n",
       "      <th>0.079</th>\n",
       "      <td>2077.500000</td>\n",
       "      <td>45.577216</td>\n",
       "    </tr>\n",
       "    <tr>\n",
       "      <th>0.080</th>\n",
       "      <td>2378.500000</td>\n",
       "      <td>48.721086</td>\n",
       "    </tr>\n",
       "    <tr>\n",
       "      <th>0.082</th>\n",
       "      <td>2205.666667</td>\n",
       "      <td>46.945783</td>\n",
       "    </tr>\n",
       "    <tr>\n",
       "      <th>0.086</th>\n",
       "      <td>1872.000000</td>\n",
       "      <td>43.266615</td>\n",
       "    </tr>\n",
       "    <tr>\n",
       "      <th>0.088</th>\n",
       "      <td>2653.000000</td>\n",
       "      <td>51.507281</td>\n",
       "    </tr>\n",
       "    <tr>\n",
       "      <th>0.089</th>\n",
       "      <td>2355.000000</td>\n",
       "      <td>48.528342</td>\n",
       "    </tr>\n",
       "    <tr>\n",
       "      <th>0.091</th>\n",
       "      <td>2418.000000</td>\n",
       "      <td>49.173163</td>\n",
       "    </tr>\n",
       "  </tbody>\n",
       "</table>\n",
       "</div>"
      ],
      "text/plain": [
       "                  Vehicle_Theft  Vehicle_TheftSQRT\n",
       "Unemploy_Georgia                                  \n",
       "0.054               1929.500000          43.924876\n",
       "0.057               2068.000000          45.454174\n",
       "0.060               2237.000000          47.256413\n",
       "0.061               2188.000000          46.776062\n",
       "0.062               2190.000000          46.797436\n",
       "0.063               2009.000000          44.772672\n",
       "0.064               2410.000000          49.091192\n",
       "0.066               2192.000000          46.802396\n",
       "0.067               2197.000000          46.872167\n",
       "0.069               2447.000000          49.467161\n",
       "0.072               2279.000000          47.738873\n",
       "0.073               2048.666667          45.252645\n",
       "0.074               2379.000000          48.774994\n",
       "0.075               1878.000000          43.335897\n",
       "0.076               2271.000000          47.651124\n",
       "0.079               2077.500000          45.577216\n",
       "0.080               2378.500000          48.721086\n",
       "0.082               2205.666667          46.945783\n",
       "0.086               1872.000000          43.266615\n",
       "0.088               2653.000000          51.507281\n",
       "0.089               2355.000000          48.528342\n",
       "0.091               2418.000000          49.173163"
      ]
     },
     "execution_count": 15,
     "metadata": {},
     "output_type": "execute_result"
    }
   ],
   "source": [
    "uac10.groupby('Unemploy_Georgia').mean()"
   ]
  },
  {
   "cell_type": "code",
   "execution_count": null,
   "id": "a9c05d24",
   "metadata": {},
   "outputs": [],
   "source": []
  }
 ],
 "metadata": {
  "kernelspec": {
   "display_name": "Python 3",
   "language": "python",
   "name": "python3"
  },
  "language_info": {
   "codemirror_mode": {
    "name": "ipython",
    "version": 3
   },
   "file_extension": ".py",
   "mimetype": "text/x-python",
   "name": "python",
   "nbconvert_exporter": "python",
   "pygments_lexer": "ipython3",
   "version": "3.8.8"
  }
 },
 "nbformat": 4,
 "nbformat_minor": 5
}
